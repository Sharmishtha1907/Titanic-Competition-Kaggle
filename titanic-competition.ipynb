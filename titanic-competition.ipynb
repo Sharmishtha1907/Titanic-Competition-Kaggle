{
 "cells": [
  {
   "cell_type": "markdown",
   "id": "81f79587",
   "metadata": {
    "papermill": {
     "duration": 0.045004,
     "end_time": "2022-09-03T20:05:14.930273",
     "exception": false,
     "start_time": "2022-09-03T20:05:14.885269",
     "status": "completed"
    },
    "tags": []
   },
   "source": [
    "# Import Libraries"
   ]
  },
  {
   "cell_type": "code",
   "execution_count": 1,
   "id": "3724268d",
   "metadata": {
    "_cell_guid": "b1076dfc-b9ad-4769-8c92-a6c4dae69d19",
    "_uuid": "8f2839f25d086af736a60e9eeb907d3b93b6e0e5",
    "execution": {
     "iopub.execute_input": "2022-09-03T20:05:14.987741Z",
     "iopub.status.busy": "2022-09-03T20:05:14.986745Z",
     "iopub.status.idle": "2022-09-03T20:05:16.116834Z",
     "shell.execute_reply": "2022-09-03T20:05:16.115751Z"
    },
    "papermill": {
     "duration": 1.16142,
     "end_time": "2022-09-03T20:05:16.119699",
     "exception": false,
     "start_time": "2022-09-03T20:05:14.958279",
     "status": "completed"
    },
    "tags": []
   },
   "outputs": [],
   "source": [
    "#data processing\n",
    "import pandas as pd\n",
    "import numpy as np\n",
    "import missingno\n",
    "from collections import Counter"
   ]
  },
  {
   "cell_type": "code",
   "execution_count": 2,
   "id": "72c2d955",
   "metadata": {
    "execution": {
     "iopub.execute_input": "2022-09-03T20:05:16.171308Z",
     "iopub.status.busy": "2022-09-03T20:05:16.170156Z",
     "iopub.status.idle": "2022-09-03T20:05:16.611648Z",
     "shell.execute_reply": "2022-09-03T20:05:16.610100Z"
    },
    "papermill": {
     "duration": 0.470078,
     "end_time": "2022-09-03T20:05:16.614460",
     "exception": false,
     "start_time": "2022-09-03T20:05:16.144382",
     "status": "completed"
    },
    "tags": []
   },
   "outputs": [],
   "source": [
    "#Machine learning models \n",
    "from sklearn.linear_model import LogisticRegression\n",
    "from sklearn.linear_model import Perceptron\n",
    "from sklearn.linear_model import SGDClassifier\n",
    "from sklearn.svm import SVC, LinearSVC\n",
    "from sklearn.ensemble import RandomForestClassifier\n",
    "from sklearn.neighbors import KNeighborsClassifier\n",
    "from sklearn.naive_bayes import GaussianNB\n",
    "from sklearn.tree import DecisionTreeClassifier\n",
    "\n"
   ]
  },
  {
   "cell_type": "code",
   "execution_count": 3,
   "id": "faa40a93",
   "metadata": {
    "execution": {
     "iopub.execute_input": "2022-09-03T20:05:16.666341Z",
     "iopub.status.busy": "2022-09-03T20:05:16.665671Z",
     "iopub.status.idle": "2022-09-03T20:05:16.670462Z",
     "shell.execute_reply": "2022-09-03T20:05:16.669572Z"
    },
    "papermill": {
     "duration": 0.033142,
     "end_time": "2022-09-03T20:05:16.672594",
     "exception": false,
     "start_time": "2022-09-03T20:05:16.639452",
     "status": "completed"
    },
    "tags": []
   },
   "outputs": [],
   "source": [
    "#model evaluation and hyperparameter tuning\n",
    "from sklearn.model_selection import cross_val_score\n",
    "from sklearn.model_selection import GridSearchCV\n"
   ]
  },
  {
   "cell_type": "code",
   "execution_count": 4,
   "id": "c7e2d3c7",
   "metadata": {
    "execution": {
     "iopub.execute_input": "2022-09-03T20:05:16.724289Z",
     "iopub.status.busy": "2022-09-03T20:05:16.723334Z",
     "iopub.status.idle": "2022-09-03T20:05:16.727907Z",
     "shell.execute_reply": "2022-09-03T20:05:16.726959Z"
    },
    "papermill": {
     "duration": 0.032863,
     "end_time": "2022-09-03T20:05:16.730326",
     "exception": false,
     "start_time": "2022-09-03T20:05:16.697463",
     "status": "completed"
    },
    "tags": []
   },
   "outputs": [],
   "source": [
    "#data visualisation\n",
    "import seaborn as sns\n",
    "import matplotlib.pyplot as plt"
   ]
  },
  {
   "cell_type": "code",
   "execution_count": 5,
   "id": "86ab793e",
   "metadata": {
    "execution": {
     "iopub.execute_input": "2022-09-03T20:05:16.781055Z",
     "iopub.status.busy": "2022-09-03T20:05:16.780641Z",
     "iopub.status.idle": "2022-09-03T20:05:16.785800Z",
     "shell.execute_reply": "2022-09-03T20:05:16.784688Z"
    },
    "papermill": {
     "duration": 0.033233,
     "end_time": "2022-09-03T20:05:16.788117",
     "exception": false,
     "start_time": "2022-09-03T20:05:16.754884",
     "status": "completed"
    },
    "tags": []
   },
   "outputs": [],
   "source": [
    "import warnings \n",
    "warnings.filterwarnings('ignore')"
   ]
  },
  {
   "cell_type": "markdown",
   "id": "08816c87",
   "metadata": {
    "papermill": {
     "duration": 0.02424,
     "end_time": "2022-09-03T20:05:16.837407",
     "exception": false,
     "start_time": "2022-09-03T20:05:16.813167",
     "status": "completed"
    },
    "tags": []
   },
   "source": [
    "# Data processing"
   ]
  },
  {
   "cell_type": "code",
   "execution_count": 6,
   "id": "9e30ef70",
   "metadata": {
    "execution": {
     "iopub.execute_input": "2022-09-03T20:05:16.888086Z",
     "iopub.status.busy": "2022-09-03T20:05:16.887701Z",
     "iopub.status.idle": "2022-09-03T20:05:16.914153Z",
     "shell.execute_reply": "2022-09-03T20:05:16.912944Z"
    },
    "papermill": {
     "duration": 0.054888,
     "end_time": "2022-09-03T20:05:16.916850",
     "exception": false,
     "start_time": "2022-09-03T20:05:16.861962",
     "status": "completed"
    },
    "tags": []
   },
   "outputs": [],
   "source": [
    "test=pd.read_csv('../input/titanic/test.csv')\n",
    "train=pd.read_csv('../input/titanic/train.csv')"
   ]
  },
  {
   "cell_type": "code",
   "execution_count": 7,
   "id": "7c121572",
   "metadata": {
    "execution": {
     "iopub.execute_input": "2022-09-03T20:05:16.968310Z",
     "iopub.status.busy": "2022-09-03T20:05:16.967895Z",
     "iopub.status.idle": "2022-09-03T20:05:16.994048Z",
     "shell.execute_reply": "2022-09-03T20:05:16.992725Z"
    },
    "papermill": {
     "duration": 0.054809,
     "end_time": "2022-09-03T20:05:16.996653",
     "exception": false,
     "start_time": "2022-09-03T20:05:16.941844",
     "status": "completed"
    },
    "tags": []
   },
   "outputs": [
    {
     "data": {
      "text/html": [
       "<div>\n",
       "<style scoped>\n",
       "    .dataframe tbody tr th:only-of-type {\n",
       "        vertical-align: middle;\n",
       "    }\n",
       "\n",
       "    .dataframe tbody tr th {\n",
       "        vertical-align: top;\n",
       "    }\n",
       "\n",
       "    .dataframe thead th {\n",
       "        text-align: right;\n",
       "    }\n",
       "</style>\n",
       "<table border=\"1\" class=\"dataframe\">\n",
       "  <thead>\n",
       "    <tr style=\"text-align: right;\">\n",
       "      <th></th>\n",
       "      <th>PassengerId</th>\n",
       "      <th>Survived</th>\n",
       "      <th>Pclass</th>\n",
       "      <th>Name</th>\n",
       "      <th>Sex</th>\n",
       "      <th>Age</th>\n",
       "      <th>SibSp</th>\n",
       "      <th>Parch</th>\n",
       "      <th>Ticket</th>\n",
       "      <th>Fare</th>\n",
       "      <th>Cabin</th>\n",
       "      <th>Embarked</th>\n",
       "    </tr>\n",
       "  </thead>\n",
       "  <tbody>\n",
       "    <tr>\n",
       "      <th>0</th>\n",
       "      <td>1</td>\n",
       "      <td>0</td>\n",
       "      <td>3</td>\n",
       "      <td>Braund, Mr. Owen Harris</td>\n",
       "      <td>male</td>\n",
       "      <td>22.0</td>\n",
       "      <td>1</td>\n",
       "      <td>0</td>\n",
       "      <td>A/5 21171</td>\n",
       "      <td>7.2500</td>\n",
       "      <td>NaN</td>\n",
       "      <td>S</td>\n",
       "    </tr>\n",
       "    <tr>\n",
       "      <th>1</th>\n",
       "      <td>2</td>\n",
       "      <td>1</td>\n",
       "      <td>1</td>\n",
       "      <td>Cumings, Mrs. John Bradley (Florence Briggs Th...</td>\n",
       "      <td>female</td>\n",
       "      <td>38.0</td>\n",
       "      <td>1</td>\n",
       "      <td>0</td>\n",
       "      <td>PC 17599</td>\n",
       "      <td>71.2833</td>\n",
       "      <td>C85</td>\n",
       "      <td>C</td>\n",
       "    </tr>\n",
       "    <tr>\n",
       "      <th>2</th>\n",
       "      <td>3</td>\n",
       "      <td>1</td>\n",
       "      <td>3</td>\n",
       "      <td>Heikkinen, Miss. Laina</td>\n",
       "      <td>female</td>\n",
       "      <td>26.0</td>\n",
       "      <td>0</td>\n",
       "      <td>0</td>\n",
       "      <td>STON/O2. 3101282</td>\n",
       "      <td>7.9250</td>\n",
       "      <td>NaN</td>\n",
       "      <td>S</td>\n",
       "    </tr>\n",
       "    <tr>\n",
       "      <th>3</th>\n",
       "      <td>4</td>\n",
       "      <td>1</td>\n",
       "      <td>1</td>\n",
       "      <td>Futrelle, Mrs. Jacques Heath (Lily May Peel)</td>\n",
       "      <td>female</td>\n",
       "      <td>35.0</td>\n",
       "      <td>1</td>\n",
       "      <td>0</td>\n",
       "      <td>113803</td>\n",
       "      <td>53.1000</td>\n",
       "      <td>C123</td>\n",
       "      <td>S</td>\n",
       "    </tr>\n",
       "    <tr>\n",
       "      <th>4</th>\n",
       "      <td>5</td>\n",
       "      <td>0</td>\n",
       "      <td>3</td>\n",
       "      <td>Allen, Mr. William Henry</td>\n",
       "      <td>male</td>\n",
       "      <td>35.0</td>\n",
       "      <td>0</td>\n",
       "      <td>0</td>\n",
       "      <td>373450</td>\n",
       "      <td>8.0500</td>\n",
       "      <td>NaN</td>\n",
       "      <td>S</td>\n",
       "    </tr>\n",
       "  </tbody>\n",
       "</table>\n",
       "</div>"
      ],
      "text/plain": [
       "   PassengerId  Survived  Pclass  \\\n",
       "0            1         0       3   \n",
       "1            2         1       1   \n",
       "2            3         1       3   \n",
       "3            4         1       1   \n",
       "4            5         0       3   \n",
       "\n",
       "                                                Name     Sex   Age  SibSp  \\\n",
       "0                            Braund, Mr. Owen Harris    male  22.0      1   \n",
       "1  Cumings, Mrs. John Bradley (Florence Briggs Th...  female  38.0      1   \n",
       "2                             Heikkinen, Miss. Laina  female  26.0      0   \n",
       "3       Futrelle, Mrs. Jacques Heath (Lily May Peel)  female  35.0      1   \n",
       "4                           Allen, Mr. William Henry    male  35.0      0   \n",
       "\n",
       "   Parch            Ticket     Fare Cabin Embarked  \n",
       "0      0         A/5 21171   7.2500   NaN        S  \n",
       "1      0          PC 17599  71.2833   C85        C  \n",
       "2      0  STON/O2. 3101282   7.9250   NaN        S  \n",
       "3      0            113803  53.1000  C123        S  \n",
       "4      0            373450   8.0500   NaN        S  "
      ]
     },
     "execution_count": 7,
     "metadata": {},
     "output_type": "execute_result"
    }
   ],
   "source": [
    "train.head()"
   ]
  },
  {
   "cell_type": "code",
   "execution_count": 8,
   "id": "417bd6d1",
   "metadata": {
    "execution": {
     "iopub.execute_input": "2022-09-03T20:05:17.048888Z",
     "iopub.status.busy": "2022-09-03T20:05:17.048122Z",
     "iopub.status.idle": "2022-09-03T20:05:17.064255Z",
     "shell.execute_reply": "2022-09-03T20:05:17.063078Z"
    },
    "papermill": {
     "duration": 0.044994,
     "end_time": "2022-09-03T20:05:17.066539",
     "exception": false,
     "start_time": "2022-09-03T20:05:17.021545",
     "status": "completed"
    },
    "tags": []
   },
   "outputs": [
    {
     "data": {
      "text/html": [
       "<div>\n",
       "<style scoped>\n",
       "    .dataframe tbody tr th:only-of-type {\n",
       "        vertical-align: middle;\n",
       "    }\n",
       "\n",
       "    .dataframe tbody tr th {\n",
       "        vertical-align: top;\n",
       "    }\n",
       "\n",
       "    .dataframe thead th {\n",
       "        text-align: right;\n",
       "    }\n",
       "</style>\n",
       "<table border=\"1\" class=\"dataframe\">\n",
       "  <thead>\n",
       "    <tr style=\"text-align: right;\">\n",
       "      <th></th>\n",
       "      <th>PassengerId</th>\n",
       "      <th>Pclass</th>\n",
       "      <th>Name</th>\n",
       "      <th>Sex</th>\n",
       "      <th>Age</th>\n",
       "      <th>SibSp</th>\n",
       "      <th>Parch</th>\n",
       "      <th>Ticket</th>\n",
       "      <th>Fare</th>\n",
       "      <th>Cabin</th>\n",
       "      <th>Embarked</th>\n",
       "    </tr>\n",
       "  </thead>\n",
       "  <tbody>\n",
       "    <tr>\n",
       "      <th>0</th>\n",
       "      <td>892</td>\n",
       "      <td>3</td>\n",
       "      <td>Kelly, Mr. James</td>\n",
       "      <td>male</td>\n",
       "      <td>34.5</td>\n",
       "      <td>0</td>\n",
       "      <td>0</td>\n",
       "      <td>330911</td>\n",
       "      <td>7.8292</td>\n",
       "      <td>NaN</td>\n",
       "      <td>Q</td>\n",
       "    </tr>\n",
       "    <tr>\n",
       "      <th>1</th>\n",
       "      <td>893</td>\n",
       "      <td>3</td>\n",
       "      <td>Wilkes, Mrs. James (Ellen Needs)</td>\n",
       "      <td>female</td>\n",
       "      <td>47.0</td>\n",
       "      <td>1</td>\n",
       "      <td>0</td>\n",
       "      <td>363272</td>\n",
       "      <td>7.0000</td>\n",
       "      <td>NaN</td>\n",
       "      <td>S</td>\n",
       "    </tr>\n",
       "    <tr>\n",
       "      <th>2</th>\n",
       "      <td>894</td>\n",
       "      <td>2</td>\n",
       "      <td>Myles, Mr. Thomas Francis</td>\n",
       "      <td>male</td>\n",
       "      <td>62.0</td>\n",
       "      <td>0</td>\n",
       "      <td>0</td>\n",
       "      <td>240276</td>\n",
       "      <td>9.6875</td>\n",
       "      <td>NaN</td>\n",
       "      <td>Q</td>\n",
       "    </tr>\n",
       "    <tr>\n",
       "      <th>3</th>\n",
       "      <td>895</td>\n",
       "      <td>3</td>\n",
       "      <td>Wirz, Mr. Albert</td>\n",
       "      <td>male</td>\n",
       "      <td>27.0</td>\n",
       "      <td>0</td>\n",
       "      <td>0</td>\n",
       "      <td>315154</td>\n",
       "      <td>8.6625</td>\n",
       "      <td>NaN</td>\n",
       "      <td>S</td>\n",
       "    </tr>\n",
       "    <tr>\n",
       "      <th>4</th>\n",
       "      <td>896</td>\n",
       "      <td>3</td>\n",
       "      <td>Hirvonen, Mrs. Alexander (Helga E Lindqvist)</td>\n",
       "      <td>female</td>\n",
       "      <td>22.0</td>\n",
       "      <td>1</td>\n",
       "      <td>1</td>\n",
       "      <td>3101298</td>\n",
       "      <td>12.2875</td>\n",
       "      <td>NaN</td>\n",
       "      <td>S</td>\n",
       "    </tr>\n",
       "  </tbody>\n",
       "</table>\n",
       "</div>"
      ],
      "text/plain": [
       "   PassengerId  Pclass                                          Name     Sex  \\\n",
       "0          892       3                              Kelly, Mr. James    male   \n",
       "1          893       3              Wilkes, Mrs. James (Ellen Needs)  female   \n",
       "2          894       2                     Myles, Mr. Thomas Francis    male   \n",
       "3          895       3                              Wirz, Mr. Albert    male   \n",
       "4          896       3  Hirvonen, Mrs. Alexander (Helga E Lindqvist)  female   \n",
       "\n",
       "    Age  SibSp  Parch   Ticket     Fare Cabin Embarked  \n",
       "0  34.5      0      0   330911   7.8292   NaN        Q  \n",
       "1  47.0      1      0   363272   7.0000   NaN        S  \n",
       "2  62.0      0      0   240276   9.6875   NaN        Q  \n",
       "3  27.0      0      0   315154   8.6625   NaN        S  \n",
       "4  22.0      1      1  3101298  12.2875   NaN        S  "
      ]
     },
     "execution_count": 8,
     "metadata": {},
     "output_type": "execute_result"
    }
   ],
   "source": [
    "test.head()"
   ]
  },
  {
   "cell_type": "code",
   "execution_count": 9,
   "id": "ec19f420",
   "metadata": {
    "execution": {
     "iopub.execute_input": "2022-09-03T20:05:17.120486Z",
     "iopub.status.busy": "2022-09-03T20:05:17.119710Z",
     "iopub.status.idle": "2022-09-03T20:05:17.126832Z",
     "shell.execute_reply": "2022-09-03T20:05:17.125110Z"
    },
    "papermill": {
     "duration": 0.036689,
     "end_time": "2022-09-03T20:05:17.129309",
     "exception": false,
     "start_time": "2022-09-03T20:05:17.092620",
     "status": "completed"
    },
    "tags": []
   },
   "outputs": [
    {
     "name": "stdout",
     "output_type": "stream",
     "text": [
      "Shape of training data :  (891, 12)\n",
      "Shape of testing data :  (418, 11)\n"
     ]
    }
   ],
   "source": [
    "print(\"Shape of training data : \",train.shape)\n",
    "print(\"Shape of testing data : \",test.shape)\n"
   ]
  },
  {
   "cell_type": "markdown",
   "id": "1348b78e",
   "metadata": {
    "papermill": {
     "duration": 0.025061,
     "end_time": "2022-09-03T20:05:17.179787",
     "exception": false,
     "start_time": "2022-09-03T20:05:17.154726",
     "status": "completed"
    },
    "tags": []
   },
   "source": [
    "# Data Analysis"
   ]
  },
  {
   "cell_type": "markdown",
   "id": "aaf6b1d6",
   "metadata": {
    "papermill": {
     "duration": 0.024888,
     "end_time": "2022-09-03T20:05:17.230126",
     "exception": false,
     "start_time": "2022-09-03T20:05:17.205238",
     "status": "completed"
    },
    "tags": []
   },
   "source": [
    "## Detecting Missing Data"
   ]
  },
  {
   "cell_type": "code",
   "execution_count": 10,
   "id": "a14fc89f",
   "metadata": {
    "_kg_hide-output": true,
    "execution": {
     "iopub.execute_input": "2022-09-03T20:05:17.282789Z",
     "iopub.status.busy": "2022-09-03T20:05:17.281907Z",
     "iopub.status.idle": "2022-09-03T20:05:17.308319Z",
     "shell.execute_reply": "2022-09-03T20:05:17.306846Z"
    },
    "papermill": {
     "duration": 0.055616,
     "end_time": "2022-09-03T20:05:17.310958",
     "exception": false,
     "start_time": "2022-09-03T20:05:17.255342",
     "status": "completed"
    },
    "tags": []
   },
   "outputs": [
    {
     "name": "stdout",
     "output_type": "stream",
     "text": [
      "<class 'pandas.core.frame.DataFrame'>\n",
      "RangeIndex: 891 entries, 0 to 890\n",
      "Data columns (total 12 columns):\n",
      " #   Column       Non-Null Count  Dtype  \n",
      "---  ------       --------------  -----  \n",
      " 0   PassengerId  891 non-null    int64  \n",
      " 1   Survived     891 non-null    int64  \n",
      " 2   Pclass       891 non-null    int64  \n",
      " 3   Name         891 non-null    object \n",
      " 4   Sex          891 non-null    object \n",
      " 5   Age          714 non-null    float64\n",
      " 6   SibSp        891 non-null    int64  \n",
      " 7   Parch        891 non-null    int64  \n",
      " 8   Ticket       891 non-null    object \n",
      " 9   Fare         891 non-null    float64\n",
      " 10  Cabin        204 non-null    object \n",
      " 11  Embarked     889 non-null    object \n",
      "dtypes: float64(2), int64(5), object(5)\n",
      "memory usage: 83.7+ KB\n"
     ]
    }
   ],
   "source": [
    "train.info()"
   ]
  },
  {
   "cell_type": "code",
   "execution_count": 11,
   "id": "b066f1c2",
   "metadata": {
    "execution": {
     "iopub.execute_input": "2022-09-03T20:05:17.364844Z",
     "iopub.status.busy": "2022-09-03T20:05:17.364083Z",
     "iopub.status.idle": "2022-09-03T20:05:17.377885Z",
     "shell.execute_reply": "2022-09-03T20:05:17.376369Z"
    },
    "papermill": {
     "duration": 0.043658,
     "end_time": "2022-09-03T20:05:17.380197",
     "exception": false,
     "start_time": "2022-09-03T20:05:17.336539",
     "status": "completed"
    },
    "tags": []
   },
   "outputs": [
    {
     "name": "stdout",
     "output_type": "stream",
     "text": [
      "<class 'pandas.core.frame.DataFrame'>\n",
      "RangeIndex: 418 entries, 0 to 417\n",
      "Data columns (total 11 columns):\n",
      " #   Column       Non-Null Count  Dtype  \n",
      "---  ------       --------------  -----  \n",
      " 0   PassengerId  418 non-null    int64  \n",
      " 1   Pclass       418 non-null    int64  \n",
      " 2   Name         418 non-null    object \n",
      " 3   Sex          418 non-null    object \n",
      " 4   Age          332 non-null    float64\n",
      " 5   SibSp        418 non-null    int64  \n",
      " 6   Parch        418 non-null    int64  \n",
      " 7   Ticket       418 non-null    object \n",
      " 8   Fare         417 non-null    float64\n",
      " 9   Cabin        91 non-null     object \n",
      " 10  Embarked     418 non-null    object \n",
      "dtypes: float64(2), int64(4), object(5)\n",
      "memory usage: 36.0+ KB\n"
     ]
    }
   ],
   "source": [
    "test.info()"
   ]
  },
  {
   "cell_type": "code",
   "execution_count": 12,
   "id": "4e83d7c3",
   "metadata": {
    "execution": {
     "iopub.execute_input": "2022-09-03T20:05:17.435369Z",
     "iopub.status.busy": "2022-09-03T20:05:17.434576Z",
     "iopub.status.idle": "2022-09-03T20:05:17.444935Z",
     "shell.execute_reply": "2022-09-03T20:05:17.444046Z"
    },
    "papermill": {
     "duration": 0.041722,
     "end_time": "2022-09-03T20:05:17.447202",
     "exception": false,
     "start_time": "2022-09-03T20:05:17.405480",
     "status": "completed"
    },
    "tags": []
   },
   "outputs": [
    {
     "data": {
      "text/plain": [
       "Cabin          687\n",
       "Age            177\n",
       "Embarked         2\n",
       "PassengerId      0\n",
       "Survived         0\n",
       "Pclass           0\n",
       "Name             0\n",
       "Sex              0\n",
       "SibSp            0\n",
       "Parch            0\n",
       "Ticket           0\n",
       "Fare             0\n",
       "dtype: int64"
      ]
     },
     "execution_count": 12,
     "metadata": {},
     "output_type": "execute_result"
    }
   ],
   "source": [
    "train.isnull().sum().sort_values(ascending= False)"
   ]
  },
  {
   "cell_type": "code",
   "execution_count": 13,
   "id": "5588582c",
   "metadata": {
    "execution": {
     "iopub.execute_input": "2022-09-03T20:05:17.500232Z",
     "iopub.status.busy": "2022-09-03T20:05:17.499411Z",
     "iopub.status.idle": "2022-09-03T20:05:17.509808Z",
     "shell.execute_reply": "2022-09-03T20:05:17.508638Z"
    },
    "papermill": {
     "duration": 0.039583,
     "end_time": "2022-09-03T20:05:17.512100",
     "exception": false,
     "start_time": "2022-09-03T20:05:17.472517",
     "status": "completed"
    },
    "tags": []
   },
   "outputs": [
    {
     "data": {
      "text/plain": [
       "Cabin          327\n",
       "Age             86\n",
       "Fare             1\n",
       "PassengerId      0\n",
       "Pclass           0\n",
       "Name             0\n",
       "Sex              0\n",
       "SibSp            0\n",
       "Parch            0\n",
       "Ticket           0\n",
       "Embarked         0\n",
       "dtype: int64"
      ]
     },
     "execution_count": 13,
     "metadata": {},
     "output_type": "execute_result"
    }
   ],
   "source": [
    "test.isnull().sum().sort_values(ascending= False)"
   ]
  },
  {
   "cell_type": "code",
   "execution_count": 14,
   "id": "b3b103a9",
   "metadata": {
    "execution": {
     "iopub.execute_input": "2022-09-03T20:05:17.565467Z",
     "iopub.status.busy": "2022-09-03T20:05:17.564740Z",
     "iopub.status.idle": "2022-09-03T20:05:18.095301Z",
     "shell.execute_reply": "2022-09-03T20:05:18.094127Z"
    },
    "papermill": {
     "duration": 0.560689,
     "end_time": "2022-09-03T20:05:18.098179",
     "exception": false,
     "start_time": "2022-09-03T20:05:17.537490",
     "status": "completed"
    },
    "tags": []
   },
   "outputs": [
    {
     "data": {
      "text/plain": [
       "<AxesSubplot:>"
      ]
     },
     "execution_count": 14,
     "metadata": {},
     "output_type": "execute_result"
    },
    {
     "data": {
      "image/png": "[encoded data removed]",
      "text/plain": [
       "<Figure size 1800x720 with 2 Axes>"
      ]
     },
     "metadata": {
      "needs_background": "light"
     },
     "output_type": "display_data"
    }
   ],
   "source": [
    "missingno.matrix(train)"
   ]
  },
  {
   "cell_type": "code",
   "execution_count": 15,
   "id": "a1ee625f",
   "metadata": {
    "execution": {
     "iopub.execute_input": "2022-09-03T20:05:18.153390Z",
     "iopub.status.busy": "2022-09-03T20:05:18.153007Z",
     "iopub.status.idle": "2022-09-03T20:05:18.735330Z",
     "shell.execute_reply": "2022-09-03T20:05:18.734515Z"
    },
    "papermill": {
     "duration": 0.612594,
     "end_time": "2022-09-03T20:05:18.737498",
     "exception": false,
     "start_time": "2022-09-03T20:05:18.124904",
     "status": "completed"
    },
    "tags": []
   },
   "outputs": [
    {
     "data": {
      "text/plain": [
       "<AxesSubplot:>"
      ]
     },
     "execution_count": 15,
     "metadata": {},
     "output_type": "execute_result"
    },
    {
     "data": {
      "image/png": "[encoded data removed]",
      "text/plain": [
       "<Figure size 1800x720 with 2 Axes>"
      ]
     },
     "metadata": {
      "needs_background": "light"
     },
     "output_type": "display_data"
    }
   ],
   "source": [
    "missingno.matrix(test)"
   ]
  },
  {
   "cell_type": "code",
   "execution_count": 16,
   "id": "752bb4b3",
   "metadata": {
    "execution": {
     "iopub.execute_input": "2022-09-03T20:05:18.795775Z",
     "iopub.status.busy": "2022-09-03T20:05:18.795013Z",
     "iopub.status.idle": "2022-09-03T20:05:18.813487Z",
     "shell.execute_reply": "2022-09-03T20:05:18.812233Z"
    },
    "papermill": {
     "duration": 0.04972,
     "end_time": "2022-09-03T20:05:18.815741",
     "exception": false,
     "start_time": "2022-09-03T20:05:18.766021",
     "status": "completed"
    },
    "tags": []
   },
   "outputs": [
    {
     "data": {
      "text/html": [
       "<div>\n",
       "<style scoped>\n",
       "    .dataframe tbody tr th:only-of-type {\n",
       "        vertical-align: middle;\n",
       "    }\n",
       "\n",
       "    .dataframe tbody tr th {\n",
       "        vertical-align: top;\n",
       "    }\n",
       "\n",
       "    .dataframe thead th {\n",
       "        text-align: right;\n",
       "    }\n",
       "</style>\n",
       "<table border=\"1\" class=\"dataframe\">\n",
       "  <thead>\n",
       "    <tr style=\"text-align: right;\">\n",
       "      <th></th>\n",
       "      <th>Sex</th>\n",
       "      <th>Survived</th>\n",
       "    </tr>\n",
       "  </thead>\n",
       "  <tbody>\n",
       "    <tr>\n",
       "      <th>0</th>\n",
       "      <td>female</td>\n",
       "      <td>0.742038</td>\n",
       "    </tr>\n",
       "    <tr>\n",
       "      <th>1</th>\n",
       "      <td>male</td>\n",
       "      <td>0.188908</td>\n",
       "    </tr>\n",
       "  </tbody>\n",
       "</table>\n",
       "</div>"
      ],
      "text/plain": [
       "      Sex  Survived\n",
       "0  female  0.742038\n",
       "1    male  0.188908"
      ]
     },
     "execution_count": 16,
     "metadata": {},
     "output_type": "execute_result"
    }
   ],
   "source": [
    "train[['Sex','Survived']].groupby('Sex',as_index= False).mean().sort_values(by= 'Survived',ascending = False)"
   ]
  },
  {
   "cell_type": "code",
   "execution_count": 17,
   "id": "d5240662",
   "metadata": {
    "execution": {
     "iopub.execute_input": "2022-09-03T20:05:18.874177Z",
     "iopub.status.busy": "2022-09-03T20:05:18.873504Z",
     "iopub.status.idle": "2022-09-03T20:05:19.141805Z",
     "shell.execute_reply": "2022-09-03T20:05:19.140641Z"
    },
    "papermill": {
     "duration": 0.300423,
     "end_time": "2022-09-03T20:05:19.144353",
     "exception": false,
     "start_time": "2022-09-03T20:05:18.843930",
     "status": "completed"
    },
    "tags": []
   },
   "outputs": [
    {
     "data": {
      "text/plain": [
       "Text(0.5, 1.0, 'Gender Based Survival')"
      ]
     },
     "execution_count": 17,
     "metadata": {},
     "output_type": "execute_result"
    },
    {
     "data": {
      "image/png": "[encoded data removed]",
      "text/plain": [
       "<Figure size 432x288 with 1 Axes>"
      ]
     },
     "metadata": {
      "needs_background": "light"
     },
     "output_type": "display_data"
    }
   ],
   "source": [
    "sns.barplot(x='Sex',y='Survived',data = train)\n",
    "plt.ylabel('Survival Rate')\n",
    "plt.title ('Gender Based Survival')"
   ]
  },
  {
   "cell_type": "code",
   "execution_count": 18,
   "id": "3a92d241",
   "metadata": {
    "execution": {
     "iopub.execute_input": "2022-09-03T20:05:19.202361Z",
     "iopub.status.busy": "2022-09-03T20:05:19.201989Z",
     "iopub.status.idle": "2022-09-03T20:05:19.215691Z",
     "shell.execute_reply": "2022-09-03T20:05:19.214828Z"
    },
    "papermill": {
     "duration": 0.045046,
     "end_time": "2022-09-03T20:05:19.217762",
     "exception": false,
     "start_time": "2022-09-03T20:05:19.172716",
     "status": "completed"
    },
    "tags": []
   },
   "outputs": [
    {
     "data": {
      "text/html": [
       "<div>\n",
       "<style scoped>\n",
       "    .dataframe tbody tr th:only-of-type {\n",
       "        vertical-align: middle;\n",
       "    }\n",
       "\n",
       "    .dataframe tbody tr th {\n",
       "        vertical-align: top;\n",
       "    }\n",
       "\n",
       "    .dataframe thead th {\n",
       "        text-align: right;\n",
       "    }\n",
       "</style>\n",
       "<table border=\"1\" class=\"dataframe\">\n",
       "  <thead>\n",
       "    <tr style=\"text-align: right;\">\n",
       "      <th></th>\n",
       "      <th>Pclass</th>\n",
       "      <th>Survived</th>\n",
       "    </tr>\n",
       "  </thead>\n",
       "  <tbody>\n",
       "    <tr>\n",
       "      <th>0</th>\n",
       "      <td>1</td>\n",
       "      <td>0.629630</td>\n",
       "    </tr>\n",
       "    <tr>\n",
       "      <th>1</th>\n",
       "      <td>2</td>\n",
       "      <td>0.472826</td>\n",
       "    </tr>\n",
       "    <tr>\n",
       "      <th>2</th>\n",
       "      <td>3</td>\n",
       "      <td>0.242363</td>\n",
       "    </tr>\n",
       "  </tbody>\n",
       "</table>\n",
       "</div>"
      ],
      "text/plain": [
       "   Pclass  Survived\n",
       "0       1  0.629630\n",
       "1       2  0.472826\n",
       "2       3  0.242363"
      ]
     },
     "execution_count": 18,
     "metadata": {},
     "output_type": "execute_result"
    }
   ],
   "source": [
    "train[['Pclass','Survived']].groupby('Pclass',as_index= False).mean().sort_values(by= 'Survived',ascending = False)"
   ]
  },
  {
   "cell_type": "code",
   "execution_count": 19,
   "id": "150743b7",
   "metadata": {
    "execution": {
     "iopub.execute_input": "2022-09-03T20:05:19.276687Z",
     "iopub.status.busy": "2022-09-03T20:05:19.276280Z",
     "iopub.status.idle": "2022-09-03T20:05:19.565268Z",
     "shell.execute_reply": "2022-09-03T20:05:19.564485Z"
    },
    "papermill": {
     "duration": 0.320822,
     "end_time": "2022-09-03T20:05:19.567442",
     "exception": false,
     "start_time": "2022-09-03T20:05:19.246620",
     "status": "completed"
    },
    "tags": []
   },
   "outputs": [
    {
     "data": {
      "text/plain": [
       "Text(0.5, 1.0, 'Class Based Survival')"
      ]
     },
     "execution_count": 19,
     "metadata": {},
     "output_type": "execute_result"
    },
    {
     "data": {
      "image/png": "[encoded data removed]",
      "text/plain": [
       "<Figure size 432x288 with 1 Axes>"
      ]
     },
     "metadata": {
      "needs_background": "light"
     },
     "output_type": "display_data"
    }
   ],
   "source": [
    "sns.barplot(x='Pclass',y= 'Survived' ,data = train)\n",
    "plt.ylabel('Survival Rate')\n",
    "plt.title ('Class Based Survival')"
   ]
  },
  {
   "cell_type": "code",
   "execution_count": 20,
   "id": "f314ec9d",
   "metadata": {
    "execution": {
     "iopub.execute_input": "2022-09-03T20:05:19.627641Z",
     "iopub.status.busy": "2022-09-03T20:05:19.626841Z",
     "iopub.status.idle": "2022-09-03T20:05:20.146345Z",
     "shell.execute_reply": "2022-09-03T20:05:20.145219Z"
    },
    "papermill": {
     "duration": 0.552707,
     "end_time": "2022-09-03T20:05:20.148836",
     "exception": false,
     "start_time": "2022-09-03T20:05:19.596129",
     "status": "completed"
    },
    "tags": []
   },
   "outputs": [
    {
     "data": {
      "text/plain": [
       "Text(0.5, 1.0, 'Survival Probability by Sex and Passenger Class')"
      ]
     },
     "execution_count": 20,
     "metadata": {},
     "output_type": "execute_result"
    },
    {
     "data": {
      "image/png": "[encoded data removed]",
      "text/plain": [
       "<Figure size 430.5x360 with 1 Axes>"
      ]
     },
     "metadata": {
      "needs_background": "light"
     },
     "output_type": "display_data"
    }
   ],
   "source": [
    "plot =sns.factorplot(x = 'Pclass' , y = 'Survived', hue= 'Sex' , data= train, kind= 'bar')\n",
    "plot.despine(left=True)\n",
    "plt.ylabel('Survival Probability')\n",
    "plt.title('Survival Probability by Sex and Passenger Class')"
   ]
  },
  {
   "cell_type": "code",
   "execution_count": 21,
   "id": "7f27c5a6",
   "metadata": {
    "execution": {
     "iopub.execute_input": "2022-09-03T20:05:20.209145Z",
     "iopub.status.busy": "2022-09-03T20:05:20.208354Z",
     "iopub.status.idle": "2022-09-03T20:05:20.222548Z",
     "shell.execute_reply": "2022-09-03T20:05:20.221382Z"
    },
    "papermill": {
     "duration": 0.04701,
     "end_time": "2022-09-03T20:05:20.224991",
     "exception": false,
     "start_time": "2022-09-03T20:05:20.177981",
     "status": "completed"
    },
    "tags": []
   },
   "outputs": [
    {
     "data": {
      "text/html": [
       "<div>\n",
       "<style scoped>\n",
       "    .dataframe tbody tr th:only-of-type {\n",
       "        vertical-align: middle;\n",
       "    }\n",
       "\n",
       "    .dataframe tbody tr th {\n",
       "        vertical-align: top;\n",
       "    }\n",
       "\n",
       "    .dataframe thead th {\n",
       "        text-align: right;\n",
       "    }\n",
       "</style>\n",
       "<table border=\"1\" class=\"dataframe\">\n",
       "  <thead>\n",
       "    <tr style=\"text-align: right;\">\n",
       "      <th></th>\n",
       "      <th>Embarked</th>\n",
       "      <th>Survived</th>\n",
       "    </tr>\n",
       "  </thead>\n",
       "  <tbody>\n",
       "    <tr>\n",
       "      <th>0</th>\n",
       "      <td>C</td>\n",
       "      <td>0.553571</td>\n",
       "    </tr>\n",
       "    <tr>\n",
       "      <th>1</th>\n",
       "      <td>Q</td>\n",
       "      <td>0.389610</td>\n",
       "    </tr>\n",
       "    <tr>\n",
       "      <th>2</th>\n",
       "      <td>S</td>\n",
       "      <td>0.336957</td>\n",
       "    </tr>\n",
       "  </tbody>\n",
       "</table>\n",
       "</div>"
      ],
      "text/plain": [
       "  Embarked  Survived\n",
       "0        C  0.553571\n",
       "1        Q  0.389610\n",
       "2        S  0.336957"
      ]
     },
     "execution_count": 21,
     "metadata": {},
     "output_type": "execute_result"
    }
   ],
   "source": [
    "train[['Embarked','Survived']].groupby('Embarked',as_index= False).mean().sort_values(by= 'Survived',ascending = False)"
   ]
  },
  {
   "cell_type": "code",
   "execution_count": 22,
   "id": "6ef7878b",
   "metadata": {
    "execution": {
     "iopub.execute_input": "2022-09-03T20:05:20.285083Z",
     "iopub.status.busy": "2022-09-03T20:05:20.284673Z",
     "iopub.status.idle": "2022-09-03T20:05:20.568154Z",
     "shell.execute_reply": "2022-09-03T20:05:20.567340Z"
    },
    "papermill": {
     "duration": 0.316076,
     "end_time": "2022-09-03T20:05:20.570436",
     "exception": false,
     "start_time": "2022-09-03T20:05:20.254360",
     "status": "completed"
    },
    "tags": []
   },
   "outputs": [
    {
     "data": {
      "text/plain": [
       "Text(0.5, 1.0, 'Class Based Survival')"
      ]
     },
     "execution_count": 22,
     "metadata": {},
     "output_type": "execute_result"
    },
    {
     "data": {
      "image/png": "[encoded data removed]",
      "text/plain": [
       "<Figure size 432x288 with 1 Axes>"
      ]
     },
     "metadata": {
      "needs_background": "light"
     },
     "output_type": "display_data"
    }
   ],
   "source": [
    "sns.barplot(x='Embarked',y= 'Survived' ,data = train)\n",
    "plt.ylabel('Survival Rate')\n",
    "plt.title ('Class Based Survival')"
   ]
  },
  {
   "cell_type": "code",
   "execution_count": 23,
   "id": "0d4894cb",
   "metadata": {
    "execution": {
     "iopub.execute_input": "2022-09-03T20:05:20.632634Z",
     "iopub.status.busy": "2022-09-03T20:05:20.631540Z",
     "iopub.status.idle": "2022-09-03T20:05:21.159694Z",
     "shell.execute_reply": "2022-09-03T20:05:21.158616Z"
    },
    "papermill": {
     "duration": 0.562487,
     "end_time": "2022-09-03T20:05:21.162242",
     "exception": false,
     "start_time": "2022-09-03T20:05:20.599755",
     "status": "completed"
    },
    "tags": []
   },
   "outputs": [
    {
     "data": {
      "text/plain": [
       "<seaborn.axisgrid.FacetGrid at 0x7fa2d8a8b410>"
      ]
     },
     "execution_count": 23,
     "metadata": {},
     "output_type": "execute_result"
    },
    {
     "data": {
      "image/png": "[encoded data removed]",
      "text/plain": [
       "<Figure size 1080x360 with 3 Axes>"
      ]
     },
     "metadata": {
      "needs_background": "light"
     },
     "output_type": "display_data"
    }
   ],
   "source": [
    "sns.factorplot('Pclass', col = 'Embarked',data = train, kind = 'count')"
   ]
  },
  {
   "cell_type": "markdown",
   "id": "0d0e0f18",
   "metadata": {
    "papermill": {
     "duration": 0.029867,
     "end_time": "2022-09-03T20:05:21.222384",
     "exception": false,
     "start_time": "2022-09-03T20:05:21.192517",
     "status": "completed"
    },
    "tags": []
   },
   "source": [
    "# Handling Outliers "
   ]
  },
  {
   "cell_type": "code",
   "execution_count": 24,
   "id": "5490f85c",
   "metadata": {
    "execution": {
     "iopub.execute_input": "2022-09-03T20:05:21.284061Z",
     "iopub.status.busy": "2022-09-03T20:05:21.283318Z",
     "iopub.status.idle": "2022-09-03T20:05:21.298490Z",
     "shell.execute_reply": "2022-09-03T20:05:21.297385Z"
    },
    "papermill": {
     "duration": 0.048969,
     "end_time": "2022-09-03T20:05:21.300920",
     "exception": false,
     "start_time": "2022-09-03T20:05:21.251951",
     "status": "completed"
    },
    "tags": []
   },
   "outputs": [
    {
     "data": {
      "text/plain": [
       "[27, 88, 159, 180, 201, 324, 341, 792, 846, 863]"
      ]
     },
     "execution_count": 24,
     "metadata": {},
     "output_type": "execute_result"
    }
   ],
   "source": [
    "def outliers(data, n, specs):\n",
    "    out_i=[]\n",
    "    for col in specs:\n",
    "        quar1=np.percentile(data[col],25)\n",
    "        quar3=np.percentile(data[col],75)\n",
    "        quar=quar3-quar1\n",
    "        outlier_step = 1.5 * quar \n",
    "        outlier_list_col = data[(data[col] < quar1 - outlier_step) | (data[col] > quar3 + outlier_step)].index\n",
    "        out_i.extend(outlier_list_col) \n",
    "    out_i = Counter(out_i)\n",
    "    multiple_outliers = list(key for key, value in out_i.items() if value > n) \n",
    "    return multiple_outliers\n",
    "outliers_to_drop = outliers(train, 2, ['Age', 'SibSp', 'Parch', 'Fare'])\n",
    "outliers_to_drop\n",
    "        \n",
    "    "
   ]
  },
  {
   "cell_type": "code",
   "execution_count": 25,
   "id": "8a8f0f9d",
   "metadata": {
    "execution": {
     "iopub.execute_input": "2022-09-03T20:05:21.362300Z",
     "iopub.status.busy": "2022-09-03T20:05:21.361894Z",
     "iopub.status.idle": "2022-09-03T20:05:21.369777Z",
     "shell.execute_reply": "2022-09-03T20:05:21.368483Z"
    },
    "papermill": {
     "duration": 0.041158,
     "end_time": "2022-09-03T20:05:21.372022",
     "exception": false,
     "start_time": "2022-09-03T20:05:21.330864",
     "status": "completed"
    },
    "tags": []
   },
   "outputs": [
    {
     "name": "stdout",
     "output_type": "stream",
     "text": [
      "Before: 891 rows\n",
      "After: 881 rows\n"
     ]
    }
   ],
   "source": [
    "print(\"Before: {} rows\".format(len(train)))\n",
    "train = train.drop(outliers_to_drop, axis = 0).reset_index(drop = True)\n",
    "print(\"After: {} rows\".format(len(train)))"
   ]
  },
  {
   "cell_type": "markdown",
   "id": "f4f08f74",
   "metadata": {
    "papermill": {
     "duration": 0.029825,
     "end_time": "2022-09-03T20:05:21.431888",
     "exception": false,
     "start_time": "2022-09-03T20:05:21.402063",
     "status": "completed"
    },
    "tags": []
   },
   "source": [
    "# Correlation"
   ]
  },
  {
   "cell_type": "code",
   "execution_count": 26,
   "id": "5e2f9530",
   "metadata": {
    "execution": {
     "iopub.execute_input": "2022-09-03T20:05:21.493622Z",
     "iopub.status.busy": "2022-09-03T20:05:21.492832Z",
     "iopub.status.idle": "2022-09-03T20:05:21.844785Z",
     "shell.execute_reply": "2022-09-03T20:05:21.843642Z"
    },
    "papermill": {
     "duration": 0.386303,
     "end_time": "2022-09-03T20:05:21.847732",
     "exception": false,
     "start_time": "2022-09-03T20:05:21.461429",
     "status": "completed"
    },
    "tags": []
   },
   "outputs": [
    {
     "data": {
      "text/plain": [
       "<AxesSubplot:>"
      ]
     },
     "execution_count": 26,
     "metadata": {},
     "output_type": "execute_result"
    },
    {
     "data": {
      "image/png": "[encoded data removed]",
      "text/plain": [
       "<Figure size 432x288 with 2 Axes>"
      ]
     },
     "metadata": {
      "needs_background": "light"
     },
     "output_type": "display_data"
    }
   ],
   "source": [
    "sns.heatmap(train[['Survived', 'SibSp', 'Parch', 'Age', 'Fare']].corr(), annot = True, fmt = '.2f', cmap = 'coolwarm')"
   ]
  },
  {
   "cell_type": "code",
   "execution_count": 27,
   "id": "aeeeedfc",
   "metadata": {
    "execution": {
     "iopub.execute_input": "2022-09-03T20:05:21.910614Z",
     "iopub.status.busy": "2022-09-03T20:05:21.909486Z",
     "iopub.status.idle": "2022-09-03T20:05:21.924668Z",
     "shell.execute_reply": "2022-09-03T20:05:21.923640Z"
    },
    "papermill": {
     "duration": 0.048725,
     "end_time": "2022-09-03T20:05:21.926936",
     "exception": false,
     "start_time": "2022-09-03T20:05:21.878211",
     "status": "completed"
    },
    "tags": []
   },
   "outputs": [
    {
     "data": {
      "text/html": [
       "<div>\n",
       "<style scoped>\n",
       "    .dataframe tbody tr th:only-of-type {\n",
       "        vertical-align: middle;\n",
       "    }\n",
       "\n",
       "    .dataframe tbody tr th {\n",
       "        vertical-align: top;\n",
       "    }\n",
       "\n",
       "    .dataframe thead th {\n",
       "        text-align: right;\n",
       "    }\n",
       "</style>\n",
       "<table border=\"1\" class=\"dataframe\">\n",
       "  <thead>\n",
       "    <tr style=\"text-align: right;\">\n",
       "      <th></th>\n",
       "      <th>SibSp</th>\n",
       "      <th>Survived</th>\n",
       "    </tr>\n",
       "  </thead>\n",
       "  <tbody>\n",
       "    <tr>\n",
       "      <th>1</th>\n",
       "      <td>1</td>\n",
       "      <td>0.535885</td>\n",
       "    </tr>\n",
       "    <tr>\n",
       "      <th>2</th>\n",
       "      <td>2</td>\n",
       "      <td>0.464286</td>\n",
       "    </tr>\n",
       "    <tr>\n",
       "      <th>0</th>\n",
       "      <td>0</td>\n",
       "      <td>0.345395</td>\n",
       "    </tr>\n",
       "    <tr>\n",
       "      <th>4</th>\n",
       "      <td>4</td>\n",
       "      <td>0.166667</td>\n",
       "    </tr>\n",
       "    <tr>\n",
       "      <th>3</th>\n",
       "      <td>3</td>\n",
       "      <td>0.153846</td>\n",
       "    </tr>\n",
       "    <tr>\n",
       "      <th>5</th>\n",
       "      <td>5</td>\n",
       "      <td>0.000000</td>\n",
       "    </tr>\n",
       "  </tbody>\n",
       "</table>\n",
       "</div>"
      ],
      "text/plain": [
       "   SibSp  Survived\n",
       "1      1  0.535885\n",
       "2      2  0.464286\n",
       "0      0  0.345395\n",
       "4      4  0.166667\n",
       "3      3  0.153846\n",
       "5      5  0.000000"
      ]
     },
     "execution_count": 27,
     "metadata": {},
     "output_type": "execute_result"
    }
   ],
   "source": [
    "train[['SibSp','Survived']].groupby('SibSp',as_index= False).mean().sort_values(by= 'Survived',ascending = False)"
   ]
  },
  {
   "cell_type": "code",
   "execution_count": 28,
   "id": "5b303eb3",
   "metadata": {
    "execution": {
     "iopub.execute_input": "2022-09-03T20:05:21.989919Z",
     "iopub.status.busy": "2022-09-03T20:05:21.989499Z",
     "iopub.status.idle": "2022-09-03T20:05:22.368520Z",
     "shell.execute_reply": "2022-09-03T20:05:22.367245Z"
    },
    "papermill": {
     "duration": 0.413508,
     "end_time": "2022-09-03T20:05:22.370940",
     "exception": false,
     "start_time": "2022-09-03T20:05:21.957432",
     "status": "completed"
    },
    "tags": []
   },
   "outputs": [
    {
     "data": {
      "text/plain": [
       "Text(0.5, 1.0, 'Survival Probability by SibSp')"
      ]
     },
     "execution_count": 28,
     "metadata": {},
     "output_type": "execute_result"
    },
    {
     "data": {
      "image/png": "[encoded data removed]",
      "text/plain": [
       "<Figure size 432x288 with 1 Axes>"
      ]
     },
     "metadata": {
      "needs_background": "light"
     },
     "output_type": "display_data"
    }
   ],
   "source": [
    "sns.barplot(x = 'SibSp', y ='Survived', data = train)\n",
    "plt.ylabel('Survival Probability')\n",
    "plt.title('Survival Probability by SibSp')"
   ]
  },
  {
   "cell_type": "code",
   "execution_count": 29,
   "id": "e427aea3",
   "metadata": {
    "execution": {
     "iopub.execute_input": "2022-09-03T20:05:22.434304Z",
     "iopub.status.busy": "2022-09-03T20:05:22.433899Z",
     "iopub.status.idle": "2022-09-03T20:05:22.449839Z",
     "shell.execute_reply": "2022-09-03T20:05:22.448775Z"
    },
    "papermill": {
     "duration": 0.050273,
     "end_time": "2022-09-03T20:05:22.452070",
     "exception": false,
     "start_time": "2022-09-03T20:05:22.401797",
     "status": "completed"
    },
    "tags": []
   },
   "outputs": [
    {
     "data": {
      "text/html": [
       "<div>\n",
       "<style scoped>\n",
       "    .dataframe tbody tr th:only-of-type {\n",
       "        vertical-align: middle;\n",
       "    }\n",
       "\n",
       "    .dataframe tbody tr th {\n",
       "        vertical-align: top;\n",
       "    }\n",
       "\n",
       "    .dataframe thead th {\n",
       "        text-align: right;\n",
       "    }\n",
       "</style>\n",
       "<table border=\"1\" class=\"dataframe\">\n",
       "  <thead>\n",
       "    <tr style=\"text-align: right;\">\n",
       "      <th></th>\n",
       "      <th>Parch</th>\n",
       "      <th>Survived</th>\n",
       "    </tr>\n",
       "  </thead>\n",
       "  <tbody>\n",
       "    <tr>\n",
       "      <th>3</th>\n",
       "      <td>3</td>\n",
       "      <td>0.600000</td>\n",
       "    </tr>\n",
       "    <tr>\n",
       "      <th>1</th>\n",
       "      <td>1</td>\n",
       "      <td>0.550847</td>\n",
       "    </tr>\n",
       "    <tr>\n",
       "      <th>2</th>\n",
       "      <td>2</td>\n",
       "      <td>0.542857</td>\n",
       "    </tr>\n",
       "    <tr>\n",
       "      <th>0</th>\n",
       "      <td>0</td>\n",
       "      <td>0.343658</td>\n",
       "    </tr>\n",
       "    <tr>\n",
       "      <th>5</th>\n",
       "      <td>5</td>\n",
       "      <td>0.200000</td>\n",
       "    </tr>\n",
       "    <tr>\n",
       "      <th>4</th>\n",
       "      <td>4</td>\n",
       "      <td>0.000000</td>\n",
       "    </tr>\n",
       "    <tr>\n",
       "      <th>6</th>\n",
       "      <td>6</td>\n",
       "      <td>0.000000</td>\n",
       "    </tr>\n",
       "  </tbody>\n",
       "</table>\n",
       "</div>"
      ],
      "text/plain": [
       "   Parch  Survived\n",
       "3      3  0.600000\n",
       "1      1  0.550847\n",
       "2      2  0.542857\n",
       "0      0  0.343658\n",
       "5      5  0.200000\n",
       "4      4  0.000000\n",
       "6      6  0.000000"
      ]
     },
     "execution_count": 29,
     "metadata": {},
     "output_type": "execute_result"
    }
   ],
   "source": [
    "train[['Parch','Survived']].groupby('Parch', as_index = False).mean().sort_values(by='Survived',ascending=False)"
   ]
  },
  {
   "cell_type": "code",
   "execution_count": 30,
   "id": "c43c096b",
   "metadata": {
    "execution": {
     "iopub.execute_input": "2022-09-03T20:05:22.517155Z",
     "iopub.status.busy": "2022-09-03T20:05:22.516746Z",
     "iopub.status.idle": "2022-09-03T20:05:23.026525Z",
     "shell.execute_reply": "2022-09-03T20:05:23.025385Z"
    },
    "papermill": {
     "duration": 0.545463,
     "end_time": "2022-09-03T20:05:23.028937",
     "exception": false,
     "start_time": "2022-09-03T20:05:22.483474",
     "status": "completed"
    },
    "tags": []
   },
   "outputs": [
    {
     "data": {
      "text/plain": [
       "Text(0.5, 1.0, 'Survival Probability by Parch')"
      ]
     },
     "execution_count": 30,
     "metadata": {},
     "output_type": "execute_result"
    },
    {
     "data": {
      "image/png": "[encoded data removed]",
      "text/plain": [
       "<Figure size 432x288 with 1 Axes>"
      ]
     },
     "metadata": {
      "needs_background": "light"
     },
     "output_type": "display_data"
    }
   ],
   "source": [
    "sns.barplot(x='Parch',y='Survived',data=train)\n",
    "plt.ylabel('Survival Probability')\n",
    "plt.title('Survival Probability by Parch')"
   ]
  },
  {
   "cell_type": "markdown",
   "id": "56b19546",
   "metadata": {
    "papermill": {
     "duration": 0.030982,
     "end_time": "2022-09-03T20:05:23.091385",
     "exception": false,
     "start_time": "2022-09-03T20:05:23.060403",
     "status": "completed"
    },
    "tags": []
   },
   "source": [
    "# Graphical Representation of Skewness"
   ]
  },
  {
   "cell_type": "code",
   "execution_count": 31,
   "id": "80c68a79",
   "metadata": {
    "execution": {
     "iopub.execute_input": "2022-09-03T20:05:23.155448Z",
     "iopub.status.busy": "2022-09-03T20:05:23.155042Z",
     "iopub.status.idle": "2022-09-03T20:05:23.170014Z",
     "shell.execute_reply": "2022-09-03T20:05:23.168395Z"
    },
    "papermill": {
     "duration": 0.049805,
     "end_time": "2022-09-03T20:05:23.172285",
     "exception": false,
     "start_time": "2022-09-03T20:05:23.122480",
     "status": "completed"
    },
    "tags": []
   },
   "outputs": [
    {
     "name": "stdout",
     "output_type": "stream",
     "text": [
      "<class 'pandas.core.frame.DataFrame'>\n",
      "RangeIndex: 881 entries, 0 to 880\n",
      "Data columns (total 12 columns):\n",
      " #   Column       Non-Null Count  Dtype  \n",
      "---  ------       --------------  -----  \n",
      " 0   PassengerId  881 non-null    int64  \n",
      " 1   Survived     881 non-null    int64  \n",
      " 2   Pclass       881 non-null    int64  \n",
      " 3   Name         881 non-null    object \n",
      " 4   Sex          881 non-null    object \n",
      " 5   Age          711 non-null    float64\n",
      " 6   SibSp        881 non-null    int64  \n",
      " 7   Parch        881 non-null    int64  \n",
      " 8   Ticket       881 non-null    object \n",
      " 9   Fare         881 non-null    float64\n",
      " 10  Cabin        201 non-null    object \n",
      " 11  Embarked     879 non-null    object \n",
      "dtypes: float64(2), int64(5), object(5)\n",
      "memory usage: 82.7+ KB\n"
     ]
    }
   ],
   "source": [
    "train.info()"
   ]
  },
  {
   "cell_type": "code",
   "execution_count": 32,
   "id": "6ab543a6",
   "metadata": {
    "execution": {
     "iopub.execute_input": "2022-09-03T20:05:23.237694Z",
     "iopub.status.busy": "2022-09-03T20:05:23.237272Z",
     "iopub.status.idle": "2022-09-03T20:05:23.544887Z",
     "shell.execute_reply": "2022-09-03T20:05:23.544043Z"
    },
    "papermill": {
     "duration": 0.342898,
     "end_time": "2022-09-03T20:05:23.547085",
     "exception": false,
     "start_time": "2022-09-03T20:05:23.204187",
     "status": "completed"
    },
    "tags": []
   },
   "outputs": [
    {
     "data": {
      "text/plain": [
       "Text(0.5, 1.0, 'Passenger Age Distribution')"
      ]
     },
     "execution_count": 32,
     "metadata": {},
     "output_type": "execute_result"
    },
    {
     "data": {
      "image/png": "[encoded data removed]",
      "text/plain": [
       "<Figure size 432x288 with 1 Axes>"
      ]
     },
     "metadata": {
      "needs_background": "light"
     },
     "output_type": "display_data"
    }
   ],
   "source": [
    "sns.distplot(train['Age'], label = 'Skewness: %.2f'%(train['Age'].skew()))\n",
    "plt.legend(loc = 'best')\n",
    "plt.title('Passenger Age Distribution')"
   ]
  },
  {
   "cell_type": "code",
   "execution_count": 33,
   "id": "a164b160",
   "metadata": {
    "execution": {
     "iopub.execute_input": "2022-09-03T20:05:23.613665Z",
     "iopub.status.busy": "2022-09-03T20:05:23.612963Z",
     "iopub.status.idle": "2022-09-03T20:05:24.098243Z",
     "shell.execute_reply": "2022-09-03T20:05:24.096914Z"
    },
    "papermill": {
     "duration": 0.521877,
     "end_time": "2022-09-03T20:05:24.101214",
     "exception": false,
     "start_time": "2022-09-03T20:05:23.579337",
     "status": "completed"
    },
    "tags": []
   },
   "outputs": [
    {
     "data": {
      "text/plain": [
       "<seaborn.axisgrid.FacetGrid at 0x7fa2d857ea50>"
      ]
     },
     "execution_count": 33,
     "metadata": {},
     "output_type": "execute_result"
    },
    {
     "data": {
      "image/png": "[encoded data removed]",
      "text/plain": [
       "<Figure size 432x216 with 2 Axes>"
      ]
     },
     "metadata": {
      "needs_background": "light"
     },
     "output_type": "display_data"
    }
   ],
   "source": [
    "g = sns.FacetGrid(train, col = 'Survived')\n",
    "g.map(sns.distplot, 'Age')"
   ]
  },
  {
   "cell_type": "code",
   "execution_count": 34,
   "id": "8b1962b6",
   "metadata": {
    "execution": {
     "iopub.execute_input": "2022-09-03T20:05:24.169306Z",
     "iopub.status.busy": "2022-09-03T20:05:24.168377Z",
     "iopub.status.idle": "2022-09-03T20:05:24.434146Z",
     "shell.execute_reply": "2022-09-03T20:05:24.432859Z"
    },
    "papermill": {
     "duration": 0.302388,
     "end_time": "2022-09-03T20:05:24.436506",
     "exception": false,
     "start_time": "2022-09-03T20:05:24.134118",
     "status": "completed"
    },
    "tags": []
   },
   "outputs": [
    {
     "data": {
      "text/plain": [
       "Text(0.5, 1.0, 'Passenger Age Distribution by Survival')"
      ]
     },
     "execution_count": 34,
     "metadata": {},
     "output_type": "execute_result"
    },
    {
     "data": {
      "image/png": "[encoded data removed]",
      "text/plain": [
       "<Figure size 432x288 with 1 Axes>"
      ]
     },
     "metadata": {
      "needs_background": "light"
     },
     "output_type": "display_data"
    }
   ],
   "source": [
    "sns.kdeplot(train['Age'][train['Survived'] == 0], label = 'Did not survive')\n",
    "sns.kdeplot(train['Age'][train['Survived'] == 1], label = 'Survived')\n",
    "plt.legend()\n",
    "plt.xlabel('Age')\n",
    "plt.title('Passenger Age Distribution by Survival')"
   ]
  },
  {
   "cell_type": "code",
   "execution_count": 35,
   "id": "c431e225",
   "metadata": {
    "execution": {
     "iopub.execute_input": "2022-09-03T20:05:24.507854Z",
     "iopub.status.busy": "2022-09-03T20:05:24.506838Z",
     "iopub.status.idle": "2022-09-03T20:05:24.885253Z",
     "shell.execute_reply": "2022-09-03T20:05:24.884160Z"
    },
    "papermill": {
     "duration": 0.41777,
     "end_time": "2022-09-03T20:05:24.887687",
     "exception": false,
     "start_time": "2022-09-03T20:05:24.469917",
     "status": "completed"
    },
    "tags": []
   },
   "outputs": [
    {
     "data": {
      "text/plain": [
       "Text(0, 0.5, 'Passenger Fare Distribution')"
      ]
     },
     "execution_count": 35,
     "metadata": {},
     "output_type": "execute_result"
    },
    {
     "data": {
      "image/png": "[encoded data removed]",
      "text/plain": [
       "<Figure size 432x288 with 1 Axes>"
      ]
     },
     "metadata": {
      "needs_background": "light"
     },
     "output_type": "display_data"
    }
   ],
   "source": [
    "sns.distplot(train['Fare'], label = 'Skewness: %.2f'%(train['Fare'].skew()))\n",
    "plt.legend(loc = 'best')\n",
    "plt.ylabel('Passenger Fare Distribution')"
   ]
  },
  {
   "cell_type": "code",
   "execution_count": 36,
   "id": "e6540769",
   "metadata": {
    "execution": {
     "iopub.execute_input": "2022-09-03T20:05:24.956454Z",
     "iopub.status.busy": "2022-09-03T20:05:24.956039Z",
     "iopub.status.idle": "2022-09-03T20:05:25.561126Z",
     "shell.execute_reply": "2022-09-03T20:05:25.559714Z"
    },
    "papermill": {
     "duration": 0.642178,
     "end_time": "2022-09-03T20:05:25.563702",
     "exception": false,
     "start_time": "2022-09-03T20:05:24.921524",
     "status": "completed"
    },
    "tags": []
   },
   "outputs": [
    {
     "data": {
      "text/plain": [
       "<seaborn.axisgrid.FacetGrid at 0x7fa2d0304590>"
      ]
     },
     "execution_count": 36,
     "metadata": {},
     "output_type": "execute_result"
    },
    {
     "data": {
      "image/png": "[encoded data removed]",
      "text/plain": [
       "<Figure size 432x216 with 2 Axes>"
      ]
     },
     "metadata": {
      "needs_background": "light"
     },
     "output_type": "display_data"
    }
   ],
   "source": [
    "g = sns.FacetGrid(train, col = 'Survived')\n",
    "g.map(sns.distplot, 'Fare')"
   ]
  },
  {
   "cell_type": "code",
   "execution_count": 37,
   "id": "4217eb23",
   "metadata": {
    "execution": {
     "iopub.execute_input": "2022-09-03T20:05:25.633950Z",
     "iopub.status.busy": "2022-09-03T20:05:25.633119Z",
     "iopub.status.idle": "2022-09-03T20:05:25.908483Z",
     "shell.execute_reply": "2022-09-03T20:05:25.907420Z"
    },
    "papermill": {
     "duration": 0.312886,
     "end_time": "2022-09-03T20:05:25.910701",
     "exception": false,
     "start_time": "2022-09-03T20:05:25.597815",
     "status": "completed"
    },
    "tags": []
   },
   "outputs": [
    {
     "data": {
      "text/plain": [
       "Text(0.5, 1.0, 'Passenger Age Distribution by Survival')"
      ]
     },
     "execution_count": 37,
     "metadata": {},
     "output_type": "execute_result"
    },
    {
     "data": {
      "image/png": "[encoded data removed]",
      "text/plain": [
       "<Figure size 432x288 with 1 Axes>"
      ]
     },
     "metadata": {
      "needs_background": "light"
     },
     "output_type": "display_data"
    }
   ],
   "source": [
    "sns.kdeplot(train['Fare'][train['Survived'] == 0], label = 'Did not survive')\n",
    "sns.kdeplot(train['Fare'][train['Survived'] == 1], label = 'Survived')\n",
    "plt.legend()\n",
    "plt.xlabel('Fare')\n",
    "plt.title('Passenger Age Distribution by Survival')"
   ]
  },
  {
   "cell_type": "markdown",
   "id": "3995eb1e",
   "metadata": {
    "papermill": {
     "duration": 0.034906,
     "end_time": "2022-09-03T20:05:25.980770",
     "exception": false,
     "start_time": "2022-09-03T20:05:25.945864",
     "status": "completed"
    },
    "tags": []
   },
   "source": [
    "# Processing Data"
   ]
  },
  {
   "cell_type": "markdown",
   "id": "2ddee4e2",
   "metadata": {
    "papermill": {
     "duration": 0.033816,
     "end_time": "2022-09-03T20:05:26.048982",
     "exception": false,
     "start_time": "2022-09-03T20:05:26.015166",
     "status": "completed"
    },
    "tags": []
   },
   "source": [
    "### Drop and Fill the missing values"
   ]
  },
  {
   "cell_type": "code",
   "execution_count": 38,
   "id": "813c41fc",
   "metadata": {
    "execution": {
     "iopub.execute_input": "2022-09-03T20:05:26.119798Z",
     "iopub.status.busy": "2022-09-03T20:05:26.119403Z",
     "iopub.status.idle": "2022-09-03T20:05:26.126389Z",
     "shell.execute_reply": "2022-09-03T20:05:26.125046Z"
    },
    "papermill": {
     "duration": 0.044918,
     "end_time": "2022-09-03T20:05:26.128628",
     "exception": false,
     "start_time": "2022-09-03T20:05:26.083710",
     "status": "completed"
    },
    "tags": []
   },
   "outputs": [],
   "source": [
    "train = train.drop(['Ticket', 'Cabin'], axis = 1)\n",
    "test = test.drop(['Ticket', 'Cabin'], axis = 1)"
   ]
  },
  {
   "cell_type": "code",
   "execution_count": 39,
   "id": "c69582fc",
   "metadata": {
    "execution": {
     "iopub.execute_input": "2022-09-03T20:05:26.199511Z",
     "iopub.status.busy": "2022-09-03T20:05:26.198696Z",
     "iopub.status.idle": "2022-09-03T20:05:26.208685Z",
     "shell.execute_reply": "2022-09-03T20:05:26.207791Z"
    },
    "papermill": {
     "duration": 0.048004,
     "end_time": "2022-09-03T20:05:26.210978",
     "exception": false,
     "start_time": "2022-09-03T20:05:26.162974",
     "status": "completed"
    },
    "tags": []
   },
   "outputs": [
    {
     "data": {
      "text/plain": [
       "Age            170\n",
       "Embarked         2\n",
       "PassengerId      0\n",
       "Survived         0\n",
       "Pclass           0\n",
       "Name             0\n",
       "Sex              0\n",
       "SibSp            0\n",
       "Parch            0\n",
       "Fare             0\n",
       "dtype: int64"
      ]
     },
     "execution_count": 39,
     "metadata": {},
     "output_type": "execute_result"
    }
   ],
   "source": [
    "#MISSING VALUES\n",
    "train.isnull().sum().sort_values(ascending = False)"
   ]
  },
  {
   "cell_type": "code",
   "execution_count": 40,
   "id": "82db969f",
   "metadata": {
    "execution": {
     "iopub.execute_input": "2022-09-03T20:05:26.282113Z",
     "iopub.status.busy": "2022-09-03T20:05:26.281321Z",
     "iopub.status.idle": "2022-09-03T20:05:26.288596Z",
     "shell.execute_reply": "2022-09-03T20:05:26.287777Z"
    },
    "papermill": {
     "duration": 0.04535,
     "end_time": "2022-09-03T20:05:26.290889",
     "exception": false,
     "start_time": "2022-09-03T20:05:26.245539",
     "status": "completed"
    },
    "tags": []
   },
   "outputs": [],
   "source": [
    "#FILLING MISSING VALUES WITH MOST COMMON VALUES\n",
    "mode = train['Embarked'].dropna().mode()[0]\n",
    "train['Embarked'].fillna(mode, inplace = True)\n"
   ]
  },
  {
   "cell_type": "code",
   "execution_count": 41,
   "id": "74b4b6ac",
   "metadata": {
    "execution": {
     "iopub.execute_input": "2022-09-03T20:05:26.361506Z",
     "iopub.status.busy": "2022-09-03T20:05:26.360744Z",
     "iopub.status.idle": "2022-09-03T20:05:26.370745Z",
     "shell.execute_reply": "2022-09-03T20:05:26.369601Z"
    },
    "papermill": {
     "duration": 0.048081,
     "end_time": "2022-09-03T20:05:26.373154",
     "exception": false,
     "start_time": "2022-09-03T20:05:26.325073",
     "status": "completed"
    },
    "tags": []
   },
   "outputs": [
    {
     "data": {
      "text/plain": [
       "Age            86\n",
       "Fare            1\n",
       "PassengerId     0\n",
       "Pclass          0\n",
       "Name            0\n",
       "Sex             0\n",
       "SibSp           0\n",
       "Parch           0\n",
       "Embarked        0\n",
       "dtype: int64"
      ]
     },
     "execution_count": 41,
     "metadata": {},
     "output_type": "execute_result"
    }
   ],
   "source": [
    "#TEST DATA\n",
    "test.isnull().sum().sort_values(ascending = False)"
   ]
  },
  {
   "cell_type": "code",
   "execution_count": 42,
   "id": "8bbf558d",
   "metadata": {
    "execution": {
     "iopub.execute_input": "2022-09-03T20:05:26.444769Z",
     "iopub.status.busy": "2022-09-03T20:05:26.444032Z",
     "iopub.status.idle": "2022-09-03T20:05:26.451187Z",
     "shell.execute_reply": "2022-09-03T20:05:26.449989Z"
    },
    "papermill": {
     "duration": 0.045203,
     "end_time": "2022-09-03T20:05:26.453469",
     "exception": false,
     "start_time": "2022-09-03T20:05:26.408266",
     "status": "completed"
    },
    "tags": []
   },
   "outputs": [],
   "source": [
    "\n",
    "median = test['Fare'].dropna().median()\n",
    "test['Fare'].fillna(median, inplace = True)"
   ]
  },
  {
   "cell_type": "markdown",
   "id": "463270d9",
   "metadata": {
    "papermill": {
     "duration": 0.036452,
     "end_time": "2022-09-03T20:05:26.524841",
     "exception": false,
     "start_time": "2022-09-03T20:05:26.488389",
     "status": "completed"
    },
    "tags": []
   },
   "source": [
    "### Now we are combining data to fill missing values to obtain best result"
   ]
  },
  {
   "cell_type": "code",
   "execution_count": 43,
   "id": "a701e471",
   "metadata": {
    "execution": {
     "iopub.execute_input": "2022-09-03T20:05:26.596438Z",
     "iopub.status.busy": "2022-09-03T20:05:26.595630Z",
     "iopub.status.idle": "2022-09-03T20:05:26.606004Z",
     "shell.execute_reply": "2022-09-03T20:05:26.604888Z"
    },
    "papermill": {
     "duration": 0.048539,
     "end_time": "2022-09-03T20:05:26.608308",
     "exception": false,
     "start_time": "2022-09-03T20:05:26.559769",
     "status": "completed"
    },
    "tags": []
   },
   "outputs": [],
   "source": [
    "combine = pd.concat([train, test], axis = 0).reset_index(drop = True)"
   ]
  },
  {
   "cell_type": "code",
   "execution_count": 44,
   "id": "c2772afd",
   "metadata": {
    "execution": {
     "iopub.execute_input": "2022-09-03T20:05:26.679464Z",
     "iopub.status.busy": "2022-09-03T20:05:26.678503Z",
     "iopub.status.idle": "2022-09-03T20:05:26.688970Z",
     "shell.execute_reply": "2022-09-03T20:05:26.687900Z"
    },
    "papermill": {
     "duration": 0.048496,
     "end_time": "2022-09-03T20:05:26.691279",
     "exception": false,
     "start_time": "2022-09-03T20:05:26.642783",
     "status": "completed"
    },
    "tags": []
   },
   "outputs": [
    {
     "data": {
      "text/plain": [
       "Survived       418\n",
       "Age            256\n",
       "PassengerId      0\n",
       "Pclass           0\n",
       "Name             0\n",
       "Sex              0\n",
       "SibSp            0\n",
       "Parch            0\n",
       "Fare             0\n",
       "Embarked         0\n",
       "dtype: int64"
      ]
     },
     "execution_count": 44,
     "metadata": {},
     "output_type": "execute_result"
    }
   ],
   "source": [
    "# Missing values in the combined dataset\n",
    "\n",
    "combine.isnull().sum().sort_values(ascending = False)"
   ]
  },
  {
   "cell_type": "markdown",
   "id": "3b0aecb9",
   "metadata": {
    "papermill": {
     "duration": 0.034241,
     "end_time": "2022-09-03T20:05:26.760013",
     "exception": false,
     "start_time": "2022-09-03T20:05:26.725772",
     "status": "completed"
    },
    "tags": []
   },
   "source": [
    "#### Encoding gender: male-> 1 & female-> 0"
   ]
  },
  {
   "cell_type": "code",
   "execution_count": 45,
   "id": "2d8a6dff",
   "metadata": {
    "execution": {
     "iopub.execute_input": "2022-09-03T20:05:26.830742Z",
     "iopub.status.busy": "2022-09-03T20:05:26.830224Z",
     "iopub.status.idle": "2022-09-03T20:05:26.837337Z",
     "shell.execute_reply": "2022-09-03T20:05:26.836481Z"
    },
    "papermill": {
     "duration": 0.045121,
     "end_time": "2022-09-03T20:05:26.839464",
     "exception": false,
     "start_time": "2022-09-03T20:05:26.794343",
     "status": "completed"
    },
    "tags": []
   },
   "outputs": [],
   "source": [
    "combine['Sex'] = combine['Sex'].map({'male': 1, 'female': 0})"
   ]
  },
  {
   "cell_type": "code",
   "execution_count": 46,
   "id": "aec3c715",
   "metadata": {
    "execution": {
     "iopub.execute_input": "2022-09-03T20:05:26.910989Z",
     "iopub.status.busy": "2022-09-03T20:05:26.910290Z",
     "iopub.status.idle": "2022-09-03T20:05:28.121028Z",
     "shell.execute_reply": "2022-09-03T20:05:28.119729Z"
    },
    "papermill": {
     "duration": 1.249011,
     "end_time": "2022-09-03T20:05:28.123329",
     "exception": false,
     "start_time": "2022-09-03T20:05:26.874318",
     "status": "completed"
    },
    "tags": []
   },
   "outputs": [
    {
     "data": {
      "text/plain": [
       "<seaborn.axisgrid.FacetGrid at 0x7fa2cff172d0>"
      ]
     },
     "execution_count": 46,
     "metadata": {},
     "output_type": "execute_result"
    },
    {
     "data": {
      "image/png": "[encoded data removed]",
      "text/plain": [
       "<Figure size 402.375x360 with 1 Axes>"
      ]
     },
     "metadata": {
      "needs_background": "light"
     },
     "output_type": "display_data"
    },
    {
     "data": {
      "image/png": "[encoded data removed]",
      "text/plain": [
       "<Figure size 360x360 with 1 Axes>"
      ]
     },
     "metadata": {
      "needs_background": "light"
     },
     "output_type": "display_data"
    },
    {
     "data": {
      "image/png": "[encoded data removed]",
      "text/plain": [
       "<Figure size 360x360 with 1 Axes>"
      ]
     },
     "metadata": {
      "needs_background": "light"
     },
     "output_type": "display_data"
    }
   ],
   "source": [
    "sns.factorplot(y = 'Age', x = 'Sex', hue = 'Pclass', kind = 'box', data = combine)\n",
    "sns.factorplot(y = 'Age', x = 'Parch', kind = 'box', data = combine)\n",
    "sns.factorplot(y = 'Age', x = 'SibSp', kind = 'box', data = combine)"
   ]
  },
  {
   "cell_type": "code",
   "execution_count": 47,
   "id": "96e45dc4",
   "metadata": {
    "execution": {
     "iopub.execute_input": "2022-09-03T20:05:28.196402Z",
     "iopub.status.busy": "2022-09-03T20:05:28.195992Z",
     "iopub.status.idle": "2022-09-03T20:05:28.539307Z",
     "shell.execute_reply": "2022-09-03T20:05:28.538199Z"
    },
    "papermill": {
     "duration": 0.382432,
     "end_time": "2022-09-03T20:05:28.541638",
     "exception": false,
     "start_time": "2022-09-03T20:05:28.159206",
     "status": "completed"
    },
    "tags": []
   },
   "outputs": [
    {
     "data": {
      "text/plain": [
       "<AxesSubplot:>"
      ]
     },
     "execution_count": 47,
     "metadata": {},
     "output_type": "execute_result"
    },
    {
     "data": {
      "image/png": "[encoded data removed]",
      "text/plain": [
       "<Figure size 432x288 with 2 Axes>"
      ]
     },
     "metadata": {
      "needs_background": "light"
     },
     "output_type": "display_data"
    }
   ],
   "source": [
    "sns.heatmap(combine.drop(['Survived', 'Name', 'PassengerId', 'Fare'], axis = 1).corr(), annot = True, cmap = 'coolwarm')"
   ]
  },
  {
   "cell_type": "markdown",
   "id": "ccedff26",
   "metadata": {
    "papermill": {
     "duration": 0.035362,
     "end_time": "2022-09-03T20:05:28.613342",
     "exception": false,
     "start_time": "2022-09-03T20:05:28.577980",
     "status": "completed"
    },
    "tags": []
   },
   "source": [
    "We can see in the heat map that age is negatively correlated to SibSp, Parch and Pclass"
   ]
  },
  {
   "cell_type": "code",
   "execution_count": 48,
   "id": "562c1497",
   "metadata": {
    "execution": {
     "iopub.execute_input": "2022-09-03T20:05:28.687321Z",
     "iopub.status.busy": "2022-09-03T20:05:28.686917Z",
     "iopub.status.idle": "2022-09-03T20:05:28.694511Z",
     "shell.execute_reply": "2022-09-03T20:05:28.693646Z"
    },
    "papermill": {
     "duration": 0.04649,
     "end_time": "2022-09-03T20:05:28.696429",
     "exception": false,
     "start_time": "2022-09-03T20:05:28.649939",
     "status": "completed"
    },
    "tags": []
   },
   "outputs": [
    {
     "data": {
      "text/plain": [
       "256"
      ]
     },
     "execution_count": 48,
     "metadata": {},
     "output_type": "execute_result"
    }
   ],
   "source": [
    "# Check number of missing ages \n",
    "\n",
    "miss_age = list(combine[combine['Age'].isnull()].index)\n",
    "len(miss_age)"
   ]
  },
  {
   "cell_type": "markdown",
   "id": "e2d066ee",
   "metadata": {
    "papermill": {
     "duration": 0.035409,
     "end_time": "2022-09-03T20:05:28.768114",
     "exception": false,
     "start_time": "2022-09-03T20:05:28.732705",
     "status": "completed"
    },
    "tags": []
   },
   "source": [
    "We fill the missing age with median of rows having same SibSp , Parch, Pclass values."
   ]
  },
  {
   "cell_type": "code",
   "execution_count": 49,
   "id": "d1dace1a",
   "metadata": {
    "execution": {
     "iopub.execute_input": "2022-09-03T20:05:28.842501Z",
     "iopub.status.busy": "2022-09-03T20:05:28.841775Z",
     "iopub.status.idle": "2022-09-03T20:05:29.390762Z",
     "shell.execute_reply": "2022-09-03T20:05:29.389555Z"
    },
    "papermill": {
     "duration": 0.589208,
     "end_time": "2022-09-03T20:05:29.393473",
     "exception": false,
     "start_time": "2022-09-03T20:05:28.804265",
     "status": "completed"
    },
    "tags": []
   },
   "outputs": [],
   "source": [
    "for index in miss_age:\n",
    "    median_age = combine['Age'].median()\n",
    "    predict_age = combine['Age'][(combine['SibSp'] == combine.iloc[index]['SibSp']) \n",
    "                                 & (combine['Parch'] == combine.iloc[index]['Parch'])\n",
    "                                 & (combine['Pclass'] == combine.iloc[index][\"Pclass\"])].median()\n",
    "    if np.isnan(predict_age):\n",
    "        combine['Age'].iloc[index] = median_age\n",
    "    else:\n",
    "        combine['Age'].iloc[index] = predict_age"
   ]
  },
  {
   "cell_type": "code",
   "execution_count": 50,
   "id": "07fc8464",
   "metadata": {
    "execution": {
     "iopub.execute_input": "2022-09-03T20:05:29.468752Z",
     "iopub.status.busy": "2022-09-03T20:05:29.468264Z",
     "iopub.status.idle": "2022-09-03T20:05:29.474954Z",
     "shell.execute_reply": "2022-09-03T20:05:29.474216Z"
    },
    "papermill": {
     "duration": 0.047062,
     "end_time": "2022-09-03T20:05:29.476952",
     "exception": false,
     "start_time": "2022-09-03T20:05:29.429890",
     "status": "completed"
    },
    "tags": []
   },
   "outputs": [
    {
     "data": {
      "text/plain": [
       "0"
      ]
     },
     "execution_count": 50,
     "metadata": {},
     "output_type": "execute_result"
    }
   ],
   "source": [
    "combine['Age'].isnull().sum()"
   ]
  },
  {
   "cell_type": "markdown",
   "id": "2153e19a",
   "metadata": {
    "papermill": {
     "duration": 0.036014,
     "end_time": "2022-09-03T20:05:29.549129",
     "exception": false,
     "start_time": "2022-09-03T20:05:29.513115",
     "status": "completed"
    },
    "tags": []
   },
   "source": [
    "# Transforming the data"
   ]
  },
  {
   "cell_type": "code",
   "execution_count": 51,
   "id": "386e6600",
   "metadata": {
    "execution": {
     "iopub.execute_input": "2022-09-03T20:05:29.623372Z",
     "iopub.status.busy": "2022-09-03T20:05:29.622775Z",
     "iopub.status.idle": "2022-09-03T20:05:29.999481Z",
     "shell.execute_reply": "2022-09-03T20:05:29.998320Z"
    },
    "papermill": {
     "duration": 0.416566,
     "end_time": "2022-09-03T20:05:30.001908",
     "exception": false,
     "start_time": "2022-09-03T20:05:29.585342",
     "status": "completed"
    },
    "tags": []
   },
   "outputs": [
    {
     "data": {
      "text/plain": [
       "Text(0.5, 1.0, 'Passenger Fare Distribution')"
      ]
     },
     "execution_count": 51,
     "metadata": {},
     "output_type": "execute_result"
    },
    {
     "data": {
      "image/png": "[encoded data removed]",
      "text/plain": [
       "<Figure size 432x288 with 1 Axes>"
      ]
     },
     "metadata": {
      "needs_background": "light"
     },
     "output_type": "display_data"
    }
   ],
   "source": [
    "#Fare distribution\n",
    "\n",
    "sns.distplot(combine['Fare'], label = 'Skewness: %.2f'%(combine['Fare'].skew()))\n",
    "plt.legend(loc = 'best')\n",
    "plt.title('Passenger Fare Distribution')"
   ]
  },
  {
   "cell_type": "code",
   "execution_count": 52,
   "id": "d58bc160",
   "metadata": {
    "execution": {
     "iopub.execute_input": "2022-09-03T20:05:30.078514Z",
     "iopub.status.busy": "2022-09-03T20:05:30.078070Z",
     "iopub.status.idle": "2022-09-03T20:05:30.086105Z",
     "shell.execute_reply": "2022-09-03T20:05:30.085154Z"
    },
    "papermill": {
     "duration": 0.049169,
     "end_time": "2022-09-03T20:05:30.088310",
     "exception": false,
     "start_time": "2022-09-03T20:05:30.039141",
     "status": "completed"
    },
    "tags": []
   },
   "outputs": [],
   "source": [
    "# Apply log transformation to Fare column to reduce skewness\n",
    "\n",
    "combine['Fare'] = combine['Fare'].map(lambda x: np.log(x) if x > 0 else 0)"
   ]
  },
  {
   "cell_type": "code",
   "execution_count": 53,
   "id": "1cc8731c",
   "metadata": {
    "execution": {
     "iopub.execute_input": "2022-09-03T20:05:30.164500Z",
     "iopub.status.busy": "2022-09-03T20:05:30.163789Z",
     "iopub.status.idle": "2022-09-03T20:05:30.491909Z",
     "shell.execute_reply": "2022-09-03T20:05:30.490913Z"
    },
    "papermill": {
     "duration": 0.369428,
     "end_time": "2022-09-03T20:05:30.495029",
     "exception": false,
     "start_time": "2022-09-03T20:05:30.125601",
     "status": "completed"
    },
    "tags": []
   },
   "outputs": [
    {
     "data": {
      "text/plain": [
       "Text(0.5, 1.0, 'Passenger Fare Distribution After Log Transformation')"
      ]
     },
     "execution_count": 53,
     "metadata": {},
     "output_type": "execute_result"
    },
    {
     "data": {
      "image/png": "[encoded data removed]",
      "text/plain": [
       "<Figure size 432x288 with 1 Axes>"
      ]
     },
     "metadata": {
      "needs_background": "light"
     },
     "output_type": "display_data"
    }
   ],
   "source": [
    "sns.distplot(combine['Fare'], label = 'Skewness: %.2f'%(combine['Fare'].skew()))\n",
    "plt.legend(loc = 'best')\n",
    "plt.title('Passenger Fare Distribution After Log Transformation')"
   ]
  },
  {
   "cell_type": "code",
   "execution_count": 54,
   "id": "5a17615e",
   "metadata": {
    "execution": {
     "iopub.execute_input": "2022-09-03T20:05:30.571591Z",
     "iopub.status.busy": "2022-09-03T20:05:30.571141Z",
     "iopub.status.idle": "2022-09-03T20:05:30.585843Z",
     "shell.execute_reply": "2022-09-03T20:05:30.584650Z"
    },
    "papermill": {
     "duration": 0.055879,
     "end_time": "2022-09-03T20:05:30.588143",
     "exception": false,
     "start_time": "2022-09-03T20:05:30.532264",
     "status": "completed"
    },
    "tags": []
   },
   "outputs": [
    {
     "data": {
      "text/html": [
       "<div>\n",
       "<style scoped>\n",
       "    .dataframe tbody tr th:only-of-type {\n",
       "        vertical-align: middle;\n",
       "    }\n",
       "\n",
       "    .dataframe tbody tr th {\n",
       "        vertical-align: top;\n",
       "    }\n",
       "\n",
       "    .dataframe thead th {\n",
       "        text-align: right;\n",
       "    }\n",
       "</style>\n",
       "<table border=\"1\" class=\"dataframe\">\n",
       "  <thead>\n",
       "    <tr style=\"text-align: right;\">\n",
       "      <th></th>\n",
       "      <th>Name</th>\n",
       "      <th>Title</th>\n",
       "    </tr>\n",
       "  </thead>\n",
       "  <tbody>\n",
       "    <tr>\n",
       "      <th>0</th>\n",
       "      <td>Braund, Mr. Owen Harris</td>\n",
       "      <td>Mr</td>\n",
       "    </tr>\n",
       "    <tr>\n",
       "      <th>1</th>\n",
       "      <td>Cumings, Mrs. John Bradley (Florence Briggs Th...</td>\n",
       "      <td>Mrs</td>\n",
       "    </tr>\n",
       "    <tr>\n",
       "      <th>2</th>\n",
       "      <td>Heikkinen, Miss. Laina</td>\n",
       "      <td>Miss</td>\n",
       "    </tr>\n",
       "    <tr>\n",
       "      <th>3</th>\n",
       "      <td>Futrelle, Mrs. Jacques Heath (Lily May Peel)</td>\n",
       "      <td>Mrs</td>\n",
       "    </tr>\n",
       "    <tr>\n",
       "      <th>4</th>\n",
       "      <td>Allen, Mr. William Henry</td>\n",
       "      <td>Mr</td>\n",
       "    </tr>\n",
       "  </tbody>\n",
       "</table>\n",
       "</div>"
      ],
      "text/plain": [
       "                                                Name Title\n",
       "0                            Braund, Mr. Owen Harris    Mr\n",
       "1  Cumings, Mrs. John Bradley (Florence Briggs Th...   Mrs\n",
       "2                             Heikkinen, Miss. Laina  Miss\n",
       "3       Futrelle, Mrs. Jacques Heath (Lily May Peel)   Mrs\n",
       "4                           Allen, Mr. William Henry    Mr"
      ]
     },
     "execution_count": 54,
     "metadata": {},
     "output_type": "execute_result"
    }
   ],
   "source": [
    "combine['Title'] = [name.split(',')[1].split('.')[0].strip() for name in combine['Name']]\n",
    "combine[['Name', 'Title']].head()"
   ]
  },
  {
   "cell_type": "code",
   "execution_count": 55,
   "id": "e1f064c0",
   "metadata": {
    "execution": {
     "iopub.execute_input": "2022-09-03T20:05:30.665173Z",
     "iopub.status.busy": "2022-09-03T20:05:30.664072Z",
     "iopub.status.idle": "2022-09-03T20:05:30.671153Z",
     "shell.execute_reply": "2022-09-03T20:05:30.670023Z"
    },
    "papermill": {
     "duration": 0.047638,
     "end_time": "2022-09-03T20:05:30.673143",
     "exception": false,
     "start_time": "2022-09-03T20:05:30.625505",
     "status": "completed"
    },
    "tags": []
   },
   "outputs": [
    {
     "data": {
      "text/plain": [
       "18"
      ]
     },
     "execution_count": 55,
     "metadata": {},
     "output_type": "execute_result"
    }
   ],
   "source": [
    "combine['Title'].nunique()"
   ]
  },
  {
   "cell_type": "code",
   "execution_count": 56,
   "id": "598e9d12",
   "metadata": {
    "execution": {
     "iopub.execute_input": "2022-09-03T20:05:30.750748Z",
     "iopub.status.busy": "2022-09-03T20:05:30.749950Z",
     "iopub.status.idle": "2022-09-03T20:05:30.759109Z",
     "shell.execute_reply": "2022-09-03T20:05:30.758223Z"
    },
    "papermill": {
     "duration": 0.050271,
     "end_time": "2022-09-03T20:05:30.761366",
     "exception": false,
     "start_time": "2022-09-03T20:05:30.711095",
     "status": "completed"
    },
    "tags": []
   },
   "outputs": [],
   "source": [
    "# Simplify title\n",
    "\n",
    "combine['Title'] = combine['Title'].replace(['Dr', 'Rev', 'Col', 'Major', 'Lady', 'Jonkheer', 'Don', 'Capt', 'the Countess',\n",
    "                                             'Sir', 'Dona'], 'Rare')\n",
    "combine['Title'] = combine['Title'].replace(['Mlle', 'Ms'], 'Miss')\n",
    "combine['Title'] = combine['Title'].replace('Mme', 'Mrs')"
   ]
  },
  {
   "cell_type": "code",
   "execution_count": 57,
   "id": "7b0b6c72",
   "metadata": {
    "execution": {
     "iopub.execute_input": "2022-09-03T20:05:30.838009Z",
     "iopub.status.busy": "2022-09-03T20:05:30.837298Z",
     "iopub.status.idle": "2022-09-03T20:05:31.207003Z",
     "shell.execute_reply": "2022-09-03T20:05:31.205835Z"
    },
    "papermill": {
     "duration": 0.410691,
     "end_time": "2022-09-03T20:05:31.209583",
     "exception": false,
     "start_time": "2022-09-03T20:05:30.798892",
     "status": "completed"
    },
    "tags": []
   },
   "outputs": [
    {
     "data": {
      "text/plain": [
       "<AxesSubplot:xlabel='Title', ylabel='count'>"
      ]
     },
     "execution_count": 57,
     "metadata": {},
     "output_type": "execute_result"
    },
    {
     "data": {
      "image/png": "[encoded data removed]",
      "text/plain": [
       "<Figure size 432x288 with 1 Axes>"
      ]
     },
     "metadata": {
      "needs_background": "light"
     },
     "output_type": "display_data"
    }
   ],
   "source": [
    "sns.countplot(combine['Title'])"
   ]
  },
  {
   "cell_type": "code",
   "execution_count": 58,
   "id": "534989e5",
   "metadata": {
    "execution": {
     "iopub.execute_input": "2022-09-03T20:05:31.287634Z",
     "iopub.status.busy": "2022-09-03T20:05:31.286926Z",
     "iopub.status.idle": "2022-09-03T20:05:31.303031Z",
     "shell.execute_reply": "2022-09-03T20:05:31.301919Z"
    },
    "papermill": {
     "duration": 0.057738,
     "end_time": "2022-09-03T20:05:31.305153",
     "exception": false,
     "start_time": "2022-09-03T20:05:31.247415",
     "status": "completed"
    },
    "tags": []
   },
   "outputs": [
    {
     "data": {
      "text/html": [
       "<div>\n",
       "<style scoped>\n",
       "    .dataframe tbody tr th:only-of-type {\n",
       "        vertical-align: middle;\n",
       "    }\n",
       "\n",
       "    .dataframe tbody tr th {\n",
       "        vertical-align: top;\n",
       "    }\n",
       "\n",
       "    .dataframe thead th {\n",
       "        text-align: right;\n",
       "    }\n",
       "</style>\n",
       "<table border=\"1\" class=\"dataframe\">\n",
       "  <thead>\n",
       "    <tr style=\"text-align: right;\">\n",
       "      <th></th>\n",
       "      <th>Title</th>\n",
       "      <th>Survived</th>\n",
       "    </tr>\n",
       "  </thead>\n",
       "  <tbody>\n",
       "    <tr>\n",
       "      <th>3</th>\n",
       "      <td>Mrs</td>\n",
       "      <td>0.793651</td>\n",
       "    </tr>\n",
       "    <tr>\n",
       "      <th>1</th>\n",
       "      <td>Miss</td>\n",
       "      <td>0.711111</td>\n",
       "    </tr>\n",
       "    <tr>\n",
       "      <th>0</th>\n",
       "      <td>Master</td>\n",
       "      <td>0.589744</td>\n",
       "    </tr>\n",
       "    <tr>\n",
       "      <th>4</th>\n",
       "      <td>Rare</td>\n",
       "      <td>0.347826</td>\n",
       "    </tr>\n",
       "    <tr>\n",
       "      <th>2</th>\n",
       "      <td>Mr</td>\n",
       "      <td>0.157895</td>\n",
       "    </tr>\n",
       "  </tbody>\n",
       "</table>\n",
       "</div>"
      ],
      "text/plain": [
       "    Title  Survived\n",
       "3     Mrs  0.793651\n",
       "1    Miss  0.711111\n",
       "0  Master  0.589744\n",
       "4    Rare  0.347826\n",
       "2      Mr  0.157895"
      ]
     },
     "execution_count": 58,
     "metadata": {},
     "output_type": "execute_result"
    }
   ],
   "source": [
    "combine[['Title', 'Survived']].groupby(['Title'], as_index = False).mean().sort_values(by='Survived',ascending=False)"
   ]
  },
  {
   "cell_type": "code",
   "execution_count": 59,
   "id": "74b79774",
   "metadata": {
    "execution": {
     "iopub.execute_input": "2022-09-03T20:05:31.384153Z",
     "iopub.status.busy": "2022-09-03T20:05:31.383188Z",
     "iopub.status.idle": "2022-09-03T20:05:31.798510Z",
     "shell.execute_reply": "2022-09-03T20:05:31.797343Z"
    },
    "papermill": {
     "duration": 0.458076,
     "end_time": "2022-09-03T20:05:31.801129",
     "exception": false,
     "start_time": "2022-09-03T20:05:31.343053",
     "status": "completed"
    },
    "tags": []
   },
   "outputs": [
    {
     "data": {
      "text/plain": [
       "Text(0.5, 1.0, 'Mean of survival by Title')"
      ]
     },
     "execution_count": 59,
     "metadata": {},
     "output_type": "execute_result"
    },
    {
     "data": {
      "image/png": "[encoded data removed]",
      "text/plain": [
       "<Figure size 360x360 with 1 Axes>"
      ]
     },
     "metadata": {
      "needs_background": "light"
     },
     "output_type": "display_data"
    }
   ],
   "source": [
    "sns.factorplot(x = 'Title', y = 'Survived', data = combine, kind = 'bar')\n",
    "plt.ylabel('Survival Probability')\n",
    "plt.title('Mean of survival by Title')"
   ]
  },
  {
   "cell_type": "code",
   "execution_count": 60,
   "id": "5e89a124",
   "metadata": {
    "execution": {
     "iopub.execute_input": "2022-09-03T20:05:31.880236Z",
     "iopub.status.busy": "2022-09-03T20:05:31.879434Z",
     "iopub.status.idle": "2022-09-03T20:05:31.896674Z",
     "shell.execute_reply": "2022-09-03T20:05:31.895610Z"
    },
    "papermill": {
     "duration": 0.059172,
     "end_time": "2022-09-03T20:05:31.898969",
     "exception": false,
     "start_time": "2022-09-03T20:05:31.839797",
     "status": "completed"
    },
    "tags": []
   },
   "outputs": [
    {
     "data": {
      "text/html": [
       "<div>\n",
       "<style scoped>\n",
       "    .dataframe tbody tr th:only-of-type {\n",
       "        vertical-align: middle;\n",
       "    }\n",
       "\n",
       "    .dataframe tbody tr th {\n",
       "        vertical-align: top;\n",
       "    }\n",
       "\n",
       "    .dataframe thead th {\n",
       "        text-align: right;\n",
       "    }\n",
       "</style>\n",
       "<table border=\"1\" class=\"dataframe\">\n",
       "  <thead>\n",
       "    <tr style=\"text-align: right;\">\n",
       "      <th></th>\n",
       "      <th>PassengerId</th>\n",
       "      <th>Survived</th>\n",
       "      <th>Pclass</th>\n",
       "      <th>Sex</th>\n",
       "      <th>Age</th>\n",
       "      <th>SibSp</th>\n",
       "      <th>Parch</th>\n",
       "      <th>Fare</th>\n",
       "      <th>Embarked</th>\n",
       "      <th>Title</th>\n",
       "    </tr>\n",
       "  </thead>\n",
       "  <tbody>\n",
       "    <tr>\n",
       "      <th>0</th>\n",
       "      <td>1</td>\n",
       "      <td>0.0</td>\n",
       "      <td>3</td>\n",
       "      <td>1</td>\n",
       "      <td>22.0</td>\n",
       "      <td>1</td>\n",
       "      <td>0</td>\n",
       "      <td>1.981001</td>\n",
       "      <td>S</td>\n",
       "      <td>Mr</td>\n",
       "    </tr>\n",
       "    <tr>\n",
       "      <th>1</th>\n",
       "      <td>2</td>\n",
       "      <td>1.0</td>\n",
       "      <td>1</td>\n",
       "      <td>0</td>\n",
       "      <td>38.0</td>\n",
       "      <td>1</td>\n",
       "      <td>0</td>\n",
       "      <td>4.266662</td>\n",
       "      <td>C</td>\n",
       "      <td>Mrs</td>\n",
       "    </tr>\n",
       "    <tr>\n",
       "      <th>2</th>\n",
       "      <td>3</td>\n",
       "      <td>1.0</td>\n",
       "      <td>3</td>\n",
       "      <td>0</td>\n",
       "      <td>26.0</td>\n",
       "      <td>0</td>\n",
       "      <td>0</td>\n",
       "      <td>2.070022</td>\n",
       "      <td>S</td>\n",
       "      <td>Miss</td>\n",
       "    </tr>\n",
       "    <tr>\n",
       "      <th>3</th>\n",
       "      <td>4</td>\n",
       "      <td>1.0</td>\n",
       "      <td>1</td>\n",
       "      <td>0</td>\n",
       "      <td>35.0</td>\n",
       "      <td>1</td>\n",
       "      <td>0</td>\n",
       "      <td>3.972177</td>\n",
       "      <td>S</td>\n",
       "      <td>Mrs</td>\n",
       "    </tr>\n",
       "    <tr>\n",
       "      <th>4</th>\n",
       "      <td>5</td>\n",
       "      <td>0.0</td>\n",
       "      <td>3</td>\n",
       "      <td>1</td>\n",
       "      <td>35.0</td>\n",
       "      <td>0</td>\n",
       "      <td>0</td>\n",
       "      <td>2.085672</td>\n",
       "      <td>S</td>\n",
       "      <td>Mr</td>\n",
       "    </tr>\n",
       "  </tbody>\n",
       "</table>\n",
       "</div>"
      ],
      "text/plain": [
       "   PassengerId  Survived  Pclass  Sex   Age  SibSp  Parch      Fare Embarked  \\\n",
       "0            1       0.0       3    1  22.0      1      0  1.981001        S   \n",
       "1            2       1.0       1    0  38.0      1      0  4.266662        C   \n",
       "2            3       1.0       3    0  26.0      0      0  2.070022        S   \n",
       "3            4       1.0       1    0  35.0      1      0  3.972177        S   \n",
       "4            5       0.0       3    1  35.0      0      0  2.085672        S   \n",
       "\n",
       "  Title  \n",
       "0    Mr  \n",
       "1   Mrs  \n",
       "2  Miss  \n",
       "3   Mrs  \n",
       "4    Mr  "
      ]
     },
     "execution_count": 60,
     "metadata": {},
     "output_type": "execute_result"
    }
   ],
   "source": [
    "combine = combine.drop('Name', axis = 1)\n",
    "combine.head()"
   ]
  },
  {
   "cell_type": "code",
   "execution_count": 61,
   "id": "8a2c75d1",
   "metadata": {
    "execution": {
     "iopub.execute_input": "2022-09-03T20:05:32.044607Z",
     "iopub.status.busy": "2022-09-03T20:05:32.044160Z",
     "iopub.status.idle": "2022-09-03T20:05:32.057657Z",
     "shell.execute_reply": "2022-09-03T20:05:32.056566Z"
    },
    "papermill": {
     "duration": 0.122457,
     "end_time": "2022-09-03T20:05:32.060040",
     "exception": false,
     "start_time": "2022-09-03T20:05:31.937583",
     "status": "completed"
    },
    "tags": []
   },
   "outputs": [
    {
     "data": {
      "text/html": [
       "<div>\n",
       "<style scoped>\n",
       "    .dataframe tbody tr th:only-of-type {\n",
       "        vertical-align: middle;\n",
       "    }\n",
       "\n",
       "    .dataframe tbody tr th {\n",
       "        vertical-align: top;\n",
       "    }\n",
       "\n",
       "    .dataframe thead th {\n",
       "        text-align: right;\n",
       "    }\n",
       "</style>\n",
       "<table border=\"1\" class=\"dataframe\">\n",
       "  <thead>\n",
       "    <tr style=\"text-align: right;\">\n",
       "      <th></th>\n",
       "      <th>SibSp</th>\n",
       "      <th>Parch</th>\n",
       "      <th>FamilySize</th>\n",
       "    </tr>\n",
       "  </thead>\n",
       "  <tbody>\n",
       "    <tr>\n",
       "      <th>0</th>\n",
       "      <td>1</td>\n",
       "      <td>0</td>\n",
       "      <td>2</td>\n",
       "    </tr>\n",
       "    <tr>\n",
       "      <th>1</th>\n",
       "      <td>1</td>\n",
       "      <td>0</td>\n",
       "      <td>2</td>\n",
       "    </tr>\n",
       "    <tr>\n",
       "      <th>2</th>\n",
       "      <td>0</td>\n",
       "      <td>0</td>\n",
       "      <td>1</td>\n",
       "    </tr>\n",
       "    <tr>\n",
       "      <th>3</th>\n",
       "      <td>1</td>\n",
       "      <td>0</td>\n",
       "      <td>2</td>\n",
       "    </tr>\n",
       "    <tr>\n",
       "      <th>4</th>\n",
       "      <td>0</td>\n",
       "      <td>0</td>\n",
       "      <td>1</td>\n",
       "    </tr>\n",
       "    <tr>\n",
       "      <th>5</th>\n",
       "      <td>0</td>\n",
       "      <td>0</td>\n",
       "      <td>1</td>\n",
       "    </tr>\n",
       "    <tr>\n",
       "      <th>6</th>\n",
       "      <td>0</td>\n",
       "      <td>0</td>\n",
       "      <td>1</td>\n",
       "    </tr>\n",
       "    <tr>\n",
       "      <th>7</th>\n",
       "      <td>3</td>\n",
       "      <td>1</td>\n",
       "      <td>5</td>\n",
       "    </tr>\n",
       "    <tr>\n",
       "      <th>8</th>\n",
       "      <td>0</td>\n",
       "      <td>2</td>\n",
       "      <td>3</td>\n",
       "    </tr>\n",
       "    <tr>\n",
       "      <th>9</th>\n",
       "      <td>1</td>\n",
       "      <td>0</td>\n",
       "      <td>2</td>\n",
       "    </tr>\n",
       "  </tbody>\n",
       "</table>\n",
       "</div>"
      ],
      "text/plain": [
       "   SibSp  Parch  FamilySize\n",
       "0      1      0           2\n",
       "1      1      0           2\n",
       "2      0      0           1\n",
       "3      1      0           2\n",
       "4      0      0           1\n",
       "5      0      0           1\n",
       "6      0      0           1\n",
       "7      3      1           5\n",
       "8      0      2           3\n",
       "9      1      0           2"
      ]
     },
     "execution_count": 61,
     "metadata": {},
     "output_type": "execute_result"
    }
   ],
   "source": [
    "#Calculating family\n",
    "combine['FamilySize'] = combine['SibSp'] + combine['Parch'] + 1\n",
    "combine[['SibSp', 'Parch', 'FamilySize']].head(10)"
   ]
  },
  {
   "cell_type": "code",
   "execution_count": 62,
   "id": "22f5da35",
   "metadata": {
    "execution": {
     "iopub.execute_input": "2022-09-03T20:05:32.140513Z",
     "iopub.status.busy": "2022-09-03T20:05:32.140098Z",
     "iopub.status.idle": "2022-09-03T20:05:32.156140Z",
     "shell.execute_reply": "2022-09-03T20:05:32.155029Z"
    },
    "papermill": {
     "duration": 0.058591,
     "end_time": "2022-09-03T20:05:32.158352",
     "exception": false,
     "start_time": "2022-09-03T20:05:32.099761",
     "status": "completed"
    },
    "tags": []
   },
   "outputs": [
    {
     "data": {
      "text/html": [
       "<div>\n",
       "<style scoped>\n",
       "    .dataframe tbody tr th:only-of-type {\n",
       "        vertical-align: middle;\n",
       "    }\n",
       "\n",
       "    .dataframe tbody tr th {\n",
       "        vertical-align: top;\n",
       "    }\n",
       "\n",
       "    .dataframe thead th {\n",
       "        text-align: right;\n",
       "    }\n",
       "</style>\n",
       "<table border=\"1\" class=\"dataframe\">\n",
       "  <thead>\n",
       "    <tr style=\"text-align: right;\">\n",
       "      <th></th>\n",
       "      <th>FamilySize</th>\n",
       "      <th>Survived</th>\n",
       "    </tr>\n",
       "  </thead>\n",
       "  <tbody>\n",
       "    <tr>\n",
       "      <th>3</th>\n",
       "      <td>4</td>\n",
       "      <td>0.724138</td>\n",
       "    </tr>\n",
       "    <tr>\n",
       "      <th>2</th>\n",
       "      <td>3</td>\n",
       "      <td>0.578431</td>\n",
       "    </tr>\n",
       "    <tr>\n",
       "      <th>1</th>\n",
       "      <td>2</td>\n",
       "      <td>0.552795</td>\n",
       "    </tr>\n",
       "    <tr>\n",
       "      <th>6</th>\n",
       "      <td>7</td>\n",
       "      <td>0.333333</td>\n",
       "    </tr>\n",
       "    <tr>\n",
       "      <th>0</th>\n",
       "      <td>1</td>\n",
       "      <td>0.303538</td>\n",
       "    </tr>\n",
       "    <tr>\n",
       "      <th>4</th>\n",
       "      <td>5</td>\n",
       "      <td>0.200000</td>\n",
       "    </tr>\n",
       "    <tr>\n",
       "      <th>5</th>\n",
       "      <td>6</td>\n",
       "      <td>0.052632</td>\n",
       "    </tr>\n",
       "    <tr>\n",
       "      <th>7</th>\n",
       "      <td>8</td>\n",
       "      <td>0.000000</td>\n",
       "    </tr>\n",
       "    <tr>\n",
       "      <th>8</th>\n",
       "      <td>11</td>\n",
       "      <td>NaN</td>\n",
       "    </tr>\n",
       "  </tbody>\n",
       "</table>\n",
       "</div>"
      ],
      "text/plain": [
       "   FamilySize  Survived\n",
       "3           4  0.724138\n",
       "2           3  0.578431\n",
       "1           2  0.552795\n",
       "6           7  0.333333\n",
       "0           1  0.303538\n",
       "4           5  0.200000\n",
       "5           6  0.052632\n",
       "7           8  0.000000\n",
       "8          11       NaN"
      ]
     },
     "execution_count": 62,
     "metadata": {},
     "output_type": "execute_result"
    }
   ],
   "source": [
    "# Mean of survival by family size\n",
    "\n",
    "combine[['FamilySize', 'Survived']].groupby('FamilySize', as_index = False).mean().sort_values(by = 'Survived',ascending =False)"
   ]
  },
  {
   "cell_type": "code",
   "execution_count": 63,
   "id": "b9f4f042",
   "metadata": {
    "execution": {
     "iopub.execute_input": "2022-09-03T20:05:32.240486Z",
     "iopub.status.busy": "2022-09-03T20:05:32.240077Z",
     "iopub.status.idle": "2022-09-03T20:05:32.256550Z",
     "shell.execute_reply": "2022-09-03T20:05:32.255759Z"
    },
    "papermill": {
     "duration": 0.060308,
     "end_time": "2022-09-03T20:05:32.258958",
     "exception": false,
     "start_time": "2022-09-03T20:05:32.198650",
     "status": "completed"
    },
    "tags": []
   },
   "outputs": [
    {
     "data": {
      "text/html": [
       "<div>\n",
       "<style scoped>\n",
       "    .dataframe tbody tr th:only-of-type {\n",
       "        vertical-align: middle;\n",
       "    }\n",
       "\n",
       "    .dataframe tbody tr th {\n",
       "        vertical-align: top;\n",
       "    }\n",
       "\n",
       "    .dataframe thead th {\n",
       "        text-align: right;\n",
       "    }\n",
       "</style>\n",
       "<table border=\"1\" class=\"dataframe\">\n",
       "  <thead>\n",
       "    <tr style=\"text-align: right;\">\n",
       "      <th></th>\n",
       "      <th>IsAlone</th>\n",
       "      <th>Survived</th>\n",
       "    </tr>\n",
       "  </thead>\n",
       "  <tbody>\n",
       "    <tr>\n",
       "      <th>0</th>\n",
       "      <td>0</td>\n",
       "      <td>0.514535</td>\n",
       "    </tr>\n",
       "    <tr>\n",
       "      <th>1</th>\n",
       "      <td>1</td>\n",
       "      <td>0.303538</td>\n",
       "    </tr>\n",
       "  </tbody>\n",
       "</table>\n",
       "</div>"
      ],
      "text/plain": [
       "   IsAlone  Survived\n",
       "0        0  0.514535\n",
       "1        1  0.303538"
      ]
     },
     "execution_count": 63,
     "metadata": {},
     "output_type": "execute_result"
    }
   ],
   "source": [
    "combine['IsAlone'] = 0\n",
    "combine.loc[combine['FamilySize'] == 1, 'IsAlone'] = 1\n",
    "# Mean of survival by IsAlone\n",
    "\n",
    "combine[['IsAlone', 'Survived']].groupby('IsAlone', as_index = False).mean().sort_values(by='Survived',ascending=False)"
   ]
  },
  {
   "cell_type": "code",
   "execution_count": 64,
   "id": "054ba6ce",
   "metadata": {
    "execution": {
     "iopub.execute_input": "2022-09-03T20:05:32.339905Z",
     "iopub.status.busy": "2022-09-03T20:05:32.339478Z",
     "iopub.status.idle": "2022-09-03T20:05:32.356710Z",
     "shell.execute_reply": "2022-09-03T20:05:32.355629Z"
    },
    "papermill": {
     "duration": 0.060536,
     "end_time": "2022-09-03T20:05:32.358925",
     "exception": false,
     "start_time": "2022-09-03T20:05:32.298389",
     "status": "completed"
    },
    "tags": []
   },
   "outputs": [
    {
     "data": {
      "text/html": [
       "<div>\n",
       "<style scoped>\n",
       "    .dataframe tbody tr th:only-of-type {\n",
       "        vertical-align: middle;\n",
       "    }\n",
       "\n",
       "    .dataframe tbody tr th {\n",
       "        vertical-align: top;\n",
       "    }\n",
       "\n",
       "    .dataframe thead th {\n",
       "        text-align: right;\n",
       "    }\n",
       "</style>\n",
       "<table border=\"1\" class=\"dataframe\">\n",
       "  <thead>\n",
       "    <tr style=\"text-align: right;\">\n",
       "      <th></th>\n",
       "      <th>PassengerId</th>\n",
       "      <th>Survived</th>\n",
       "      <th>Pclass</th>\n",
       "      <th>Sex</th>\n",
       "      <th>Age</th>\n",
       "      <th>Fare</th>\n",
       "      <th>Embarked</th>\n",
       "      <th>Title</th>\n",
       "      <th>IsAlone</th>\n",
       "    </tr>\n",
       "  </thead>\n",
       "  <tbody>\n",
       "    <tr>\n",
       "      <th>0</th>\n",
       "      <td>1</td>\n",
       "      <td>0.0</td>\n",
       "      <td>3</td>\n",
       "      <td>1</td>\n",
       "      <td>22.0</td>\n",
       "      <td>1.981001</td>\n",
       "      <td>S</td>\n",
       "      <td>Mr</td>\n",
       "      <td>0</td>\n",
       "    </tr>\n",
       "    <tr>\n",
       "      <th>1</th>\n",
       "      <td>2</td>\n",
       "      <td>1.0</td>\n",
       "      <td>1</td>\n",
       "      <td>0</td>\n",
       "      <td>38.0</td>\n",
       "      <td>4.266662</td>\n",
       "      <td>C</td>\n",
       "      <td>Mrs</td>\n",
       "      <td>0</td>\n",
       "    </tr>\n",
       "    <tr>\n",
       "      <th>2</th>\n",
       "      <td>3</td>\n",
       "      <td>1.0</td>\n",
       "      <td>3</td>\n",
       "      <td>0</td>\n",
       "      <td>26.0</td>\n",
       "      <td>2.070022</td>\n",
       "      <td>S</td>\n",
       "      <td>Miss</td>\n",
       "      <td>1</td>\n",
       "    </tr>\n",
       "    <tr>\n",
       "      <th>3</th>\n",
       "      <td>4</td>\n",
       "      <td>1.0</td>\n",
       "      <td>1</td>\n",
       "      <td>0</td>\n",
       "      <td>35.0</td>\n",
       "      <td>3.972177</td>\n",
       "      <td>S</td>\n",
       "      <td>Mrs</td>\n",
       "      <td>0</td>\n",
       "    </tr>\n",
       "    <tr>\n",
       "      <th>4</th>\n",
       "      <td>5</td>\n",
       "      <td>0.0</td>\n",
       "      <td>3</td>\n",
       "      <td>1</td>\n",
       "      <td>35.0</td>\n",
       "      <td>2.085672</td>\n",
       "      <td>S</td>\n",
       "      <td>Mr</td>\n",
       "      <td>1</td>\n",
       "    </tr>\n",
       "  </tbody>\n",
       "</table>\n",
       "</div>"
      ],
      "text/plain": [
       "   PassengerId  Survived  Pclass  Sex   Age      Fare Embarked Title  IsAlone\n",
       "0            1       0.0       3    1  22.0  1.981001        S    Mr        0\n",
       "1            2       1.0       1    0  38.0  4.266662        C   Mrs        0\n",
       "2            3       1.0       3    0  26.0  2.070022        S  Miss        1\n",
       "3            4       1.0       1    0  35.0  3.972177        S   Mrs        0\n",
       "4            5       0.0       3    1  35.0  2.085672        S    Mr        1"
      ]
     },
     "execution_count": 64,
     "metadata": {},
     "output_type": "execute_result"
    }
   ],
   "source": [
    "# Drop SibSp, Parch and FamilySize features from combine dataframe\n",
    "\n",
    "combine = combine.drop(['SibSp', 'Parch', 'FamilySize'], axis = 1)\n",
    "combine.head()"
   ]
  },
  {
   "cell_type": "code",
   "execution_count": 65,
   "id": "70a7ccb6",
   "metadata": {
    "execution": {
     "iopub.execute_input": "2022-09-03T20:05:32.439973Z",
     "iopub.status.busy": "2022-09-03T20:05:32.439591Z",
     "iopub.status.idle": "2022-09-03T20:05:32.468075Z",
     "shell.execute_reply": "2022-09-03T20:05:32.466902Z"
    },
    "papermill": {
     "duration": 0.072363,
     "end_time": "2022-09-03T20:05:32.471103",
     "exception": false,
     "start_time": "2022-09-03T20:05:32.398740",
     "status": "completed"
    },
    "tags": []
   },
   "outputs": [
    {
     "data": {
      "text/html": [
       "<div>\n",
       "<style scoped>\n",
       "    .dataframe tbody tr th:only-of-type {\n",
       "        vertical-align: middle;\n",
       "    }\n",
       "\n",
       "    .dataframe tbody tr th {\n",
       "        vertical-align: top;\n",
       "    }\n",
       "\n",
       "    .dataframe thead th {\n",
       "        text-align: right;\n",
       "    }\n",
       "</style>\n",
       "<table border=\"1\" class=\"dataframe\">\n",
       "  <thead>\n",
       "    <tr style=\"text-align: right;\">\n",
       "      <th></th>\n",
       "      <th>AgeRange</th>\n",
       "      <th>Survived</th>\n",
       "    </tr>\n",
       "  </thead>\n",
       "  <tbody>\n",
       "    <tr>\n",
       "      <th>0</th>\n",
       "      <td>(0.0902, 16.136]</td>\n",
       "      <td>0.532110</td>\n",
       "    </tr>\n",
       "    <tr>\n",
       "      <th>3</th>\n",
       "      <td>(48.068, 64.034]</td>\n",
       "      <td>0.434783</td>\n",
       "    </tr>\n",
       "    <tr>\n",
       "      <th>2</th>\n",
       "      <td>(32.102, 48.068]</td>\n",
       "      <td>0.412844</td>\n",
       "    </tr>\n",
       "    <tr>\n",
       "      <th>1</th>\n",
       "      <td>(16.136, 32.102]</td>\n",
       "      <td>0.339662</td>\n",
       "    </tr>\n",
       "    <tr>\n",
       "      <th>4</th>\n",
       "      <td>(64.034, 80.0]</td>\n",
       "      <td>0.090909</td>\n",
       "    </tr>\n",
       "  </tbody>\n",
       "</table>\n",
       "</div>"
      ],
      "text/plain": [
       "           AgeRange  Survived\n",
       "0  (0.0902, 16.136]  0.532110\n",
       "3  (48.068, 64.034]  0.434783\n",
       "2  (32.102, 48.068]  0.412844\n",
       "1  (16.136, 32.102]  0.339662\n",
       "4    (64.034, 80.0]  0.090909"
      ]
     },
     "execution_count": 65,
     "metadata": {},
     "output_type": "execute_result"
    }
   ],
   "source": [
    "# Create age range and compute mean of survival by age bands\n",
    "\n",
    "combine['AgeRange'] = pd.cut(combine['Age'], 5)\n",
    "combine[['AgeRange', 'Survived']].groupby('AgeRange', as_index=False).mean().sort_values(by='Survived',ascending=False)"
   ]
  },
  {
   "cell_type": "code",
   "execution_count": 66,
   "id": "fa85f1c3",
   "metadata": {
    "execution": {
     "iopub.execute_input": "2022-09-03T20:05:32.552380Z",
     "iopub.status.busy": "2022-09-03T20:05:32.551692Z",
     "iopub.status.idle": "2022-09-03T20:05:32.564735Z",
     "shell.execute_reply": "2022-09-03T20:05:32.563661Z"
    },
    "papermill": {
     "duration": 0.056566,
     "end_time": "2022-09-03T20:05:32.567298",
     "exception": false,
     "start_time": "2022-09-03T20:05:32.510732",
     "status": "completed"
    },
    "tags": []
   },
   "outputs": [],
   "source": [
    "# Assign ordinals to each age range\n",
    "\n",
    "combine.loc[combine['Age'] <= 16.136, 'Age'] = 0\n",
    "combine.loc[(combine['Age'] > 16.136) & (combine['Age'] <= 32.102), 'Age'] = 1\n",
    "combine.loc[(combine['Age'] > 32.102) & (combine['Age'] <= 48.068), 'Age'] = 2\n",
    "combine.loc[(combine['Age'] > 48.068) & (combine['Age'] <= 64.034), 'Age'] = 3\n",
    "combine.loc[combine['Age'] > 64.034 , 'Age'] = 4"
   ]
  },
  {
   "cell_type": "code",
   "execution_count": 67,
   "id": "e3750337",
   "metadata": {
    "execution": {
     "iopub.execute_input": "2022-09-03T20:05:32.650249Z",
     "iopub.status.busy": "2022-09-03T20:05:32.649154Z",
     "iopub.status.idle": "2022-09-03T20:05:32.655400Z",
     "shell.execute_reply": "2022-09-03T20:05:32.654622Z"
    },
    "papermill": {
     "duration": 0.049381,
     "end_time": "2022-09-03T20:05:32.657603",
     "exception": false,
     "start_time": "2022-09-03T20:05:32.608222",
     "status": "completed"
    },
    "tags": []
   },
   "outputs": [],
   "source": [
    "# Drop age range feature\n",
    "\n",
    "combine = combine.drop('AgeRange', axis = 1)\n"
   ]
  },
  {
   "cell_type": "code",
   "execution_count": 68,
   "id": "9106038d",
   "metadata": {
    "execution": {
     "iopub.execute_input": "2022-09-03T20:05:32.738413Z",
     "iopub.status.busy": "2022-09-03T20:05:32.737494Z",
     "iopub.status.idle": "2022-09-03T20:05:32.744410Z",
     "shell.execute_reply": "2022-09-03T20:05:32.743168Z"
    },
    "papermill": {
     "duration": 0.049913,
     "end_time": "2022-09-03T20:05:32.746924",
     "exception": false,
     "start_time": "2022-09-03T20:05:32.697011",
     "status": "completed"
    },
    "tags": []
   },
   "outputs": [],
   "source": [
    "combine['Age'] = combine['Age'].astype('int')"
   ]
  },
  {
   "cell_type": "code",
   "execution_count": 69,
   "id": "5494c1b8",
   "metadata": {
    "execution": {
     "iopub.execute_input": "2022-09-03T20:05:32.829513Z",
     "iopub.status.busy": "2022-09-03T20:05:32.828498Z",
     "iopub.status.idle": "2022-09-03T20:05:32.841897Z",
     "shell.execute_reply": "2022-09-03T20:05:32.840895Z"
    },
    "papermill": {
     "duration": 0.057357,
     "end_time": "2022-09-03T20:05:32.844135",
     "exception": false,
     "start_time": "2022-09-03T20:05:32.786778",
     "status": "completed"
    },
    "tags": []
   },
   "outputs": [
    {
     "data": {
      "text/html": [
       "<div>\n",
       "<style scoped>\n",
       "    .dataframe tbody tr th:only-of-type {\n",
       "        vertical-align: middle;\n",
       "    }\n",
       "\n",
       "    .dataframe tbody tr th {\n",
       "        vertical-align: top;\n",
       "    }\n",
       "\n",
       "    .dataframe thead th {\n",
       "        text-align: right;\n",
       "    }\n",
       "</style>\n",
       "<table border=\"1\" class=\"dataframe\">\n",
       "  <thead>\n",
       "    <tr style=\"text-align: right;\">\n",
       "      <th></th>\n",
       "      <th>Age</th>\n",
       "      <th>Pclass</th>\n",
       "      <th>Agecode</th>\n",
       "    </tr>\n",
       "  </thead>\n",
       "  <tbody>\n",
       "    <tr>\n",
       "      <th>0</th>\n",
       "      <td>1</td>\n",
       "      <td>3</td>\n",
       "      <td>3</td>\n",
       "    </tr>\n",
       "    <tr>\n",
       "      <th>1</th>\n",
       "      <td>2</td>\n",
       "      <td>1</td>\n",
       "      <td>2</td>\n",
       "    </tr>\n",
       "    <tr>\n",
       "      <th>2</th>\n",
       "      <td>1</td>\n",
       "      <td>3</td>\n",
       "      <td>3</td>\n",
       "    </tr>\n",
       "    <tr>\n",
       "      <th>3</th>\n",
       "      <td>2</td>\n",
       "      <td>1</td>\n",
       "      <td>2</td>\n",
       "    </tr>\n",
       "    <tr>\n",
       "      <th>4</th>\n",
       "      <td>2</td>\n",
       "      <td>3</td>\n",
       "      <td>6</td>\n",
       "    </tr>\n",
       "  </tbody>\n",
       "</table>\n",
       "</div>"
      ],
      "text/plain": [
       "   Age  Pclass  Agecode\n",
       "0    1       3        3\n",
       "1    2       1        2\n",
       "2    1       3        3\n",
       "3    2       1        2\n",
       "4    2       3        6"
      ]
     },
     "execution_count": 69,
     "metadata": {},
     "output_type": "execute_result"
    }
   ],
   "source": [
    "combine['Agecode'] = combine['Age'] * combine['Pclass']\n",
    "combine[['Age', 'Pclass', 'Agecode']].head()"
   ]
  },
  {
   "cell_type": "markdown",
   "id": "a7e5a420",
   "metadata": {
    "papermill": {
     "duration": 0.039568,
     "end_time": "2022-09-03T20:05:32.923581",
     "exception": false,
     "start_time": "2022-09-03T20:05:32.884013",
     "status": "completed"
    },
    "tags": []
   },
   "source": [
    "# Encoding"
   ]
  },
  {
   "cell_type": "code",
   "execution_count": 70,
   "id": "7e3950ea",
   "metadata": {
    "execution": {
     "iopub.execute_input": "2022-09-03T20:05:33.005200Z",
     "iopub.status.busy": "2022-09-03T20:05:33.004480Z",
     "iopub.status.idle": "2022-09-03T20:05:33.027536Z",
     "shell.execute_reply": "2022-09-03T20:05:33.026474Z"
    },
    "papermill": {
     "duration": 0.066452,
     "end_time": "2022-09-03T20:05:33.029844",
     "exception": false,
     "start_time": "2022-09-03T20:05:32.963392",
     "status": "completed"
    },
    "tags": []
   },
   "outputs": [
    {
     "data": {
      "text/html": [
       "<div>\n",
       "<style scoped>\n",
       "    .dataframe tbody tr th:only-of-type {\n",
       "        vertical-align: middle;\n",
       "    }\n",
       "\n",
       "    .dataframe tbody tr th {\n",
       "        vertical-align: top;\n",
       "    }\n",
       "\n",
       "    .dataframe thead th {\n",
       "        text-align: right;\n",
       "    }\n",
       "</style>\n",
       "<table border=\"1\" class=\"dataframe\">\n",
       "  <thead>\n",
       "    <tr style=\"text-align: right;\">\n",
       "      <th></th>\n",
       "      <th>PassengerId</th>\n",
       "      <th>Survived</th>\n",
       "      <th>Pclass</th>\n",
       "      <th>Sex</th>\n",
       "      <th>Age</th>\n",
       "      <th>Fare</th>\n",
       "      <th>IsAlone</th>\n",
       "      <th>Agecode</th>\n",
       "      <th>Title_Master</th>\n",
       "      <th>Title_Miss</th>\n",
       "      <th>Title_Mr</th>\n",
       "      <th>Title_Mrs</th>\n",
       "      <th>Title_Rare</th>\n",
       "      <th>Em_C</th>\n",
       "      <th>Em_Q</th>\n",
       "      <th>Em_S</th>\n",
       "    </tr>\n",
       "  </thead>\n",
       "  <tbody>\n",
       "    <tr>\n",
       "      <th>0</th>\n",
       "      <td>1</td>\n",
       "      <td>0.0</td>\n",
       "      <td>3</td>\n",
       "      <td>1</td>\n",
       "      <td>1</td>\n",
       "      <td>1.981001</td>\n",
       "      <td>0</td>\n",
       "      <td>3</td>\n",
       "      <td>0</td>\n",
       "      <td>0</td>\n",
       "      <td>1</td>\n",
       "      <td>0</td>\n",
       "      <td>0</td>\n",
       "      <td>0</td>\n",
       "      <td>0</td>\n",
       "      <td>1</td>\n",
       "    </tr>\n",
       "    <tr>\n",
       "      <th>1</th>\n",
       "      <td>2</td>\n",
       "      <td>1.0</td>\n",
       "      <td>1</td>\n",
       "      <td>0</td>\n",
       "      <td>2</td>\n",
       "      <td>4.266662</td>\n",
       "      <td>0</td>\n",
       "      <td>2</td>\n",
       "      <td>0</td>\n",
       "      <td>0</td>\n",
       "      <td>0</td>\n",
       "      <td>1</td>\n",
       "      <td>0</td>\n",
       "      <td>1</td>\n",
       "      <td>0</td>\n",
       "      <td>0</td>\n",
       "    </tr>\n",
       "    <tr>\n",
       "      <th>2</th>\n",
       "      <td>3</td>\n",
       "      <td>1.0</td>\n",
       "      <td>3</td>\n",
       "      <td>0</td>\n",
       "      <td>1</td>\n",
       "      <td>2.070022</td>\n",
       "      <td>1</td>\n",
       "      <td>3</td>\n",
       "      <td>0</td>\n",
       "      <td>1</td>\n",
       "      <td>0</td>\n",
       "      <td>0</td>\n",
       "      <td>0</td>\n",
       "      <td>0</td>\n",
       "      <td>0</td>\n",
       "      <td>1</td>\n",
       "    </tr>\n",
       "    <tr>\n",
       "      <th>3</th>\n",
       "      <td>4</td>\n",
       "      <td>1.0</td>\n",
       "      <td>1</td>\n",
       "      <td>0</td>\n",
       "      <td>2</td>\n",
       "      <td>3.972177</td>\n",
       "      <td>0</td>\n",
       "      <td>2</td>\n",
       "      <td>0</td>\n",
       "      <td>0</td>\n",
       "      <td>0</td>\n",
       "      <td>1</td>\n",
       "      <td>0</td>\n",
       "      <td>0</td>\n",
       "      <td>0</td>\n",
       "      <td>1</td>\n",
       "    </tr>\n",
       "    <tr>\n",
       "      <th>4</th>\n",
       "      <td>5</td>\n",
       "      <td>0.0</td>\n",
       "      <td>3</td>\n",
       "      <td>1</td>\n",
       "      <td>2</td>\n",
       "      <td>2.085672</td>\n",
       "      <td>1</td>\n",
       "      <td>6</td>\n",
       "      <td>0</td>\n",
       "      <td>0</td>\n",
       "      <td>1</td>\n",
       "      <td>0</td>\n",
       "      <td>0</td>\n",
       "      <td>0</td>\n",
       "      <td>0</td>\n",
       "      <td>1</td>\n",
       "    </tr>\n",
       "  </tbody>\n",
       "</table>\n",
       "</div>"
      ],
      "text/plain": [
       "   PassengerId  Survived  Pclass  Sex  Age      Fare  IsAlone  Agecode  \\\n",
       "0            1       0.0       3    1    1  1.981001        0        3   \n",
       "1            2       1.0       1    0    2  4.266662        0        2   \n",
       "2            3       1.0       3    0    1  2.070022        1        3   \n",
       "3            4       1.0       1    0    2  3.972177        0        2   \n",
       "4            5       0.0       3    1    2  2.085672        1        6   \n",
       "\n",
       "   Title_Master  Title_Miss  Title_Mr  Title_Mrs  Title_Rare  Em_C  Em_Q  Em_S  \n",
       "0             0           0         1          0           0     0     0     1  \n",
       "1             0           0         0          1           0     1     0     0  \n",
       "2             0           1         0          0           0     0     0     1  \n",
       "3             0           0         0          1           0     0     0     1  \n",
       "4             0           0         1          0           0     0     0     1  "
      ]
     },
     "execution_count": 70,
     "metadata": {},
     "output_type": "execute_result"
    }
   ],
   "source": [
    "# Encode Title and Embarked feature\n",
    "\n",
    "combine = pd.get_dummies(combine, columns = ['Title'])\n",
    "combine = pd.get_dummies(combine, columns = ['Embarked'], prefix = 'Em')\n",
    "combine.head()"
   ]
  },
  {
   "cell_type": "code",
   "execution_count": 71,
   "id": "570cfde2",
   "metadata": {
    "execution": {
     "iopub.execute_input": "2022-09-03T20:05:33.112855Z",
     "iopub.status.busy": "2022-09-03T20:05:33.112147Z",
     "iopub.status.idle": "2022-09-03T20:05:33.130008Z",
     "shell.execute_reply": "2022-09-03T20:05:33.129176Z"
    },
    "papermill": {
     "duration": 0.061598,
     "end_time": "2022-09-03T20:05:33.132023",
     "exception": false,
     "start_time": "2022-09-03T20:05:33.070425",
     "status": "completed"
    },
    "tags": []
   },
   "outputs": [
    {
     "data": {
      "text/html": [
       "<div>\n",
       "<style scoped>\n",
       "    .dataframe tbody tr th:only-of-type {\n",
       "        vertical-align: middle;\n",
       "    }\n",
       "\n",
       "    .dataframe tbody tr th {\n",
       "        vertical-align: top;\n",
       "    }\n",
       "\n",
       "    .dataframe thead th {\n",
       "        text-align: right;\n",
       "    }\n",
       "</style>\n",
       "<table border=\"1\" class=\"dataframe\">\n",
       "  <thead>\n",
       "    <tr style=\"text-align: right;\">\n",
       "      <th></th>\n",
       "      <th>FareRange</th>\n",
       "      <th>Survived</th>\n",
       "    </tr>\n",
       "  </thead>\n",
       "  <tbody>\n",
       "    <tr>\n",
       "      <th>3</th>\n",
       "      <td>(4.679, 6.239]</td>\n",
       "      <td>0.750000</td>\n",
       "    </tr>\n",
       "    <tr>\n",
       "      <th>2</th>\n",
       "      <td>(3.119, 4.679]</td>\n",
       "      <td>0.517007</td>\n",
       "    </tr>\n",
       "    <tr>\n",
       "      <th>1</th>\n",
       "      <td>(1.56, 3.119]</td>\n",
       "      <td>0.288719</td>\n",
       "    </tr>\n",
       "    <tr>\n",
       "      <th>0</th>\n",
       "      <td>(-0.00624, 1.56]</td>\n",
       "      <td>0.062500</td>\n",
       "    </tr>\n",
       "  </tbody>\n",
       "</table>\n",
       "</div>"
      ],
      "text/plain": [
       "          FareRange  Survived\n",
       "3    (4.679, 6.239]  0.750000\n",
       "2    (3.119, 4.679]  0.517007\n",
       "1     (1.56, 3.119]  0.288719\n",
       "0  (-0.00624, 1.56]  0.062500"
      ]
     },
     "execution_count": 71,
     "metadata": {},
     "output_type": "execute_result"
    }
   ],
   "source": [
    "# Divide Fare into four range\n",
    "\n",
    "combine['FareRange'] = pd.cut(combine['Fare'], 4)\n",
    "combine[['FareRange', 'Survived']].groupby(['FareRange'], as_index=False).mean().sort_values(by='Survived',ascending=False)"
   ]
  },
  {
   "cell_type": "code",
   "execution_count": 72,
   "id": "3ffac62a",
   "metadata": {
    "execution": {
     "iopub.execute_input": "2022-09-03T20:05:33.213984Z",
     "iopub.status.busy": "2022-09-03T20:05:33.213279Z",
     "iopub.status.idle": "2022-09-03T20:05:33.222084Z",
     "shell.execute_reply": "2022-09-03T20:05:33.221221Z"
    },
    "papermill": {
     "duration": 0.052344,
     "end_time": "2022-09-03T20:05:33.224253",
     "exception": false,
     "start_time": "2022-09-03T20:05:33.171909",
     "status": "completed"
    },
    "tags": []
   },
   "outputs": [],
   "source": [
    "# Assigning ordinal to each fare range\n",
    "\n",
    "combine.loc[combine['Fare'] <= 1.56, 'Fare'] = 0\n",
    "combine.loc[(combine['Fare'] > 1.56) & (combine['Fare'] <= 3.119), 'Fare'] = 1\n",
    "combine.loc[(combine['Fare'] > 3.119) & (combine['Fare'] <= 4.679), 'Fare'] = 2\n",
    "combine.loc[combine['Fare'] > 4.679, 'Fare'] = 3"
   ]
  },
  {
   "cell_type": "code",
   "execution_count": 73,
   "id": "1db9b0bb",
   "metadata": {
    "execution": {
     "iopub.execute_input": "2022-09-03T20:05:33.308471Z",
     "iopub.status.busy": "2022-09-03T20:05:33.307783Z",
     "iopub.status.idle": "2022-09-03T20:05:33.313072Z",
     "shell.execute_reply": "2022-09-03T20:05:33.312136Z"
    },
    "papermill": {
     "duration": 0.049962,
     "end_time": "2022-09-03T20:05:33.315216",
     "exception": false,
     "start_time": "2022-09-03T20:05:33.265254",
     "status": "completed"
    },
    "tags": []
   },
   "outputs": [],
   "source": [
    "combine['Fare'] = combine['Fare'].astype('int')"
   ]
  },
  {
   "cell_type": "code",
   "execution_count": 74,
   "id": "2de07d68",
   "metadata": {
    "execution": {
     "iopub.execute_input": "2022-09-03T20:05:33.407670Z",
     "iopub.status.busy": "2022-09-03T20:05:33.406904Z",
     "iopub.status.idle": "2022-09-03T20:05:33.412810Z",
     "shell.execute_reply": "2022-09-03T20:05:33.411899Z"
    },
    "papermill": {
     "duration": 0.054166,
     "end_time": "2022-09-03T20:05:33.414861",
     "exception": false,
     "start_time": "2022-09-03T20:05:33.360695",
     "status": "completed"
    },
    "tags": []
   },
   "outputs": [],
   "source": [
    "combine = combine.drop('FareRange', axis = 1)"
   ]
  },
  {
   "cell_type": "code",
   "execution_count": 75,
   "id": "a89e552e",
   "metadata": {
    "execution": {
     "iopub.execute_input": "2022-09-03T20:05:33.497284Z",
     "iopub.status.busy": "2022-09-03T20:05:33.496578Z",
     "iopub.status.idle": "2022-09-03T20:05:33.512036Z",
     "shell.execute_reply": "2022-09-03T20:05:33.510877Z"
    },
    "papermill": {
     "duration": 0.059237,
     "end_time": "2022-09-03T20:05:33.514208",
     "exception": false,
     "start_time": "2022-09-03T20:05:33.454971",
     "status": "completed"
    },
    "tags": []
   },
   "outputs": [
    {
     "data": {
      "text/html": [
       "<div>\n",
       "<style scoped>\n",
       "    .dataframe tbody tr th:only-of-type {\n",
       "        vertical-align: middle;\n",
       "    }\n",
       "\n",
       "    .dataframe tbody tr th {\n",
       "        vertical-align: top;\n",
       "    }\n",
       "\n",
       "    .dataframe thead th {\n",
       "        text-align: right;\n",
       "    }\n",
       "</style>\n",
       "<table border=\"1\" class=\"dataframe\">\n",
       "  <thead>\n",
       "    <tr style=\"text-align: right;\">\n",
       "      <th></th>\n",
       "      <th>PassengerId</th>\n",
       "      <th>Survived</th>\n",
       "      <th>Pclass</th>\n",
       "      <th>Sex</th>\n",
       "      <th>Age</th>\n",
       "      <th>Fare</th>\n",
       "      <th>IsAlone</th>\n",
       "      <th>Agecode</th>\n",
       "      <th>Title_Master</th>\n",
       "      <th>Title_Miss</th>\n",
       "      <th>Title_Mr</th>\n",
       "      <th>Title_Mrs</th>\n",
       "      <th>Title_Rare</th>\n",
       "      <th>Em_C</th>\n",
       "      <th>Em_Q</th>\n",
       "      <th>Em_S</th>\n",
       "    </tr>\n",
       "  </thead>\n",
       "  <tbody>\n",
       "    <tr>\n",
       "      <th>0</th>\n",
       "      <td>1</td>\n",
       "      <td>0.0</td>\n",
       "      <td>3</td>\n",
       "      <td>1</td>\n",
       "      <td>1</td>\n",
       "      <td>1</td>\n",
       "      <td>0</td>\n",
       "      <td>3</td>\n",
       "      <td>0</td>\n",
       "      <td>0</td>\n",
       "      <td>1</td>\n",
       "      <td>0</td>\n",
       "      <td>0</td>\n",
       "      <td>0</td>\n",
       "      <td>0</td>\n",
       "      <td>1</td>\n",
       "    </tr>\n",
       "    <tr>\n",
       "      <th>1</th>\n",
       "      <td>2</td>\n",
       "      <td>1.0</td>\n",
       "      <td>1</td>\n",
       "      <td>0</td>\n",
       "      <td>2</td>\n",
       "      <td>2</td>\n",
       "      <td>0</td>\n",
       "      <td>2</td>\n",
       "      <td>0</td>\n",
       "      <td>0</td>\n",
       "      <td>0</td>\n",
       "      <td>1</td>\n",
       "      <td>0</td>\n",
       "      <td>1</td>\n",
       "      <td>0</td>\n",
       "      <td>0</td>\n",
       "    </tr>\n",
       "    <tr>\n",
       "      <th>2</th>\n",
       "      <td>3</td>\n",
       "      <td>1.0</td>\n",
       "      <td>3</td>\n",
       "      <td>0</td>\n",
       "      <td>1</td>\n",
       "      <td>1</td>\n",
       "      <td>1</td>\n",
       "      <td>3</td>\n",
       "      <td>0</td>\n",
       "      <td>1</td>\n",
       "      <td>0</td>\n",
       "      <td>0</td>\n",
       "      <td>0</td>\n",
       "      <td>0</td>\n",
       "      <td>0</td>\n",
       "      <td>1</td>\n",
       "    </tr>\n",
       "    <tr>\n",
       "      <th>3</th>\n",
       "      <td>4</td>\n",
       "      <td>1.0</td>\n",
       "      <td>1</td>\n",
       "      <td>0</td>\n",
       "      <td>2</td>\n",
       "      <td>2</td>\n",
       "      <td>0</td>\n",
       "      <td>2</td>\n",
       "      <td>0</td>\n",
       "      <td>0</td>\n",
       "      <td>0</td>\n",
       "      <td>1</td>\n",
       "      <td>0</td>\n",
       "      <td>0</td>\n",
       "      <td>0</td>\n",
       "      <td>1</td>\n",
       "    </tr>\n",
       "    <tr>\n",
       "      <th>4</th>\n",
       "      <td>5</td>\n",
       "      <td>0.0</td>\n",
       "      <td>3</td>\n",
       "      <td>1</td>\n",
       "      <td>2</td>\n",
       "      <td>1</td>\n",
       "      <td>1</td>\n",
       "      <td>6</td>\n",
       "      <td>0</td>\n",
       "      <td>0</td>\n",
       "      <td>1</td>\n",
       "      <td>0</td>\n",
       "      <td>0</td>\n",
       "      <td>0</td>\n",
       "      <td>0</td>\n",
       "      <td>1</td>\n",
       "    </tr>\n",
       "  </tbody>\n",
       "</table>\n",
       "</div>"
      ],
      "text/plain": [
       "   PassengerId  Survived  Pclass  Sex  Age  Fare  IsAlone  Agecode  \\\n",
       "0            1       0.0       3    1    1     1        0        3   \n",
       "1            2       1.0       1    0    2     2        0        2   \n",
       "2            3       1.0       3    0    1     1        1        3   \n",
       "3            4       1.0       1    0    2     2        0        2   \n",
       "4            5       0.0       3    1    2     1        1        6   \n",
       "\n",
       "   Title_Master  Title_Miss  Title_Mr  Title_Mrs  Title_Rare  Em_C  Em_Q  Em_S  \n",
       "0             0           0         1          0           0     0     0     1  \n",
       "1             0           0         0          1           0     1     0     0  \n",
       "2             0           1         0          0           0     0     0     1  \n",
       "3             0           0         0          1           0     0     0     1  \n",
       "4             0           0         1          0           0     0     0     1  "
      ]
     },
     "execution_count": 75,
     "metadata": {},
     "output_type": "execute_result"
    }
   ],
   "source": [
    "combine.head()"
   ]
  },
  {
   "cell_type": "code",
   "execution_count": 76,
   "id": "9fb7f836",
   "metadata": {
    "execution": {
     "iopub.execute_input": "2022-09-03T20:05:33.597769Z",
     "iopub.status.busy": "2022-09-03T20:05:33.597068Z",
     "iopub.status.idle": "2022-09-03T20:05:33.601783Z",
     "shell.execute_reply": "2022-09-03T20:05:33.600879Z"
    },
    "papermill": {
     "duration": 0.049176,
     "end_time": "2022-09-03T20:05:33.603923",
     "exception": false,
     "start_time": "2022-09-03T20:05:33.554747",
     "status": "completed"
    },
    "tags": []
   },
   "outputs": [],
   "source": [
    "traind = combine[:len(train)]\n",
    "testd = combine[len(train):]"
   ]
  },
  {
   "cell_type": "code",
   "execution_count": 77,
   "id": "39e30c8b",
   "metadata": {
    "execution": {
     "iopub.execute_input": "2022-09-03T20:05:33.686843Z",
     "iopub.status.busy": "2022-09-03T20:05:33.686168Z",
     "iopub.status.idle": "2022-09-03T20:05:33.691958Z",
     "shell.execute_reply": "2022-09-03T20:05:33.691126Z"
    },
    "papermill": {
     "duration": 0.049831,
     "end_time": "2022-09-03T20:05:33.694150",
     "exception": false,
     "start_time": "2022-09-03T20:05:33.644319",
     "status": "completed"
    },
    "tags": []
   },
   "outputs": [],
   "source": [
    "traind = traind.drop('PassengerId', axis = 1)"
   ]
  },
  {
   "cell_type": "code",
   "execution_count": 78,
   "id": "6c8fca21",
   "metadata": {
    "execution": {
     "iopub.execute_input": "2022-09-03T20:05:33.777798Z",
     "iopub.status.busy": "2022-09-03T20:05:33.777067Z",
     "iopub.status.idle": "2022-09-03T20:05:33.782600Z",
     "shell.execute_reply": "2022-09-03T20:05:33.781799Z"
    },
    "papermill": {
     "duration": 0.050029,
     "end_time": "2022-09-03T20:05:33.784770",
     "exception": false,
     "start_time": "2022-09-03T20:05:33.734741",
     "status": "completed"
    },
    "tags": []
   },
   "outputs": [],
   "source": [
    "traind['Survived'] = traind['Survived'].astype('int')"
   ]
  },
  {
   "cell_type": "code",
   "execution_count": 79,
   "id": "3ea35000",
   "metadata": {
    "execution": {
     "iopub.execute_input": "2022-09-03T20:05:33.869781Z",
     "iopub.status.busy": "2022-09-03T20:05:33.869101Z",
     "iopub.status.idle": "2022-09-03T20:05:33.874290Z",
     "shell.execute_reply": "2022-09-03T20:05:33.873550Z"
    },
    "papermill": {
     "duration": 0.051026,
     "end_time": "2022-09-03T20:05:33.876308",
     "exception": false,
     "start_time": "2022-09-03T20:05:33.825282",
     "status": "completed"
    },
    "tags": []
   },
   "outputs": [],
   "source": [
    "testd = testd.drop('Survived', axis = 1)"
   ]
  },
  {
   "cell_type": "markdown",
   "id": "04353210",
   "metadata": {
    "papermill": {
     "duration": 0.039887,
     "end_time": "2022-09-03T20:05:33.956713",
     "exception": false,
     "start_time": "2022-09-03T20:05:33.916826",
     "status": "completed"
    },
    "tags": []
   },
   "source": [
    "# Splitting Data and Training Model"
   ]
  },
  {
   "cell_type": "code",
   "execution_count": 80,
   "id": "a99ed352",
   "metadata": {
    "execution": {
     "iopub.execute_input": "2022-09-03T20:05:34.039782Z",
     "iopub.status.busy": "2022-09-03T20:05:34.039073Z",
     "iopub.status.idle": "2022-09-03T20:05:34.048001Z",
     "shell.execute_reply": "2022-09-03T20:05:34.046464Z"
    },
    "papermill": {
     "duration": 0.05344,
     "end_time": "2022-09-03T20:05:34.050521",
     "exception": false,
     "start_time": "2022-09-03T20:05:33.997081",
     "status": "completed"
    },
    "tags": []
   },
   "outputs": [
    {
     "name": "stdout",
     "output_type": "stream",
     "text": [
      "X_train shape:  (881, 14)\n",
      "Y_train shape:  (881,)\n",
      "X_test shape:  (418, 14)\n"
     ]
    }
   ],
   "source": [
    "X_train = traind.drop('Survived', axis = 1)\n",
    "Y_train = traind['Survived']\n",
    "X_test = testd.drop('PassengerId', axis = 1).copy()\n",
    "print(\"X_train shape: \", X_train.shape)\n",
    "print(\"Y_train shape: \", Y_train.shape)\n",
    "print(\"X_test shape: \", X_test.shape)"
   ]
  },
  {
   "cell_type": "code",
   "execution_count": 81,
   "id": "50424774",
   "metadata": {
    "execution": {
     "iopub.execute_input": "2022-09-03T20:05:34.134680Z",
     "iopub.status.busy": "2022-09-03T20:05:34.133959Z",
     "iopub.status.idle": "2022-09-03T20:05:34.224536Z",
     "shell.execute_reply": "2022-09-03T20:05:34.222981Z"
    },
    "papermill": {
     "duration": 0.137451,
     "end_time": "2022-09-03T20:05:34.228639",
     "exception": false,
     "start_time": "2022-09-03T20:05:34.091188",
     "status": "completed"
    },
    "tags": []
   },
   "outputs": [
    {
     "data": {
      "text/plain": [
       "80.93"
      ]
     },
     "execution_count": 81,
     "metadata": {},
     "output_type": "execute_result"
    }
   ],
   "source": [
    "#Logistic Regression\n",
    "lr=LogisticRegression()\n",
    "lr.fit(X_train,Y_train)\n",
    "pred_y=lr.predict(X_test)\n",
    "acc_lr=round(lr.score(X_train,Y_train)*100,2)\n",
    "acc_lr"
   ]
  },
  {
   "cell_type": "code",
   "execution_count": 82,
   "id": "9cc6c85e",
   "metadata": {
    "execution": {
     "iopub.execute_input": "2022-09-03T20:05:34.377820Z",
     "iopub.status.busy": "2022-09-03T20:05:34.377408Z",
     "iopub.status.idle": "2022-09-03T20:05:34.451351Z",
     "shell.execute_reply": "2022-09-03T20:05:34.450226Z"
    },
    "papermill": {
     "duration": 0.122851,
     "end_time": "2022-09-03T20:05:34.453917",
     "exception": false,
     "start_time": "2022-09-03T20:05:34.331066",
     "status": "completed"
    },
    "tags": []
   },
   "outputs": [
    {
     "data": {
      "text/plain": [
       "83.09"
      ]
     },
     "execution_count": 82,
     "metadata": {},
     "output_type": "execute_result"
    }
   ],
   "source": [
    "#SVM\n",
    "svm =SVC()\n",
    "svm.fit(X_train, Y_train)\n",
    "pred_y= svm.predict(X_test)\n",
    "acc_svm= round(svm.score(X_train, Y_train)*100,2)\n",
    "acc_svm"
   ]
  },
  {
   "cell_type": "code",
   "execution_count": 83,
   "id": "5f7fde6f",
   "metadata": {
    "execution": {
     "iopub.execute_input": "2022-09-03T20:05:34.542365Z",
     "iopub.status.busy": "2022-09-03T20:05:34.541621Z",
     "iopub.status.idle": "2022-09-03T20:05:34.600458Z",
     "shell.execute_reply": "2022-09-03T20:05:34.599406Z"
    },
    "papermill": {
     "duration": 0.107232,
     "end_time": "2022-09-03T20:05:34.603272",
     "exception": false,
     "start_time": "2022-09-03T20:05:34.496040",
     "status": "completed"
    },
    "tags": []
   },
   "outputs": [
    {
     "data": {
      "text/plain": [
       "84.79"
      ]
     },
     "execution_count": 83,
     "metadata": {},
     "output_type": "execute_result"
    }
   ],
   "source": [
    "#K-nearest neighbours (KNN)\n",
    "knn = KNeighborsClassifier(n_neighbors = 5)\n",
    "knn.fit(X_train, Y_train)\n",
    "pred_y = knn.predict(X_test)\n",
    "acc_knn = round(knn.score(X_train, Y_train) * 100, 2)\n",
    "acc_knn"
   ]
  },
  {
   "cell_type": "code",
   "execution_count": 84,
   "id": "4397b752",
   "metadata": {
    "execution": {
     "iopub.execute_input": "2022-09-03T20:05:34.687262Z",
     "iopub.status.busy": "2022-09-03T20:05:34.686540Z",
     "iopub.status.idle": "2022-09-03T20:05:34.700969Z",
     "shell.execute_reply": "2022-09-03T20:05:34.699893Z"
    },
    "papermill": {
     "duration": 0.059014,
     "end_time": "2022-09-03T20:05:34.703318",
     "exception": false,
     "start_time": "2022-09-03T20:05:34.644304",
     "status": "completed"
    },
    "tags": []
   },
   "outputs": [
    {
     "data": {
      "text/plain": [
       "79.11"
      ]
     },
     "execution_count": 84,
     "metadata": {},
     "output_type": "execute_result"
    }
   ],
   "source": [
    "#Gaussian naive bayes\n",
    "gnb = GaussianNB()\n",
    "gnb.fit(X_train, Y_train)\n",
    "Y_pred = gnb.predict(X_test)\n",
    "acc_gnb = round(gnb.score(X_train, Y_train) * 100, 2)\n",
    "acc_gnb"
   ]
  },
  {
   "cell_type": "code",
   "execution_count": 85,
   "id": "51a0b8d6",
   "metadata": {
    "execution": {
     "iopub.execute_input": "2022-09-03T20:05:34.787521Z",
     "iopub.status.busy": "2022-09-03T20:05:34.787142Z",
     "iopub.status.idle": "2022-09-03T20:05:34.804832Z",
     "shell.execute_reply": "2022-09-03T20:05:34.803545Z"
    },
    "papermill": {
     "duration": 0.06406,
     "end_time": "2022-09-03T20:05:34.808662",
     "exception": false,
     "start_time": "2022-09-03T20:05:34.744602",
     "status": "completed"
    },
    "tags": []
   },
   "outputs": [
    {
     "data": {
      "text/plain": [
       "57.43"
      ]
     },
     "execution_count": 85,
     "metadata": {},
     "output_type": "execute_result"
    }
   ],
   "source": [
    "#Perceptron\n",
    "percep = Perceptron()\n",
    "percep.fit(X_train, Y_train)\n",
    "pred_y = percep.predict(X_test)\n",
    "acc_percep = round(percep.score(X_train, Y_train) * 100, 2)\n",
    "acc_percep"
   ]
  },
  {
   "cell_type": "code",
   "execution_count": 86,
   "id": "3c9b5a31",
   "metadata": {
    "execution": {
     "iopub.execute_input": "2022-09-03T20:05:34.959256Z",
     "iopub.status.busy": "2022-09-03T20:05:34.958865Z",
     "iopub.status.idle": "2022-09-03T20:05:35.027260Z",
     "shell.execute_reply": "2022-09-03T20:05:35.025670Z"
    },
    "papermill": {
     "duration": 0.118875,
     "end_time": "2022-09-03T20:05:35.031719",
     "exception": false,
     "start_time": "2022-09-03T20:05:34.912844",
     "status": "completed"
    },
    "tags": []
   },
   "outputs": [
    {
     "data": {
      "text/plain": [
       "80.25"
      ]
     },
     "execution_count": 86,
     "metadata": {},
     "output_type": "execute_result"
    }
   ],
   "source": [
    "#Linear SVC\n",
    "linear_svc = LinearSVC()\n",
    "linear_svc.fit(X_train, Y_train)\n",
    "pred_y = linear_svc.predict(X_test)\n",
    "acc_linear_svc = round(linear_svc.score(X_train, Y_train) * 100, 2)\n",
    "acc_linear_svc"
   ]
  },
  {
   "cell_type": "code",
   "execution_count": 87,
   "id": "d2132261",
   "metadata": {
    "execution": {
     "iopub.execute_input": "2022-09-03T20:05:35.182833Z",
     "iopub.status.busy": "2022-09-03T20:05:35.182418Z",
     "iopub.status.idle": "2022-09-03T20:05:35.206534Z",
     "shell.execute_reply": "2022-09-03T20:05:35.204972Z"
    },
    "papermill": {
     "duration": 0.07452,
     "end_time": "2022-09-03T20:05:35.210668",
     "exception": false,
     "start_time": "2022-09-03T20:05:35.136148",
     "status": "completed"
    },
    "tags": []
   },
   "outputs": [
    {
     "data": {
      "text/plain": [
       "80.25"
      ]
     },
     "execution_count": 87,
     "metadata": {},
     "output_type": "execute_result"
    }
   ],
   "source": [
    "#Stochastic gradient descent\n",
    "sgd = SGDClassifier()\n",
    "sgd.fit(X_train, Y_train)\n",
    "pred_y = sgd.predict(X_test)\n",
    "acc_sgd = round(sgd.score(X_train, Y_train) * 100, 2)\n",
    "acc_sgd"
   ]
  },
  {
   "cell_type": "code",
   "execution_count": 88,
   "id": "c9f06bfd",
   "metadata": {
    "execution": {
     "iopub.execute_input": "2022-09-03T20:05:35.360536Z",
     "iopub.status.busy": "2022-09-03T20:05:35.360151Z",
     "iopub.status.idle": "2022-09-03T20:05:35.376371Z",
     "shell.execute_reply": "2022-09-03T20:05:35.375604Z"
    },
    "papermill": {
     "duration": 0.063241,
     "end_time": "2022-09-03T20:05:35.378817",
     "exception": false,
     "start_time": "2022-09-03T20:05:35.315576",
     "status": "completed"
    },
    "tags": []
   },
   "outputs": [
    {
     "data": {
      "text/plain": [
       "85.7"
      ]
     },
     "execution_count": 88,
     "metadata": {},
     "output_type": "execute_result"
    }
   ],
   "source": [
    "#Decision tree\n",
    "decision_tree = DecisionTreeClassifier()\n",
    "decision_tree.fit(X_train, Y_train)\n",
    "Y_pred = decision_tree.predict(X_test)\n",
    "acc_decision_tree = round(decision_tree.score(X_train, Y_train) * 100, 2)\n",
    "acc_decision_tree"
   ]
  },
  {
   "cell_type": "code",
   "execution_count": 89,
   "id": "0b28ff4c",
   "metadata": {
    "execution": {
     "iopub.execute_input": "2022-09-03T20:05:35.464387Z",
     "iopub.status.busy": "2022-09-03T20:05:35.463760Z",
     "iopub.status.idle": "2022-09-03T20:05:35.697067Z",
     "shell.execute_reply": "2022-09-03T20:05:35.695934Z"
    },
    "papermill": {
     "duration": 0.278503,
     "end_time": "2022-09-03T20:05:35.699356",
     "exception": false,
     "start_time": "2022-09-03T20:05:35.420853",
     "status": "completed"
    },
    "tags": []
   },
   "outputs": [
    {
     "data": {
      "text/plain": [
       "85.7"
      ]
     },
     "execution_count": 89,
     "metadata": {},
     "output_type": "execute_result"
    }
   ],
   "source": [
    "#Random forest\n",
    "random_forest = RandomForestClassifier(n_estimators = 100)\n",
    "random_forest.fit(X_train, Y_train)\n",
    "Y_pred = random_forest.predict(X_test)\n",
    "acc_random_forest = round(random_forest.score(X_train, Y_train) * 100, 2)\n",
    "acc_random_forest"
   ]
  },
  {
   "cell_type": "markdown",
   "id": "431b05a3",
   "metadata": {
    "papermill": {
     "duration": 0.041763,
     "end_time": "2022-09-03T20:05:35.782579",
     "exception": false,
     "start_time": "2022-09-03T20:05:35.740816",
     "status": "completed"
    },
    "tags": []
   },
   "source": [
    "# Accuracy Comparision"
   ]
  },
  {
   "cell_type": "code",
   "execution_count": 90,
   "id": "a46782dc",
   "metadata": {
    "execution": {
     "iopub.execute_input": "2022-09-03T20:05:35.868524Z",
     "iopub.status.busy": "2022-09-03T20:05:35.867792Z",
     "iopub.status.idle": "2022-09-03T20:05:35.881282Z",
     "shell.execute_reply": "2022-09-03T20:05:35.880147Z"
    },
    "papermill": {
     "duration": 0.05893,
     "end_time": "2022-09-03T20:05:35.883437",
     "exception": false,
     "start_time": "2022-09-03T20:05:35.824507",
     "status": "completed"
    },
    "tags": []
   },
   "outputs": [
    {
     "data": {
      "text/html": [
       "<div>\n",
       "<style scoped>\n",
       "    .dataframe tbody tr th:only-of-type {\n",
       "        vertical-align: middle;\n",
       "    }\n",
       "\n",
       "    .dataframe tbody tr th {\n",
       "        vertical-align: top;\n",
       "    }\n",
       "\n",
       "    .dataframe thead th {\n",
       "        text-align: right;\n",
       "    }\n",
       "</style>\n",
       "<table border=\"1\" class=\"dataframe\">\n",
       "  <thead>\n",
       "    <tr style=\"text-align: right;\">\n",
       "      <th></th>\n",
       "      <th>Model</th>\n",
       "      <th>Score</th>\n",
       "    </tr>\n",
       "  </thead>\n",
       "  <tbody>\n",
       "    <tr>\n",
       "      <th>0</th>\n",
       "      <td>Random Forest</td>\n",
       "      <td>85.70</td>\n",
       "    </tr>\n",
       "    <tr>\n",
       "      <th>1</th>\n",
       "      <td>Decision Tree</td>\n",
       "      <td>85.70</td>\n",
       "    </tr>\n",
       "    <tr>\n",
       "      <th>2</th>\n",
       "      <td>KNN</td>\n",
       "      <td>84.79</td>\n",
       "    </tr>\n",
       "    <tr>\n",
       "      <th>3</th>\n",
       "      <td>Support Vector Machines</td>\n",
       "      <td>83.09</td>\n",
       "    </tr>\n",
       "    <tr>\n",
       "      <th>4</th>\n",
       "      <td>Logistic Regression</td>\n",
       "      <td>80.93</td>\n",
       "    </tr>\n",
       "    <tr>\n",
       "      <th>5</th>\n",
       "      <td>Stochastic Gradient Decent</td>\n",
       "      <td>80.25</td>\n",
       "    </tr>\n",
       "    <tr>\n",
       "      <th>6</th>\n",
       "      <td>Linear SVC</td>\n",
       "      <td>80.25</td>\n",
       "    </tr>\n",
       "    <tr>\n",
       "      <th>7</th>\n",
       "      <td>Naive Bayes</td>\n",
       "      <td>79.11</td>\n",
       "    </tr>\n",
       "    <tr>\n",
       "      <th>8</th>\n",
       "      <td>Perceptron</td>\n",
       "      <td>57.43</td>\n",
       "    </tr>\n",
       "  </tbody>\n",
       "</table>\n",
       "</div>"
      ],
      "text/plain": [
       "                        Model  Score\n",
       "0               Random Forest  85.70\n",
       "1               Decision Tree  85.70\n",
       "2                         KNN  84.79\n",
       "3     Support Vector Machines  83.09\n",
       "4         Logistic Regression  80.93\n",
       "5  Stochastic Gradient Decent  80.25\n",
       "6                  Linear SVC  80.25\n",
       "7                 Naive Bayes  79.11\n",
       "8                  Perceptron  57.43"
      ]
     },
     "execution_count": 90,
     "metadata": {},
     "output_type": "execute_result"
    }
   ],
   "source": [
    "models = pd.DataFrame({'Model': ['Support Vector Machines', 'KNN', 'Logistic Regression', \n",
    "                                 'Random Forest', 'Naive Bayes', 'Perceptron', 'Stochastic Gradient Decent', \n",
    "                                 'Linear SVC', 'Decision Tree'],\n",
    "                       'Score': [acc_svm, acc_knn, acc_lr, acc_random_forest, acc_gnb, acc_percep,\n",
    "                                 acc_sgd, acc_linear_svc, acc_decision_tree]})\n",
    "\n",
    "models.sort_values(by = 'Score', ascending = False, ignore_index = True)"
   ]
  },
  {
   "cell_type": "markdown",
   "id": "367f7390",
   "metadata": {
    "papermill": {
     "duration": 0.041694,
     "end_time": "2022-09-03T20:05:35.967491",
     "exception": false,
     "start_time": "2022-09-03T20:05:35.925797",
     "status": "completed"
    },
    "tags": []
   },
   "source": [
    "# K fold Cross Validaton"
   ]
  },
  {
   "cell_type": "code",
   "execution_count": 91,
   "id": "d8a4d860",
   "metadata": {
    "execution": {
     "iopub.execute_input": "2022-09-03T20:05:36.054012Z",
     "iopub.status.busy": "2022-09-03T20:05:36.053283Z",
     "iopub.status.idle": "2022-09-03T20:05:36.061987Z",
     "shell.execute_reply": "2022-09-03T20:05:36.060861Z"
    },
    "papermill": {
     "duration": 0.055095,
     "end_time": "2022-09-03T20:05:36.064373",
     "exception": false,
     "start_time": "2022-09-03T20:05:36.009278",
     "status": "completed"
    },
    "tags": []
   },
   "outputs": [
    {
     "data": {
      "text/plain": [
       "9"
      ]
     },
     "execution_count": 91,
     "metadata": {},
     "output_type": "execute_result"
    }
   ],
   "source": [
    "# Create a list which contains classifiers \n",
    "\n",
    "classifiers = []\n",
    "classifiers.append(LogisticRegression())\n",
    "classifiers.append(SVC())\n",
    "classifiers.append(KNeighborsClassifier(n_neighbors = 5))\n",
    "classifiers.append(GaussianNB())\n",
    "classifiers.append(Perceptron())\n",
    "classifiers.append(LinearSVC())\n",
    "classifiers.append(SGDClassifier())\n",
    "classifiers.append(DecisionTreeClassifier())\n",
    "classifiers.append(RandomForestClassifier())\n",
    "\n",
    "len(classifiers)"
   ]
  },
  {
   "cell_type": "code",
   "execution_count": 92,
   "id": "c3b07e2c",
   "metadata": {
    "execution": {
     "iopub.execute_input": "2022-09-03T20:05:36.150858Z",
     "iopub.status.busy": "2022-09-03T20:05:36.150424Z",
     "iopub.status.idle": "2022-09-03T20:05:39.592618Z",
     "shell.execute_reply": "2022-09-03T20:05:39.591268Z"
    },
    "papermill": {
     "duration": 3.488911,
     "end_time": "2022-09-03T20:05:39.595699",
     "exception": false,
     "start_time": "2022-09-03T20:05:36.106788",
     "status": "completed"
    },
    "tags": []
   },
   "outputs": [],
   "source": [
    "\n",
    "cv_results = []\n",
    "for classifier in classifiers:\n",
    "    cv_results.append(cross_val_score(classifier, X_train, Y_train, scoring = 'accuracy', cv = 9))\n"
   ]
  },
  {
   "cell_type": "markdown",
   "id": "2f284ef2",
   "metadata": {
    "papermill": {
     "duration": 0.042631,
     "end_time": "2022-09-03T20:05:39.681442",
     "exception": false,
     "start_time": "2022-09-03T20:05:39.638811",
     "status": "completed"
    },
    "tags": []
   },
   "source": [
    "# Classifier cross validation"
   ]
  },
  {
   "cell_type": "code",
   "execution_count": 93,
   "id": "8c14f5e0",
   "metadata": {
    "execution": {
     "iopub.execute_input": "2022-09-03T20:05:39.767527Z",
     "iopub.status.busy": "2022-09-03T20:05:39.767114Z",
     "iopub.status.idle": "2022-09-03T20:05:39.773234Z",
     "shell.execute_reply": "2022-09-03T20:05:39.772070Z"
    },
    "papermill": {
     "duration": 0.051687,
     "end_time": "2022-09-03T20:05:39.775479",
     "exception": false,
     "start_time": "2022-09-03T20:05:39.723792",
     "status": "completed"
    },
    "tags": []
   },
   "outputs": [],
   "source": [
    "cv_mean = []\n",
    "cv_std = []\n",
    "for cv_result in cv_results:\n",
    "    cv_mean.append(cv_result.mean())\n",
    "    cv_std.append(cv_result.std())"
   ]
  },
  {
   "cell_type": "code",
   "execution_count": 94,
   "id": "5eea4e89",
   "metadata": {
    "execution": {
     "iopub.execute_input": "2022-09-03T20:05:39.863730Z",
     "iopub.status.busy": "2022-09-03T20:05:39.863020Z",
     "iopub.status.idle": "2022-09-03T20:05:39.876145Z",
     "shell.execute_reply": "2022-09-03T20:05:39.875003Z"
    },
    "papermill": {
     "duration": 0.059404,
     "end_time": "2022-09-03T20:05:39.878352",
     "exception": false,
     "start_time": "2022-09-03T20:05:39.818948",
     "status": "completed"
    },
    "tags": []
   },
   "outputs": [
    {
     "data": {
      "text/html": [
       "<div>\n",
       "<style scoped>\n",
       "    .dataframe tbody tr th:only-of-type {\n",
       "        vertical-align: middle;\n",
       "    }\n",
       "\n",
       "    .dataframe tbody tr th {\n",
       "        vertical-align: top;\n",
       "    }\n",
       "\n",
       "    .dataframe thead th {\n",
       "        text-align: right;\n",
       "    }\n",
       "</style>\n",
       "<table border=\"1\" class=\"dataframe\">\n",
       "  <thead>\n",
       "    <tr style=\"text-align: right;\">\n",
       "      <th></th>\n",
       "      <th>Cross Validation Mean</th>\n",
       "      <th>Cross Validation Std</th>\n",
       "      <th>Algorithm</th>\n",
       "    </tr>\n",
       "  </thead>\n",
       "  <tbody>\n",
       "    <tr>\n",
       "      <th>0</th>\n",
       "      <td>0.825221</td>\n",
       "      <td>0.036674</td>\n",
       "      <td>Support Vector Machines</td>\n",
       "    </tr>\n",
       "    <tr>\n",
       "      <th>1</th>\n",
       "      <td>0.818419</td>\n",
       "      <td>0.035790</td>\n",
       "      <td>KNN</td>\n",
       "    </tr>\n",
       "    <tr>\n",
       "      <th>2</th>\n",
       "      <td>0.803656</td>\n",
       "      <td>0.037999</td>\n",
       "      <td>Random Forest</td>\n",
       "    </tr>\n",
       "    <tr>\n",
       "      <th>3</th>\n",
       "      <td>0.801389</td>\n",
       "      <td>0.033221</td>\n",
       "      <td>Linear SVC</td>\n",
       "    </tr>\n",
       "    <tr>\n",
       "      <th>4</th>\n",
       "      <td>0.796842</td>\n",
       "      <td>0.032307</td>\n",
       "      <td>Logistic Regression</td>\n",
       "    </tr>\n",
       "    <tr>\n",
       "      <th>5</th>\n",
       "      <td>0.795708</td>\n",
       "      <td>0.038072</td>\n",
       "      <td>Decision Tree</td>\n",
       "    </tr>\n",
       "    <tr>\n",
       "      <th>6</th>\n",
       "      <td>0.787760</td>\n",
       "      <td>0.036140</td>\n",
       "      <td>Gausian Naive Bayes</td>\n",
       "    </tr>\n",
       "    <tr>\n",
       "      <th>7</th>\n",
       "      <td>0.784370</td>\n",
       "      <td>0.037533</td>\n",
       "      <td>Perceptron</td>\n",
       "    </tr>\n",
       "    <tr>\n",
       "      <th>8</th>\n",
       "      <td>0.770730</td>\n",
       "      <td>0.042705</td>\n",
       "      <td>Stochastic Gradient Descent</td>\n",
       "    </tr>\n",
       "  </tbody>\n",
       "</table>\n",
       "</div>"
      ],
      "text/plain": [
       "   Cross Validation Mean  Cross Validation Std                    Algorithm\n",
       "0               0.825221              0.036674      Support Vector Machines\n",
       "1               0.818419              0.035790                          KNN\n",
       "2               0.803656              0.037999                Random Forest\n",
       "3               0.801389              0.033221                   Linear SVC\n",
       "4               0.796842              0.032307          Logistic Regression\n",
       "5               0.795708              0.038072                Decision Tree\n",
       "6               0.787760              0.036140          Gausian Naive Bayes\n",
       "7               0.784370              0.037533                   Perceptron\n",
       "8               0.770730              0.042705  Stochastic Gradient Descent"
      ]
     },
     "execution_count": 94,
     "metadata": {},
     "output_type": "execute_result"
    }
   ],
   "source": [
    "cv_res = pd.DataFrame({'Cross Validation Mean': cv_mean, 'Cross Validation Std': cv_std, 'Algorithm': ['Logistic Regression', 'Support Vector Machines', 'KNN', 'Gausian Naive Bayes', 'Perceptron', 'Linear SVC', 'Stochastic Gradient Descent', 'Decision Tree', 'Random Forest']})\n",
    "cv_res.sort_values(by = 'Cross Validation Mean', ascending = False, ignore_index = True)"
   ]
  },
  {
   "cell_type": "code",
   "execution_count": 95,
   "id": "75385291",
   "metadata": {
    "execution": {
     "iopub.execute_input": "2022-09-03T20:05:39.964497Z",
     "iopub.status.busy": "2022-09-03T20:05:39.964086Z",
     "iopub.status.idle": "2022-09-03T20:05:40.226280Z",
     "shell.execute_reply": "2022-09-03T20:05:40.225395Z"
    },
    "papermill": {
     "duration": 0.308009,
     "end_time": "2022-09-03T20:05:40.228534",
     "exception": false,
     "start_time": "2022-09-03T20:05:39.920525",
     "status": "completed"
    },
    "tags": []
   },
   "outputs": [
    {
     "data": {
      "text/plain": [
       "Text(0.5, 1.0, 'Cross Validation Scores')"
      ]
     },
     "execution_count": 95,
     "metadata": {},
     "output_type": "execute_result"
    },
    {
     "data": {
      "image/png": "[encoded data removed]",
      "text/plain": [
       "<Figure size 432x288 with 1 Axes>"
      ]
     },
     "metadata": {
      "needs_background": "light"
     },
     "output_type": "display_data"
    }
   ],
   "source": [
    "sns.barplot('Cross Validation Mean', 'Algorithm', data = cv_res, order = cv_res.sort_values(by = 'Cross Validation Mean', ascending = False)['Algorithm'], palette = 'Set3', **{'xerr': cv_std})\n",
    "plt.ylabel('Algorithm')\n",
    "plt.title('Cross Validation Scores')"
   ]
  },
  {
   "cell_type": "markdown",
   "id": "134abd73",
   "metadata": {
    "papermill": {
     "duration": 0.042506,
     "end_time": "2022-09-03T20:05:40.314412",
     "exception": false,
     "start_time": "2022-09-03T20:05:40.271906",
     "status": "completed"
    },
    "tags": []
   },
   "source": [
    "# Hyperparameter tuning for SVM"
   ]
  },
  {
   "cell_type": "code",
   "execution_count": 96,
   "id": "b41ad87f",
   "metadata": {
    "execution": {
     "iopub.execute_input": "2022-09-03T20:05:40.403035Z",
     "iopub.status.busy": "2022-09-03T20:05:40.402252Z",
     "iopub.status.idle": "2022-09-03T20:05:44.947735Z",
     "shell.execute_reply": "2022-09-03T20:05:44.946624Z"
    },
    "papermill": {
     "duration": 4.592335,
     "end_time": "2022-09-03T20:05:44.950135",
     "exception": false,
     "start_time": "2022-09-03T20:05:40.357800",
     "status": "completed"
    },
    "tags": []
   },
   "outputs": [
    {
     "name": "stdout",
     "output_type": "stream",
     "text": [
      "Fitting 5 folds for each of 25 candidates, totalling 125 fits\n",
      "[CV 1/5] END ........C=0.1, gamma=1, kernel=rbf;, score=0.757 total time=   0.0s\n",
      "[CV 2/5] END ........C=0.1, gamma=1, kernel=rbf;, score=0.778 total time=   0.0s\n",
      "[CV 3/5] END ........C=0.1, gamma=1, kernel=rbf;, score=0.727 total time=   0.0s\n",
      "[CV 4/5] END ........C=0.1, gamma=1, kernel=rbf;, score=0.716 total time=   0.0s\n",
      "[CV 5/5] END ........C=0.1, gamma=1, kernel=rbf;, score=0.739 total time=   0.0s\n",
      "[CV 1/5] END ......C=0.1, gamma=0.1, kernel=rbf;, score=0.814 total time=   0.0s\n",
      "[CV 2/5] END ......C=0.1, gamma=0.1, kernel=rbf;, score=0.818 total time=   0.0s\n",
      "[CV 3/5] END ......C=0.1, gamma=0.1, kernel=rbf;, score=0.784 total time=   0.0s\n",
      "[CV 4/5] END ......C=0.1, gamma=0.1, kernel=rbf;, score=0.761 total time=   0.0s\n",
      "[CV 5/5] END ......C=0.1, gamma=0.1, kernel=rbf;, score=0.818 total time=   0.0s\n",
      "[CV 1/5] END .....C=0.1, gamma=0.01, kernel=rbf;, score=0.718 total time=   0.0s\n",
      "[CV 2/5] END .....C=0.1, gamma=0.01, kernel=rbf;, score=0.750 total time=   0.0s\n",
      "[CV 3/5] END .....C=0.1, gamma=0.01, kernel=rbf;, score=0.716 total time=   0.0s\n",
      "[CV 4/5] END .....C=0.1, gamma=0.01, kernel=rbf;, score=0.699 total time=   0.0s\n",
      "[CV 5/5] END .....C=0.1, gamma=0.01, kernel=rbf;, score=0.716 total time=   0.0s\n",
      "[CV 1/5] END ....C=0.1, gamma=0.001, kernel=rbf;, score=0.616 total time=   0.0s\n",
      "[CV 2/5] END ....C=0.1, gamma=0.001, kernel=rbf;, score=0.614 total time=   0.0s\n",
      "[CV 3/5] END ....C=0.1, gamma=0.001, kernel=rbf;, score=0.614 total time=   0.0s\n",
      "[CV 4/5] END ....C=0.1, gamma=0.001, kernel=rbf;, score=0.614 total time=   0.0s\n",
      "[CV 5/5] END ....C=0.1, gamma=0.001, kernel=rbf;, score=0.614 total time=   0.0s\n",
      "[CV 1/5] END ...C=0.1, gamma=0.0001, kernel=rbf;, score=0.616 total time=   0.0s\n",
      "[CV 2/5] END ...C=0.1, gamma=0.0001, kernel=rbf;, score=0.614 total time=   0.0s\n",
      "[CV 3/5] END ...C=0.1, gamma=0.0001, kernel=rbf;, score=0.614 total time=   0.0s\n",
      "[CV 4/5] END ...C=0.1, gamma=0.0001, kernel=rbf;, score=0.614 total time=   0.0s\n",
      "[CV 5/5] END ...C=0.1, gamma=0.0001, kernel=rbf;, score=0.614 total time=   0.0s\n",
      "[CV 1/5] END ..........C=1, gamma=1, kernel=rbf;, score=0.780 total time=   0.0s\n",
      "[CV 2/5] END ..........C=1, gamma=1, kernel=rbf;, score=0.795 total time=   0.0s\n",
      "[CV 3/5] END ..........C=1, gamma=1, kernel=rbf;, score=0.812 total time=   0.0s\n",
      "[CV 4/5] END ..........C=1, gamma=1, kernel=rbf;, score=0.784 total time=   0.0s\n",
      "[CV 5/5] END ..........C=1, gamma=1, kernel=rbf;, score=0.830 total time=   0.0s\n",
      "[CV 1/5] END ........C=1, gamma=0.1, kernel=rbf;, score=0.836 total time=   0.0s\n",
      "[CV 2/5] END ........C=1, gamma=0.1, kernel=rbf;, score=0.824 total time=   0.0s\n",
      "[CV 3/5] END ........C=1, gamma=0.1, kernel=rbf;, score=0.812 total time=   0.0s\n",
      "[CV 4/5] END ........C=1, gamma=0.1, kernel=rbf;, score=0.790 total time=   0.0s\n",
      "[CV 5/5] END ........C=1, gamma=0.1, kernel=rbf;, score=0.847 total time=   0.0s\n",
      "[CV 1/5] END .......C=1, gamma=0.01, kernel=rbf;, score=0.802 total time=   0.0s\n",
      "[CV 2/5] END .......C=1, gamma=0.01, kernel=rbf;, score=0.812 total time=   0.0s\n",
      "[CV 3/5] END .......C=1, gamma=0.01, kernel=rbf;, score=0.784 total time=   0.0s\n",
      "[CV 4/5] END .......C=1, gamma=0.01, kernel=rbf;, score=0.750 total time=   0.0s\n",
      "[CV 5/5] END .......C=1, gamma=0.01, kernel=rbf;, score=0.795 total time=   0.0s\n",
      "[CV 1/5] END ......C=1, gamma=0.001, kernel=rbf;, score=0.701 total time=   0.0s\n",
      "[CV 2/5] END ......C=1, gamma=0.001, kernel=rbf;, score=0.761 total time=   0.0s\n",
      "[CV 3/5] END ......C=1, gamma=0.001, kernel=rbf;, score=0.727 total time=   0.0s\n",
      "[CV 4/5] END ......C=1, gamma=0.001, kernel=rbf;, score=0.722 total time=   0.0s\n",
      "[CV 5/5] END ......C=1, gamma=0.001, kernel=rbf;, score=0.716 total time=   0.0s\n",
      "[CV 1/5] END .....C=1, gamma=0.0001, kernel=rbf;, score=0.616 total time=   0.0s\n",
      "[CV 2/5] END .....C=1, gamma=0.0001, kernel=rbf;, score=0.614 total time=   0.0s\n",
      "[CV 3/5] END .....C=1, gamma=0.0001, kernel=rbf;, score=0.614 total time=   0.0s\n",
      "[CV 4/5] END .....C=1, gamma=0.0001, kernel=rbf;, score=0.614 total time=   0.0s\n",
      "[CV 5/5] END .....C=1, gamma=0.0001, kernel=rbf;, score=0.614 total time=   0.0s\n",
      "[CV 1/5] END .........C=10, gamma=1, kernel=rbf;, score=0.780 total time=   0.0s\n",
      "[CV 2/5] END .........C=10, gamma=1, kernel=rbf;, score=0.795 total time=   0.0s\n",
      "[CV 3/5] END .........C=10, gamma=1, kernel=rbf;, score=0.807 total time=   0.0s\n",
      "[CV 4/5] END .........C=10, gamma=1, kernel=rbf;, score=0.784 total time=   0.0s\n",
      "[CV 5/5] END .........C=10, gamma=1, kernel=rbf;, score=0.830 total time=   0.0s\n",
      "[CV 1/5] END .......C=10, gamma=0.1, kernel=rbf;, score=0.825 total time=   0.0s\n",
      "[CV 2/5] END .......C=10, gamma=0.1, kernel=rbf;, score=0.835 total time=   0.0s\n",
      "[CV 3/5] END .......C=10, gamma=0.1, kernel=rbf;, score=0.824 total time=   0.0s\n",
      "[CV 4/5] END .......C=10, gamma=0.1, kernel=rbf;, score=0.784 total time=   0.0s\n",
      "[CV 5/5] END .......C=10, gamma=0.1, kernel=rbf;, score=0.847 total time=   0.0s\n",
      "[CV 1/5] END ......C=10, gamma=0.01, kernel=rbf;, score=0.802 total time=   0.0s\n",
      "[CV 2/5] END ......C=10, gamma=0.01, kernel=rbf;, score=0.812 total time=   0.0s\n",
      "[CV 3/5] END ......C=10, gamma=0.01, kernel=rbf;, score=0.784 total time=   0.0s\n",
      "[CV 4/5] END ......C=10, gamma=0.01, kernel=rbf;, score=0.756 total time=   0.0s\n",
      "[CV 5/5] END ......C=10, gamma=0.01, kernel=rbf;, score=0.830 total time=   0.0s\n",
      "[CV 1/5] END .....C=10, gamma=0.001, kernel=rbf;, score=0.802 total time=   0.0s\n",
      "[CV 2/5] END .....C=10, gamma=0.001, kernel=rbf;, score=0.807 total time=   0.0s\n",
      "[CV 3/5] END .....C=10, gamma=0.001, kernel=rbf;, score=0.784 total time=   0.0s\n",
      "[CV 4/5] END .....C=10, gamma=0.001, kernel=rbf;, score=0.750 total time=   0.0s\n",
      "[CV 5/5] END .....C=10, gamma=0.001, kernel=rbf;, score=0.795 total time=   0.0s\n",
      "[CV 1/5] END ....C=10, gamma=0.0001, kernel=rbf;, score=0.701 total time=   0.0s\n",
      "[CV 2/5] END ....C=10, gamma=0.0001, kernel=rbf;, score=0.761 total time=   0.0s\n",
      "[CV 3/5] END ....C=10, gamma=0.0001, kernel=rbf;, score=0.727 total time=   0.0s\n",
      "[CV 4/5] END ....C=10, gamma=0.0001, kernel=rbf;, score=0.722 total time=   0.0s\n",
      "[CV 5/5] END ....C=10, gamma=0.0001, kernel=rbf;, score=0.733 total time=   0.0s\n",
      "[CV 1/5] END ........C=100, gamma=1, kernel=rbf;, score=0.780 total time=   0.0s\n",
      "[CV 2/5] END ........C=100, gamma=1, kernel=rbf;, score=0.795 total time=   0.0s\n",
      "[CV 3/5] END ........C=100, gamma=1, kernel=rbf;, score=0.807 total time=   0.0s\n",
      "[CV 4/5] END ........C=100, gamma=1, kernel=rbf;, score=0.784 total time=   0.0s\n",
      "[CV 5/5] END ........C=100, gamma=1, kernel=rbf;, score=0.830 total time=   0.0s\n",
      "[CV 1/5] END ......C=100, gamma=0.1, kernel=rbf;, score=0.785 total time=   0.0s\n",
      "[CV 2/5] END ......C=100, gamma=0.1, kernel=rbf;, score=0.830 total time=   0.0s\n",
      "[CV 3/5] END ......C=100, gamma=0.1, kernel=rbf;, score=0.801 total time=   0.0s\n",
      "[CV 4/5] END ......C=100, gamma=0.1, kernel=rbf;, score=0.778 total time=   0.0s\n",
      "[CV 5/5] END ......C=100, gamma=0.1, kernel=rbf;, score=0.818 total time=   0.0s\n",
      "[CV 1/5] END .....C=100, gamma=0.01, kernel=rbf;, score=0.847 total time=   0.0s\n",
      "[CV 2/5] END .....C=100, gamma=0.01, kernel=rbf;, score=0.818 total time=   0.0s\n",
      "[CV 3/5] END .....C=100, gamma=0.01, kernel=rbf;, score=0.818 total time=   0.0s\n",
      "[CV 4/5] END .....C=100, gamma=0.01, kernel=rbf;, score=0.790 total time=   0.0s\n",
      "[CV 5/5] END .....C=100, gamma=0.01, kernel=rbf;, score=0.875 total time=   0.0s\n",
      "[CV 1/5] END ....C=100, gamma=0.001, kernel=rbf;, score=0.802 total time=   0.0s\n",
      "[CV 2/5] END ....C=100, gamma=0.001, kernel=rbf;, score=0.807 total time=   0.0s\n",
      "[CV 3/5] END ....C=100, gamma=0.001, kernel=rbf;, score=0.790 total time=   0.0s\n",
      "[CV 4/5] END ....C=100, gamma=0.001, kernel=rbf;, score=0.750 total time=   0.0s\n",
      "[CV 5/5] END ....C=100, gamma=0.001, kernel=rbf;, score=0.830 total time=   0.0s\n",
      "[CV 1/5] END ...C=100, gamma=0.0001, kernel=rbf;, score=0.802 total time=   0.0s\n",
      "[CV 2/5] END ...C=100, gamma=0.0001, kernel=rbf;, score=0.807 total time=   0.0s\n",
      "[CV 3/5] END ...C=100, gamma=0.0001, kernel=rbf;, score=0.784 total time=   0.0s\n",
      "[CV 4/5] END ...C=100, gamma=0.0001, kernel=rbf;, score=0.750 total time=   0.0s\n",
      "[CV 5/5] END ...C=100, gamma=0.0001, kernel=rbf;, score=0.795 total time=   0.0s\n",
      "[CV 1/5] END .......C=1000, gamma=1, kernel=rbf;, score=0.780 total time=   0.0s\n",
      "[CV 2/5] END .......C=1000, gamma=1, kernel=rbf;, score=0.795 total time=   0.0s\n",
      "[CV 3/5] END .......C=1000, gamma=1, kernel=rbf;, score=0.807 total time=   0.0s\n",
      "[CV 4/5] END .......C=1000, gamma=1, kernel=rbf;, score=0.784 total time=   0.0s\n",
      "[CV 5/5] END .......C=1000, gamma=1, kernel=rbf;, score=0.830 total time=   0.0s\n",
      "[CV 1/5] END .....C=1000, gamma=0.1, kernel=rbf;, score=0.780 total time=   0.0s\n",
      "[CV 2/5] END .....C=1000, gamma=0.1, kernel=rbf;, score=0.795 total time=   0.0s\n",
      "[CV 3/5] END .....C=1000, gamma=0.1, kernel=rbf;, score=0.801 total time=   0.0s\n",
      "[CV 4/5] END .....C=1000, gamma=0.1, kernel=rbf;, score=0.784 total time=   0.0s\n",
      "[CV 5/5] END .....C=1000, gamma=0.1, kernel=rbf;, score=0.807 total time=   0.0s\n",
      "[CV 1/5] END ....C=1000, gamma=0.01, kernel=rbf;, score=0.831 total time=   0.1s\n",
      "[CV 2/5] END ....C=1000, gamma=0.01, kernel=rbf;, score=0.835 total time=   0.2s\n",
      "[CV 3/5] END ....C=1000, gamma=0.01, kernel=rbf;, score=0.830 total time=   0.1s\n",
      "[CV 4/5] END ....C=1000, gamma=0.01, kernel=rbf;, score=0.784 total time=   0.1s\n",
      "[CV 5/5] END ....C=1000, gamma=0.01, kernel=rbf;, score=0.864 total time=   0.1s\n",
      "[CV 1/5] END ...C=1000, gamma=0.001, kernel=rbf;, score=0.802 total time=   0.0s\n",
      "[CV 2/5] END ...C=1000, gamma=0.001, kernel=rbf;, score=0.812 total time=   0.0s\n",
      "[CV 3/5] END ...C=1000, gamma=0.001, kernel=rbf;, score=0.784 total time=   0.1s\n",
      "[CV 4/5] END ...C=1000, gamma=0.001, kernel=rbf;, score=0.756 total time=   0.0s\n",
      "[CV 5/5] END ...C=1000, gamma=0.001, kernel=rbf;, score=0.824 total time=   0.0s\n",
      "[CV 1/5] END ..C=1000, gamma=0.0001, kernel=rbf;, score=0.802 total time=   0.1s\n",
      "[CV 2/5] END ..C=1000, gamma=0.0001, kernel=rbf;, score=0.807 total time=   0.0s\n",
      "[CV 3/5] END ..C=1000, gamma=0.0001, kernel=rbf;, score=0.790 total time=   0.1s\n",
      "[CV 4/5] END ..C=1000, gamma=0.0001, kernel=rbf;, score=0.750 total time=   0.1s\n",
      "[CV 5/5] END ..C=1000, gamma=0.0001, kernel=rbf;, score=0.830 total time=   0.1s\n"
     ]
    },
    {
     "data": {
      "text/plain": [
       "GridSearchCV(estimator=SVC(),\n",
       "             param_grid={'C': [0.1, 1, 10, 100, 1000],\n",
       "                         'gamma': [1, 0.1, 0.01, 0.001, 0.0001],\n",
       "                         'kernel': ['rbf']},\n",
       "             verbose=3)"
      ]
     },
     "execution_count": 96,
     "metadata": {},
     "output_type": "execute_result"
    }
   ],
   "source": [
    "param_grid = {'C': [0.1, 1, 10, 100, 1000],  \n",
    "              'gamma': [1, 0.1, 0.01, 0.001, 0.0001], \n",
    "              'kernel': ['rbf']}  \n",
    "  \n",
    "grid = GridSearchCV(SVC(), param_grid, refit = True, verbose = 3) \n",
    "\n",
    "grid.fit(X_train, Y_train) "
   ]
  },
  {
   "cell_type": "code",
   "execution_count": 97,
   "id": "a86ce597",
   "metadata": {
    "execution": {
     "iopub.execute_input": "2022-09-03T20:05:45.040966Z",
     "iopub.status.busy": "2022-09-03T20:05:45.040587Z",
     "iopub.status.idle": "2022-09-03T20:05:45.130638Z",
     "shell.execute_reply": "2022-09-03T20:05:45.129511Z"
    },
    "papermill": {
     "duration": 0.137785,
     "end_time": "2022-09-03T20:05:45.133047",
     "exception": false,
     "start_time": "2022-09-03T20:05:44.995262",
     "status": "completed"
    },
    "tags": []
   },
   "outputs": [
    {
     "data": {
      "text/plain": [
       "83.54"
      ]
     },
     "execution_count": 97,
     "metadata": {},
     "output_type": "execute_result"
    }
   ],
   "source": [
    "# Training accuracy\n",
    "\n",
    "svc = SVC(C = 100, gamma = 0.01, kernel = 'rbf')\n",
    "svc.fit(X_train, Y_train)\n",
    "Y_pred = svc.predict(X_test)\n",
    "acc_svc = round(svc.score(X_train, Y_train) * 100, 2)\n",
    "acc_svc"
   ]
  },
  {
   "cell_type": "code",
   "execution_count": 98,
   "id": "aa51706b",
   "metadata": {
    "execution": {
     "iopub.execute_input": "2022-09-03T20:05:45.222887Z",
     "iopub.status.busy": "2022-09-03T20:05:45.222472Z",
     "iopub.status.idle": "2022-09-03T20:05:45.632101Z",
     "shell.execute_reply": "2022-09-03T20:05:45.630813Z"
    },
    "papermill": {
     "duration": 0.457311,
     "end_time": "2022-09-03T20:05:45.634444",
     "exception": false,
     "start_time": "2022-09-03T20:05:45.177133",
     "status": "completed"
    },
    "tags": []
   },
   "outputs": [
    {
     "data": {
      "text/plain": [
       "0.8297242083758938"
      ]
     },
     "execution_count": 98,
     "metadata": {},
     "output_type": "execute_result"
    }
   ],
   "source": [
    "# Mean cross validation score\n",
    "\n",
    "cross_val_score(svc, X_train, Y_train, scoring = 'accuracy', cv = 10).mean()"
   ]
  },
  {
   "cell_type": "code",
   "execution_count": 99,
   "id": "004291ac",
   "metadata": {
    "execution": {
     "iopub.execute_input": "2022-09-03T20:05:45.725349Z",
     "iopub.status.busy": "2022-09-03T20:05:45.724651Z",
     "iopub.status.idle": "2022-09-03T20:05:45.732658Z",
     "shell.execute_reply": "2022-09-03T20:05:45.731648Z"
    },
    "papermill": {
     "duration": 0.056198,
     "end_time": "2022-09-03T20:05:45.734879",
     "exception": false,
     "start_time": "2022-09-03T20:05:45.678681",
     "status": "completed"
    },
    "tags": []
   },
   "outputs": [
    {
     "data": {
      "text/plain": [
       "array([0, 0, 0, 0, 1, 0, 1, 0, 1, 0, 0, 0, 1, 0, 1, 1, 0, 0, 1, 0, 0, 1,\n",
       "       1, 0, 1, 0, 1, 0, 0, 0, 0, 0, 0, 0, 0, 0, 1, 1, 0, 0, 0, 0, 0, 1,\n",
       "       1, 0, 0, 0, 1, 0, 0, 0, 1, 1, 0, 0, 0, 0, 0, 1, 0, 0, 0, 1, 1, 1,\n",
       "       1, 0, 0, 1, 1, 0, 1, 0, 1, 0, 0, 1, 0, 1, 1, 0, 0, 0, 0, 0, 1, 1,\n",
       "       1, 1, 1, 0, 1, 0, 0, 0, 1, 0, 1, 0, 1, 0, 0, 0, 1, 0, 0, 0, 0, 0,\n",
       "       0, 1, 1, 1, 1, 0, 0, 1, 0, 1, 1, 0, 1, 0, 0, 1, 0, 1, 0, 0, 0, 0,\n",
       "       0, 0, 0, 0, 0, 0, 1, 0, 0, 1, 0, 0, 0, 0, 0, 0, 0, 0, 1, 0, 0, 0,\n",
       "       0, 0, 1, 1, 0, 1, 1, 1, 1, 0, 0, 1, 0, 0, 1, 1, 0, 0, 0, 0, 0, 1,\n",
       "       1, 0, 1, 1, 0, 0, 1, 0, 1, 0, 1, 0, 0, 0, 0, 0, 1, 0, 1, 0, 1, 1,\n",
       "       0, 1, 1, 1, 0, 1, 0, 0, 0, 0, 1, 0, 0, 0, 0, 1, 0, 0, 1, 0, 1, 0,\n",
       "       1, 0, 1, 0, 1, 1, 0, 1, 0, 0, 0, 1, 0, 0, 0, 0, 0, 0, 1, 1, 1, 1,\n",
       "       0, 0, 0, 0, 1, 0, 1, 1, 1, 0, 0, 0, 0, 0, 0, 0, 1, 0, 0, 0, 1, 1,\n",
       "       0, 0, 0, 0, 1, 0, 0, 0, 1, 1, 0, 1, 0, 0, 0, 0, 1, 1, 1, 1, 1, 0,\n",
       "       0, 0, 0, 0, 0, 1, 0, 0, 0, 0, 1, 0, 0, 0, 0, 0, 0, 0, 1, 1, 0, 1,\n",
       "       0, 0, 0, 0, 0, 0, 1, 1, 0, 0, 0, 0, 0, 0, 0, 0, 1, 0, 1, 0, 0, 0,\n",
       "       1, 0, 0, 1, 0, 0, 0, 0, 0, 1, 0, 0, 0, 1, 1, 1, 0, 0, 0, 1, 1, 0,\n",
       "       0, 0, 1, 0, 1, 0, 0, 1, 0, 1, 1, 0, 1, 0, 0, 0, 1, 0, 0, 1, 0, 0,\n",
       "       1, 1, 1, 0, 0, 0, 0, 0, 1, 1, 0, 1, 0, 0, 0, 1, 0, 1, 1, 0, 0, 1,\n",
       "       0, 1, 0, 0, 1, 0, 1, 0, 0, 0, 0, 0, 1, 1, 1, 1, 1, 0, 1, 0, 0, 1])"
      ]
     },
     "execution_count": 99,
     "metadata": {},
     "output_type": "execute_result"
    }
   ],
   "source": [
    "Y_pred"
   ]
  },
  {
   "cell_type": "markdown",
   "id": "aee160e6",
   "metadata": {
    "papermill": {
     "duration": 0.043841,
     "end_time": "2022-09-03T20:05:45.823052",
     "exception": false,
     "start_time": "2022-09-03T20:05:45.779211",
     "status": "completed"
    },
    "tags": []
   },
   "source": [
    "# Preparing data for submission"
   ]
  },
  {
   "cell_type": "code",
   "execution_count": 100,
   "id": "e6bc135b",
   "metadata": {
    "execution": {
     "iopub.execute_input": "2022-09-03T20:05:45.914250Z",
     "iopub.status.busy": "2022-09-03T20:05:45.913522Z",
     "iopub.status.idle": "2022-09-03T20:05:45.919376Z",
     "shell.execute_reply": "2022-09-03T20:05:45.918629Z"
    },
    "papermill": {
     "duration": 0.053961,
     "end_time": "2022-09-03T20:05:45.921686",
     "exception": false,
     "start_time": "2022-09-03T20:05:45.867725",
     "status": "completed"
    },
    "tags": []
   },
   "outputs": [],
   "source": [
    "submit = pd.DataFrame({'PassengerId': test['PassengerId'], 'Survived': Y_pred})\n"
   ]
  },
  {
   "cell_type": "code",
   "execution_count": 101,
   "id": "531426e0",
   "metadata": {
    "execution": {
     "iopub.execute_input": "2022-09-03T20:05:46.012829Z",
     "iopub.status.busy": "2022-09-03T20:05:46.012069Z",
     "iopub.status.idle": "2022-09-03T20:05:46.020826Z",
     "shell.execute_reply": "2022-09-03T20:05:46.020011Z"
    },
    "papermill": {
     "duration": 0.057002,
     "end_time": "2022-09-03T20:05:46.023111",
     "exception": false,
     "start_time": "2022-09-03T20:05:45.966109",
     "status": "completed"
    },
    "tags": []
   },
   "outputs": [],
   "source": [
    "submit.to_csv('submission.csv',index=False)"
   ]
  },
  {
   "cell_type": "code",
   "execution_count": null,
   "id": "acaa9176",
   "metadata": {
    "papermill": {
     "duration": 0.043665,
     "end_time": "2022-09-03T20:05:46.111966",
     "exception": false,
     "start_time": "2022-09-03T20:05:46.068301",
     "status": "completed"
    },
    "tags": []
   },
   "outputs": [],
   "source": []
  }
 ],
 "metadata": {
  "kernelspec": {
   "display_name": "Python 3",
   "language": "python",
   "name": "python3"
  },
  "language_info": {
   "codemirror_mode": {
    "name": "ipython",
    "version": 3
   },
   "file_extension": ".py",
   "mimetype": "text/x-python",
   "name": "python",
   "nbconvert_exporter": "python",
   "pygments_lexer": "ipython3",
   "version": "3.7.12"
  },
  "papermill": {
   "default_parameters": {},
   "duration": 41.294804,
   "end_time": "2022-09-03T20:05:47.078177",
   "environment_variables": {},
   "exception": null,
   "input_path": "__notebook__.ipynb",
   "output_path": "__notebook__.ipynb",
   "parameters": {},
   "start_time": "2022-09-03T20:05:05.783373",
   "version": "2.3.4"
  }
 },
 "nbformat": 4,
 "nbformat_minor": 5
}
